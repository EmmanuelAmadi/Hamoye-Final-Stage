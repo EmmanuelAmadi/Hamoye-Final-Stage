{
 "cells": [
  {
   "cell_type": "markdown",
   "metadata": {},
   "source": [
    "# Project: A DECADE IN REVIEW: ANALYZING COCA-COLA'S FINANCIAL HEALTH (2009 -2019)\n",
    "## BY\n",
    "# AMADI EMMANUEL ONOCHIEM\n",
    "\n",
    "## Table of Contents\n",
    "<ul>\n",
    "<li><a href=\"#intro\">Introduction</a></li>\n",
    "<li><a href=\"#wrangling\">Data Wrangling</a></li>\n",
    "<li><a href=\"#eda\">Exploratory Data Analysis</a></li>\n",
    "<li><a href=\"#conclusions\">Conclusions</a></li>\n",
    "</ul>"
   ]
  },
  {
   "cell_type": "markdown",
   "metadata": {},
   "source": [
    "<a id='intro'></a>\n",
    "## Introduction\n",
    "\n",
    "> In this section of the report, I provided a brief introduction to the dataset to be used for analysis. At the end of this section, I described the questions that I plan on exploring over the course of the report by analyzing at least one dependent variable at a time.\n"
   ]
  },
  {
   "cell_type": "markdown",
   "metadata": {},
   "source": [
    "## The First Step was to import the necessary libraries used for data analysis"
   ]
  },
  {
   "cell_type": "code",
   "execution_count": 48,
   "metadata": {},
   "outputs": [],
   "source": [
    "# import the necessary libraries\n",
    "import numpy as np\n",
    "import pandas as pd\n",
    "import matplotlib.pyplot as plt\n",
    "import plotly.express as px\n",
    "%matplotlib inline\n",
    "import seaborn as sns"
   ]
  },
  {
   "cell_type": "markdown",
   "metadata": {},
   "source": [
    "<a id='wrangling'></a>\n",
    "## Data Wrangling and Cleaning\n"
   ]
  },
  {
   "cell_type": "markdown",
   "metadata": {},
   "source": [
    "### This stage comprised mostly of the following steps:\n",
    "- Importation of Datasets\n",
    "- Cleaning of Datasets"
   ]
  },
  {
   "cell_type": "markdown",
   "metadata": {},
   "source": [
    "The final dataset given was merged manually due to discrepancies in row elements of the individaul datasets. Since the year 2018 had the highest amount of row elements, it was used as the foundational dataset while the datasets of other years were merged to it. Therefore, the updated 2018 dataset became the primary dataset for this analysis."
   ]
  },
  {
   "cell_type": "code",
   "execution_count": 49,
   "metadata": {},
   "outputs": [
    {
     "data": {
      "text/html": [
       "<div>\n",
       "<style scoped>\n",
       "    .dataframe tbody tr th:only-of-type {\n",
       "        vertical-align: middle;\n",
       "    }\n",
       "\n",
       "    .dataframe tbody tr th {\n",
       "        vertical-align: top;\n",
       "    }\n",
       "\n",
       "    .dataframe thead th {\n",
       "        text-align: right;\n",
       "    }\n",
       "</style>\n",
       "<table border=\"1\" class=\"dataframe\">\n",
       "  <thead>\n",
       "    <tr style=\"text-align: right;\">\n",
       "      <th></th>\n",
       "      <th>CONSOLIDATED BALANCE SHEETS - USD ($) $ in Millions</th>\n",
       "      <th>Category</th>\n",
       "      <th>Dec. 31, 2009</th>\n",
       "      <th>Dec. 31, 2010</th>\n",
       "      <th>Dec. 31, 2011</th>\n",
       "      <th>Dec. 31, 2012</th>\n",
       "      <th>Dec. 31, 2013</th>\n",
       "      <th>Dec. 31, 2014</th>\n",
       "      <th>Dec. 31, 2015</th>\n",
       "      <th>Dec. 31, 2016</th>\n",
       "      <th>Dec. 31, 2017</th>\n",
       "      <th>Dec. 31, 2018</th>\n",
       "      <th>Dec. 31, 2019</th>\n",
       "    </tr>\n",
       "  </thead>\n",
       "  <tbody>\n",
       "    <tr>\n",
       "      <th>0</th>\n",
       "      <td>Cash and cash equivalents</td>\n",
       "      <td>Assets</td>\n",
       "      <td>7021</td>\n",
       "      <td>8517</td>\n",
       "      <td>12803</td>\n",
       "      <td>8442</td>\n",
       "      <td>10414</td>\n",
       "      <td>8958</td>\n",
       "      <td>7309</td>\n",
       "      <td>8555</td>\n",
       "      <td>6006</td>\n",
       "      <td>8926</td>\n",
       "      <td>6480</td>\n",
       "    </tr>\n",
       "    <tr>\n",
       "      <th>1</th>\n",
       "      <td>Short-term investments</td>\n",
       "      <td>Assets</td>\n",
       "      <td>2130</td>\n",
       "      <td>2682</td>\n",
       "      <td>1088</td>\n",
       "      <td>5017</td>\n",
       "      <td>6707</td>\n",
       "      <td>9052</td>\n",
       "      <td>8322</td>\n",
       "      <td>9595</td>\n",
       "      <td>9352</td>\n",
       "      <td>2025</td>\n",
       "      <td>1467</td>\n",
       "    </tr>\n",
       "    <tr>\n",
       "      <th>2</th>\n",
       "      <td>Marketable securities</td>\n",
       "      <td>Assets</td>\n",
       "      <td>62</td>\n",
       "      <td>138</td>\n",
       "      <td>144</td>\n",
       "      <td>3092</td>\n",
       "      <td>3147</td>\n",
       "      <td>3665</td>\n",
       "      <td>4269</td>\n",
       "      <td>4051</td>\n",
       "      <td>5317</td>\n",
       "      <td>5013</td>\n",
       "      <td>3228</td>\n",
       "    </tr>\n",
       "    <tr>\n",
       "      <th>3</th>\n",
       "      <td>Trade accounts receivable, less allowances of ...</td>\n",
       "      <td>Assets</td>\n",
       "      <td>3758</td>\n",
       "      <td>4430</td>\n",
       "      <td>4920</td>\n",
       "      <td>4759</td>\n",
       "      <td>4873</td>\n",
       "      <td>4466</td>\n",
       "      <td>3941</td>\n",
       "      <td>3856</td>\n",
       "      <td>3667</td>\n",
       "      <td>3396</td>\n",
       "      <td>3971</td>\n",
       "    </tr>\n",
       "    <tr>\n",
       "      <th>4</th>\n",
       "      <td>Inventories</td>\n",
       "      <td>Assets</td>\n",
       "      <td>2354</td>\n",
       "      <td>2650</td>\n",
       "      <td>3092</td>\n",
       "      <td>3264</td>\n",
       "      <td>3277</td>\n",
       "      <td>3100</td>\n",
       "      <td>2902</td>\n",
       "      <td>2675</td>\n",
       "      <td>2655</td>\n",
       "      <td>2766</td>\n",
       "      <td>3379</td>\n",
       "    </tr>\n",
       "    <tr>\n",
       "      <th>5</th>\n",
       "      <td>Prepaid expenses and other assets</td>\n",
       "      <td>Assets</td>\n",
       "      <td>2226</td>\n",
       "      <td>3162</td>\n",
       "      <td>3450</td>\n",
       "      <td>2781</td>\n",
       "      <td>2886</td>\n",
       "      <td>3066</td>\n",
       "      <td>2752</td>\n",
       "      <td>2481</td>\n",
       "      <td>2000</td>\n",
       "      <td>1962</td>\n",
       "      <td>1886</td>\n",
       "    </tr>\n",
       "    <tr>\n",
       "      <th>6</th>\n",
       "      <td>Assets held for sale</td>\n",
       "      <td>Assets</td>\n",
       "      <td>0</td>\n",
       "      <td>0</td>\n",
       "      <td>0</td>\n",
       "      <td>2973</td>\n",
       "      <td>0</td>\n",
       "      <td>679</td>\n",
       "      <td>3900</td>\n",
       "      <td>2797</td>\n",
       "      <td>219</td>\n",
       "      <td>0</td>\n",
       "      <td>0</td>\n",
       "    </tr>\n",
       "    <tr>\n",
       "      <th>7</th>\n",
       "      <td>Assets held for sale - discontinuing operations</td>\n",
       "      <td>Assets</td>\n",
       "      <td>0</td>\n",
       "      <td>0</td>\n",
       "      <td>0</td>\n",
       "      <td>0</td>\n",
       "      <td>0</td>\n",
       "      <td>0</td>\n",
       "      <td>0</td>\n",
       "      <td>0</td>\n",
       "      <td>7329</td>\n",
       "      <td>6546</td>\n",
       "      <td>0</td>\n",
       "    </tr>\n",
       "    <tr>\n",
       "      <th>8</th>\n",
       "      <td>EQUITY METHOD INVESTMENTS</td>\n",
       "      <td>Assets</td>\n",
       "      <td>6217</td>\n",
       "      <td>6954</td>\n",
       "      <td>7233</td>\n",
       "      <td>9216</td>\n",
       "      <td>10393</td>\n",
       "      <td>9947</td>\n",
       "      <td>12318</td>\n",
       "      <td>16260</td>\n",
       "      <td>20856</td>\n",
       "      <td>19407</td>\n",
       "      <td>19025</td>\n",
       "    </tr>\n",
       "    <tr>\n",
       "      <th>9</th>\n",
       "      <td>OTHER INVESTMENTS</td>\n",
       "      <td>Assets</td>\n",
       "      <td>538</td>\n",
       "      <td>631</td>\n",
       "      <td>1141</td>\n",
       "      <td>1232</td>\n",
       "      <td>1119</td>\n",
       "      <td>3678</td>\n",
       "      <td>3470</td>\n",
       "      <td>989</td>\n",
       "      <td>1096</td>\n",
       "      <td>867</td>\n",
       "      <td>854</td>\n",
       "    </tr>\n",
       "    <tr>\n",
       "      <th>10</th>\n",
       "      <td>OTHER ASSETS</td>\n",
       "      <td>Assets</td>\n",
       "      <td>1976</td>\n",
       "      <td>2121</td>\n",
       "      <td>3495</td>\n",
       "      <td>3585</td>\n",
       "      <td>4661</td>\n",
       "      <td>4407</td>\n",
       "      <td>4207</td>\n",
       "      <td>4248</td>\n",
       "      <td>4230</td>\n",
       "      <td>4139</td>\n",
       "      <td>6075</td>\n",
       "    </tr>\n",
       "    <tr>\n",
       "      <th>11</th>\n",
       "      <td>Deferred Tax Assets, Net, Noncurrent</td>\n",
       "      <td>Assets</td>\n",
       "      <td>0</td>\n",
       "      <td>0</td>\n",
       "      <td>0</td>\n",
       "      <td>0</td>\n",
       "      <td>0</td>\n",
       "      <td>0</td>\n",
       "      <td>0</td>\n",
       "      <td>0</td>\n",
       "      <td>330</td>\n",
       "      <td>2667</td>\n",
       "      <td>2412</td>\n",
       "    </tr>\n",
       "    <tr>\n",
       "      <th>12</th>\n",
       "      <td>PROPERTY, PLANT AND EQUIPMENT - net</td>\n",
       "      <td>Assets</td>\n",
       "      <td>9561</td>\n",
       "      <td>14727</td>\n",
       "      <td>14939</td>\n",
       "      <td>14476</td>\n",
       "      <td>14967</td>\n",
       "      <td>14633</td>\n",
       "      <td>12571</td>\n",
       "      <td>10635</td>\n",
       "      <td>8203</td>\n",
       "      <td>8232</td>\n",
       "      <td>10838</td>\n",
       "    </tr>\n",
       "    <tr>\n",
       "      <th>13</th>\n",
       "      <td>TRADEMARKS WITH INDEFINITE LIVES</td>\n",
       "      <td>Assets</td>\n",
       "      <td>6183</td>\n",
       "      <td>6356</td>\n",
       "      <td>6430</td>\n",
       "      <td>6527</td>\n",
       "      <td>6744</td>\n",
       "      <td>6533</td>\n",
       "      <td>5989</td>\n",
       "      <td>6097</td>\n",
       "      <td>6729</td>\n",
       "      <td>6682</td>\n",
       "      <td>9266</td>\n",
       "    </tr>\n",
       "    <tr>\n",
       "      <th>14</th>\n",
       "      <td>BOTTLERS' FRANCHISE RIGHTS WITH INDEFINITE LIVES</td>\n",
       "      <td>Assets</td>\n",
       "      <td>1953</td>\n",
       "      <td>7511</td>\n",
       "      <td>7770</td>\n",
       "      <td>7405</td>\n",
       "      <td>7415</td>\n",
       "      <td>6689</td>\n",
       "      <td>6000</td>\n",
       "      <td>3676</td>\n",
       "      <td>138</td>\n",
       "      <td>51</td>\n",
       "      <td>109</td>\n",
       "    </tr>\n",
       "    <tr>\n",
       "      <th>15</th>\n",
       "      <td>GOODWILL</td>\n",
       "      <td>Assets</td>\n",
       "      <td>4224</td>\n",
       "      <td>11665</td>\n",
       "      <td>12219</td>\n",
       "      <td>12255</td>\n",
       "      <td>12312</td>\n",
       "      <td>12100</td>\n",
       "      <td>11289</td>\n",
       "      <td>10629</td>\n",
       "      <td>9401</td>\n",
       "      <td>10263</td>\n",
       "      <td>16764</td>\n",
       "    </tr>\n",
       "    <tr>\n",
       "      <th>16</th>\n",
       "      <td>OTHER INTANGIBLE ASSETS</td>\n",
       "      <td>Assets</td>\n",
       "      <td>468</td>\n",
       "      <td>1377</td>\n",
       "      <td>1250</td>\n",
       "      <td>1150</td>\n",
       "      <td>1140</td>\n",
       "      <td>1050</td>\n",
       "      <td>854</td>\n",
       "      <td>726</td>\n",
       "      <td>368</td>\n",
       "      <td>274</td>\n",
       "      <td>627</td>\n",
       "    </tr>\n",
       "    <tr>\n",
       "      <th>17</th>\n",
       "      <td>Accounts payable and accrued expenses</td>\n",
       "      <td>Liabilities</td>\n",
       "      <td>6657</td>\n",
       "      <td>8859</td>\n",
       "      <td>9009</td>\n",
       "      <td>8680</td>\n",
       "      <td>9577</td>\n",
       "      <td>9234</td>\n",
       "      <td>9660</td>\n",
       "      <td>9490</td>\n",
       "      <td>8748</td>\n",
       "      <td>8932</td>\n",
       "      <td>11312</td>\n",
       "    </tr>\n",
       "    <tr>\n",
       "      <th>18</th>\n",
       "      <td>Notes and Loans Payable, Current</td>\n",
       "      <td>Liabilities</td>\n",
       "      <td>6749</td>\n",
       "      <td>8100</td>\n",
       "      <td>12871</td>\n",
       "      <td>16297</td>\n",
       "      <td>16901</td>\n",
       "      <td>19130</td>\n",
       "      <td>13129</td>\n",
       "      <td>12498</td>\n",
       "      <td>13205</td>\n",
       "      <td>13194</td>\n",
       "      <td>10994</td>\n",
       "    </tr>\n",
       "    <tr>\n",
       "      <th>19</th>\n",
       "      <td>Current maturities of long-term debt</td>\n",
       "      <td>Liabilities</td>\n",
       "      <td>51</td>\n",
       "      <td>1276</td>\n",
       "      <td>2041</td>\n",
       "      <td>1577</td>\n",
       "      <td>1024</td>\n",
       "      <td>3552</td>\n",
       "      <td>2677</td>\n",
       "      <td>3527</td>\n",
       "      <td>3298</td>\n",
       "      <td>4997</td>\n",
       "      <td>4253</td>\n",
       "    </tr>\n",
       "    <tr>\n",
       "      <th>20</th>\n",
       "      <td>Accrued income taxes</td>\n",
       "      <td>Liabilities</td>\n",
       "      <td>264</td>\n",
       "      <td>273</td>\n",
       "      <td>362</td>\n",
       "      <td>471</td>\n",
       "      <td>309</td>\n",
       "      <td>400</td>\n",
       "      <td>331</td>\n",
       "      <td>307</td>\n",
       "      <td>410</td>\n",
       "      <td>378</td>\n",
       "      <td>414</td>\n",
       "    </tr>\n",
       "    <tr>\n",
       "      <th>21</th>\n",
       "      <td>Liabilities held for sale</td>\n",
       "      <td>Liabilities</td>\n",
       "      <td>0</td>\n",
       "      <td>0</td>\n",
       "      <td>0</td>\n",
       "      <td>796</td>\n",
       "      <td>0</td>\n",
       "      <td>58</td>\n",
       "      <td>1133</td>\n",
       "      <td>710</td>\n",
       "      <td>37</td>\n",
       "      <td>0</td>\n",
       "      <td>0</td>\n",
       "    </tr>\n",
       "    <tr>\n",
       "      <th>22</th>\n",
       "      <td>Liabilities Held for Sale, Discontinued Operat...</td>\n",
       "      <td>Liabilities</td>\n",
       "      <td>0</td>\n",
       "      <td>0</td>\n",
       "      <td>0</td>\n",
       "      <td>0</td>\n",
       "      <td>0</td>\n",
       "      <td>0</td>\n",
       "      <td>0</td>\n",
       "      <td>0</td>\n",
       "      <td>1496</td>\n",
       "      <td>1722</td>\n",
       "      <td>0</td>\n",
       "    </tr>\n",
       "    <tr>\n",
       "      <th>23</th>\n",
       "      <td>LONG-TERM DEBT</td>\n",
       "      <td>Liabilities</td>\n",
       "      <td>5059</td>\n",
       "      <td>14041</td>\n",
       "      <td>13656</td>\n",
       "      <td>14736</td>\n",
       "      <td>19154</td>\n",
       "      <td>19063</td>\n",
       "      <td>28407</td>\n",
       "      <td>29684</td>\n",
       "      <td>31182</td>\n",
       "      <td>25364</td>\n",
       "      <td>27516</td>\n",
       "    </tr>\n",
       "    <tr>\n",
       "      <th>24</th>\n",
       "      <td>OTHER LIABILITIES</td>\n",
       "      <td>Liabilities</td>\n",
       "      <td>2965</td>\n",
       "      <td>4794</td>\n",
       "      <td>5420</td>\n",
       "      <td>5468</td>\n",
       "      <td>3498</td>\n",
       "      <td>4389</td>\n",
       "      <td>4301</td>\n",
       "      <td>4081</td>\n",
       "      <td>8021</td>\n",
       "      <td>7638</td>\n",
       "      <td>8510</td>\n",
       "    </tr>\n",
       "    <tr>\n",
       "      <th>25</th>\n",
       "      <td>DEFERRED INCOME TAXES</td>\n",
       "      <td>Liabilities</td>\n",
       "      <td>1580</td>\n",
       "      <td>4261</td>\n",
       "      <td>4694</td>\n",
       "      <td>4981</td>\n",
       "      <td>6152</td>\n",
       "      <td>5636</td>\n",
       "      <td>4691</td>\n",
       "      <td>3753</td>\n",
       "      <td>2522</td>\n",
       "      <td>1933</td>\n",
       "      <td>2284</td>\n",
       "    </tr>\n",
       "    <tr>\n",
       "      <th>26</th>\n",
       "      <td>Common stock, $0.25 par value; Authorized — 11...</td>\n",
       "      <td>Equity</td>\n",
       "      <td>880</td>\n",
       "      <td>880</td>\n",
       "      <td>880</td>\n",
       "      <td>1760</td>\n",
       "      <td>1760</td>\n",
       "      <td>1760</td>\n",
       "      <td>1760</td>\n",
       "      <td>1760</td>\n",
       "      <td>1760</td>\n",
       "      <td>1760</td>\n",
       "      <td>1760</td>\n",
       "    </tr>\n",
       "    <tr>\n",
       "      <th>27</th>\n",
       "      <td>Capital surplus</td>\n",
       "      <td>Equity</td>\n",
       "      <td>8537</td>\n",
       "      <td>10057</td>\n",
       "      <td>11212</td>\n",
       "      <td>11379</td>\n",
       "      <td>12276</td>\n",
       "      <td>13154</td>\n",
       "      <td>14016</td>\n",
       "      <td>14993</td>\n",
       "      <td>15864</td>\n",
       "      <td>16520</td>\n",
       "      <td>17154</td>\n",
       "    </tr>\n",
       "    <tr>\n",
       "      <th>28</th>\n",
       "      <td>Reinvested earnings</td>\n",
       "      <td>Equity</td>\n",
       "      <td>41537</td>\n",
       "      <td>49278</td>\n",
       "      <td>53550</td>\n",
       "      <td>58045</td>\n",
       "      <td>61660</td>\n",
       "      <td>63408</td>\n",
       "      <td>65018</td>\n",
       "      <td>65502</td>\n",
       "      <td>60430</td>\n",
       "      <td>63234</td>\n",
       "      <td>65855</td>\n",
       "    </tr>\n",
       "    <tr>\n",
       "      <th>29</th>\n",
       "      <td>Accumulated other comprehensive income (loss)</td>\n",
       "      <td>Equity</td>\n",
       "      <td>757</td>\n",
       "      <td>1450</td>\n",
       "      <td>2703</td>\n",
       "      <td>3385</td>\n",
       "      <td>3432</td>\n",
       "      <td>5777</td>\n",
       "      <td>10174</td>\n",
       "      <td>11205</td>\n",
       "      <td>10305</td>\n",
       "      <td>12814</td>\n",
       "      <td>13544</td>\n",
       "    </tr>\n",
       "    <tr>\n",
       "      <th>30</th>\n",
       "      <td>Treasury stock, at cost — 2,772 and 2,781 shar...</td>\n",
       "      <td>Equity</td>\n",
       "      <td>25398</td>\n",
       "      <td>27762</td>\n",
       "      <td>31304</td>\n",
       "      <td>35009</td>\n",
       "      <td>39091</td>\n",
       "      <td>42225</td>\n",
       "      <td>45066</td>\n",
       "      <td>47988</td>\n",
       "      <td>50677</td>\n",
       "      <td>51719</td>\n",
       "      <td>52244</td>\n",
       "    </tr>\n",
       "    <tr>\n",
       "      <th>31</th>\n",
       "      <td>EQUITY ATTRIBUTABLE TO SHAREOWNERS OF THE COCA...</td>\n",
       "      <td>Equity</td>\n",
       "      <td>24799</td>\n",
       "      <td>31003</td>\n",
       "      <td>31635</td>\n",
       "      <td>32790</td>\n",
       "      <td>33173</td>\n",
       "      <td>30320</td>\n",
       "      <td>25554</td>\n",
       "      <td>23062</td>\n",
       "      <td>17072</td>\n",
       "      <td>16981</td>\n",
       "      <td>18981</td>\n",
       "    </tr>\n",
       "    <tr>\n",
       "      <th>32</th>\n",
       "      <td>EQUITY ATTRIBUTABLE TO NONCONTROLLING INTERESTS</td>\n",
       "      <td>Equity</td>\n",
       "      <td>547</td>\n",
       "      <td>314</td>\n",
       "      <td>286</td>\n",
       "      <td>378</td>\n",
       "      <td>267</td>\n",
       "      <td>241</td>\n",
       "      <td>210</td>\n",
       "      <td>158</td>\n",
       "      <td>1905</td>\n",
       "      <td>2077</td>\n",
       "      <td>2117</td>\n",
       "    </tr>\n",
       "  </tbody>\n",
       "</table>\n",
       "</div>"
      ],
      "text/plain": [
       "   CONSOLIDATED BALANCE SHEETS - USD ($) $ in Millions     Category  \\\n",
       "0                           Cash and cash equivalents        Assets   \n",
       "1                              Short-term investments        Assets   \n",
       "2                               Marketable securities        Assets   \n",
       "3   Trade accounts receivable, less allowances of ...        Assets   \n",
       "4                                         Inventories        Assets   \n",
       "5                   Prepaid expenses and other assets        Assets   \n",
       "6                                Assets held for sale        Assets   \n",
       "7     Assets held for sale - discontinuing operations        Assets   \n",
       "8                           EQUITY METHOD INVESTMENTS        Assets   \n",
       "9                                   OTHER INVESTMENTS        Assets   \n",
       "10                                       OTHER ASSETS        Assets   \n",
       "11               Deferred Tax Assets, Net, Noncurrent        Assets   \n",
       "12                PROPERTY, PLANT AND EQUIPMENT - net        Assets   \n",
       "13                   TRADEMARKS WITH INDEFINITE LIVES        Assets   \n",
       "14   BOTTLERS' FRANCHISE RIGHTS WITH INDEFINITE LIVES        Assets   \n",
       "15                                           GOODWILL        Assets   \n",
       "16                            OTHER INTANGIBLE ASSETS        Assets   \n",
       "17              Accounts payable and accrued expenses   Liabilities   \n",
       "18                   Notes and Loans Payable, Current   Liabilities   \n",
       "19               Current maturities of long-term debt   Liabilities   \n",
       "20                               Accrued income taxes   Liabilities   \n",
       "21                          Liabilities held for sale   Liabilities   \n",
       "22  Liabilities Held for Sale, Discontinued Operat...   Liabilities   \n",
       "23                                     LONG-TERM DEBT   Liabilities   \n",
       "24                                  OTHER LIABILITIES   Liabilities   \n",
       "25                              DEFERRED INCOME TAXES   Liabilities   \n",
       "26  Common stock, $0.25 par value; Authorized — 11...        Equity   \n",
       "27                                    Capital surplus        Equity   \n",
       "28                                Reinvested earnings        Equity   \n",
       "29      Accumulated other comprehensive income (loss)        Equity   \n",
       "30  Treasury stock, at cost — 2,772 and 2,781 shar...        Equity   \n",
       "31  EQUITY ATTRIBUTABLE TO SHAREOWNERS OF THE COCA...        Equity   \n",
       "32    EQUITY ATTRIBUTABLE TO NONCONTROLLING INTERESTS        Equity   \n",
       "\n",
       "    Dec. 31, 2009  Dec. 31, 2010  Dec. 31, 2011  Dec. 31, 2012  Dec. 31, 2013  \\\n",
       "0            7021           8517          12803           8442          10414   \n",
       "1            2130           2682           1088           5017           6707   \n",
       "2              62            138            144           3092           3147   \n",
       "3            3758           4430           4920           4759           4873   \n",
       "4            2354           2650           3092           3264           3277   \n",
       "5            2226           3162           3450           2781           2886   \n",
       "6               0              0              0           2973              0   \n",
       "7               0              0              0              0              0   \n",
       "8            6217           6954           7233           9216          10393   \n",
       "9             538            631           1141           1232           1119   \n",
       "10           1976           2121           3495           3585           4661   \n",
       "11              0              0              0              0              0   \n",
       "12           9561          14727          14939          14476          14967   \n",
       "13           6183           6356           6430           6527           6744   \n",
       "14           1953           7511           7770           7405           7415   \n",
       "15           4224          11665          12219          12255          12312   \n",
       "16            468           1377           1250           1150           1140   \n",
       "17           6657           8859           9009           8680           9577   \n",
       "18           6749           8100          12871          16297          16901   \n",
       "19             51           1276           2041           1577           1024   \n",
       "20            264            273            362            471            309   \n",
       "21              0              0              0            796              0   \n",
       "22              0              0              0              0              0   \n",
       "23           5059          14041          13656          14736          19154   \n",
       "24           2965           4794           5420           5468           3498   \n",
       "25           1580           4261           4694           4981           6152   \n",
       "26            880            880            880           1760           1760   \n",
       "27           8537          10057          11212          11379          12276   \n",
       "28          41537          49278          53550          58045          61660   \n",
       "29            757           1450           2703           3385           3432   \n",
       "30          25398          27762          31304          35009          39091   \n",
       "31          24799          31003          31635          32790          33173   \n",
       "32            547            314            286            378            267   \n",
       "\n",
       "    Dec. 31, 2014  Dec. 31, 2015  Dec. 31, 2016  Dec. 31, 2017  Dec. 31, 2018  \\\n",
       "0            8958           7309           8555           6006           8926   \n",
       "1            9052           8322           9595           9352           2025   \n",
       "2            3665           4269           4051           5317           5013   \n",
       "3            4466           3941           3856           3667           3396   \n",
       "4            3100           2902           2675           2655           2766   \n",
       "5            3066           2752           2481           2000           1962   \n",
       "6             679           3900           2797            219              0   \n",
       "7               0              0              0           7329           6546   \n",
       "8            9947          12318          16260          20856          19407   \n",
       "9            3678           3470            989           1096            867   \n",
       "10           4407           4207           4248           4230           4139   \n",
       "11              0              0              0            330           2667   \n",
       "12          14633          12571          10635           8203           8232   \n",
       "13           6533           5989           6097           6729           6682   \n",
       "14           6689           6000           3676            138             51   \n",
       "15          12100          11289          10629           9401          10263   \n",
       "16           1050            854            726            368            274   \n",
       "17           9234           9660           9490           8748           8932   \n",
       "18          19130          13129          12498          13205          13194   \n",
       "19           3552           2677           3527           3298           4997   \n",
       "20            400            331            307            410            378   \n",
       "21             58           1133            710             37              0   \n",
       "22              0              0              0           1496           1722   \n",
       "23          19063          28407          29684          31182          25364   \n",
       "24           4389           4301           4081           8021           7638   \n",
       "25           5636           4691           3753           2522           1933   \n",
       "26           1760           1760           1760           1760           1760   \n",
       "27          13154          14016          14993          15864          16520   \n",
       "28          63408          65018          65502          60430          63234   \n",
       "29           5777          10174          11205          10305          12814   \n",
       "30          42225          45066          47988          50677          51719   \n",
       "31          30320          25554          23062          17072          16981   \n",
       "32            241            210            158           1905           2077   \n",
       "\n",
       "    Dec. 31, 2019  \n",
       "0            6480  \n",
       "1            1467  \n",
       "2            3228  \n",
       "3            3971  \n",
       "4            3379  \n",
       "5            1886  \n",
       "6               0  \n",
       "7               0  \n",
       "8           19025  \n",
       "9             854  \n",
       "10           6075  \n",
       "11           2412  \n",
       "12          10838  \n",
       "13           9266  \n",
       "14            109  \n",
       "15          16764  \n",
       "16            627  \n",
       "17          11312  \n",
       "18          10994  \n",
       "19           4253  \n",
       "20            414  \n",
       "21              0  \n",
       "22              0  \n",
       "23          27516  \n",
       "24           8510  \n",
       "25           2284  \n",
       "26           1760  \n",
       "27          17154  \n",
       "28          65855  \n",
       "29          13544  \n",
       "30          52244  \n",
       "31          18981  \n",
       "32           2117  "
      ]
     },
     "execution_count": 49,
     "metadata": {},
     "output_type": "execute_result"
    }
   ],
   "source": [
    "# The dataset was imported for cleaning\n",
    "data = pd.read_excel('Financial_Report 2018.xlsx', sheet_name = 'CONSOLIDATED BALANCE SHEETS')\n",
    "data"
   ]
  },
  {
   "cell_type": "markdown",
   "metadata": {},
   "source": [
    "\n",
    "#### Data Cleaning was done as follows:"
   ]
  },
  {
   "cell_type": "code",
   "execution_count": 50,
   "metadata": {},
   "outputs": [
    {
     "data": {
      "text/plain": [
       "(33, 13)"
      ]
     },
     "execution_count": 50,
     "metadata": {},
     "output_type": "execute_result"
    }
   ],
   "source": [
    "# check shape of dataset to note the number of rows and columns\n",
    "data.shape"
   ]
  },
  {
   "cell_type": "code",
   "execution_count": 51,
   "metadata": {},
   "outputs": [
    {
     "name": "stdout",
     "output_type": "stream",
     "text": [
      "<class 'pandas.core.frame.DataFrame'>\n",
      "RangeIndex: 33 entries, 0 to 32\n",
      "Data columns (total 13 columns):\n",
      " #   Column                                               Non-Null Count  Dtype \n",
      "---  ------                                               --------------  ----- \n",
      " 0   CONSOLIDATED BALANCE SHEETS - USD ($) $ in Millions  33 non-null     object\n",
      " 1   Category                                             33 non-null     object\n",
      " 2   Dec. 31, 2009                                        33 non-null     int64 \n",
      " 3   Dec. 31, 2010                                        33 non-null     int64 \n",
      " 4   Dec. 31, 2011                                        33 non-null     int64 \n",
      " 5   Dec. 31, 2012                                        33 non-null     int64 \n",
      " 6   Dec. 31, 2013                                        33 non-null     int64 \n",
      " 7   Dec. 31, 2014                                        33 non-null     int64 \n",
      " 8   Dec. 31, 2015                                        33 non-null     int64 \n",
      " 9   Dec. 31, 2016                                        33 non-null     int64 \n",
      " 10  Dec. 31, 2017                                        33 non-null     int64 \n",
      " 11  Dec. 31, 2018                                        33 non-null     int64 \n",
      " 12  Dec. 31, 2019                                        33 non-null     int64 \n",
      "dtypes: int64(11), object(2)\n",
      "memory usage: 3.5+ KB\n"
     ]
    }
   ],
   "source": [
    "# check for the datatype of the columns \n",
    "data.info()"
   ]
  },
  {
   "cell_type": "code",
   "execution_count": 52,
   "metadata": {},
   "outputs": [
    {
     "data": {
      "text/html": [
       "<div>\n",
       "<style scoped>\n",
       "    .dataframe tbody tr th:only-of-type {\n",
       "        vertical-align: middle;\n",
       "    }\n",
       "\n",
       "    .dataframe tbody tr th {\n",
       "        vertical-align: top;\n",
       "    }\n",
       "\n",
       "    .dataframe thead th {\n",
       "        text-align: right;\n",
       "    }\n",
       "</style>\n",
       "<table border=\"1\" class=\"dataframe\">\n",
       "  <thead>\n",
       "    <tr style=\"text-align: right;\">\n",
       "      <th></th>\n",
       "      <th>Dec. 31, 2009</th>\n",
       "      <th>Dec. 31, 2010</th>\n",
       "      <th>Dec. 31, 2011</th>\n",
       "      <th>Dec. 31, 2012</th>\n",
       "      <th>Dec. 31, 2013</th>\n",
       "      <th>Dec. 31, 2014</th>\n",
       "      <th>Dec. 31, 2015</th>\n",
       "      <th>Dec. 31, 2016</th>\n",
       "      <th>Dec. 31, 2017</th>\n",
       "      <th>Dec. 31, 2018</th>\n",
       "      <th>Dec. 31, 2019</th>\n",
       "    </tr>\n",
       "  </thead>\n",
       "  <tbody>\n",
       "    <tr>\n",
       "      <th>count</th>\n",
       "      <td>33.000000</td>\n",
       "      <td>33.000000</td>\n",
       "      <td>33.000000</td>\n",
       "      <td>33.000000</td>\n",
       "      <td>33.000000</td>\n",
       "      <td>33.000000</td>\n",
       "      <td>33.000000</td>\n",
       "      <td>33.000000</td>\n",
       "      <td>33.000000</td>\n",
       "      <td>33.000000</td>\n",
       "      <td>33.000000</td>\n",
       "    </tr>\n",
       "    <tr>\n",
       "      <th>mean</th>\n",
       "      <td>5286.393939</td>\n",
       "      <td>7129.363636</td>\n",
       "      <td>7866.575758</td>\n",
       "      <td>8543.212121</td>\n",
       "      <td>9040.272727</td>\n",
       "      <td>9405.151515</td>\n",
       "      <td>9582.424242</td>\n",
       "      <td>9575.393939</td>\n",
       "      <td>9540.242424</td>\n",
       "      <td>9469.060606</td>\n",
       "      <td>9797.545455</td>\n",
       "    </tr>\n",
       "    <tr>\n",
       "      <th>std</th>\n",
       "      <td>8904.557144</td>\n",
       "      <td>10595.456001</td>\n",
       "      <td>11431.108422</td>\n",
       "      <td>12164.849664</td>\n",
       "      <td>13121.013228</td>\n",
       "      <td>13331.966561</td>\n",
       "      <td>13730.810669</td>\n",
       "      <td>14144.917143</td>\n",
       "      <td>13767.015835</td>\n",
       "      <td>13951.894163</td>\n",
       "      <td>14600.368176</td>\n",
       "    </tr>\n",
       "    <tr>\n",
       "      <th>min</th>\n",
       "      <td>0.000000</td>\n",
       "      <td>0.000000</td>\n",
       "      <td>0.000000</td>\n",
       "      <td>0.000000</td>\n",
       "      <td>0.000000</td>\n",
       "      <td>0.000000</td>\n",
       "      <td>0.000000</td>\n",
       "      <td>0.000000</td>\n",
       "      <td>37.000000</td>\n",
       "      <td>0.000000</td>\n",
       "      <td>0.000000</td>\n",
       "    </tr>\n",
       "    <tr>\n",
       "      <th>25%</th>\n",
       "      <td>468.000000</td>\n",
       "      <td>631.000000</td>\n",
       "      <td>880.000000</td>\n",
       "      <td>1577.000000</td>\n",
       "      <td>1119.000000</td>\n",
       "      <td>1760.000000</td>\n",
       "      <td>2677.000000</td>\n",
       "      <td>1760.000000</td>\n",
       "      <td>1760.000000</td>\n",
       "      <td>1933.000000</td>\n",
       "      <td>1467.000000</td>\n",
       "    </tr>\n",
       "    <tr>\n",
       "      <th>50%</th>\n",
       "      <td>2130.000000</td>\n",
       "      <td>3162.000000</td>\n",
       "      <td>3495.000000</td>\n",
       "      <td>4759.000000</td>\n",
       "      <td>4661.000000</td>\n",
       "      <td>4466.000000</td>\n",
       "      <td>4301.000000</td>\n",
       "      <td>4051.000000</td>\n",
       "      <td>5317.000000</td>\n",
       "      <td>4997.000000</td>\n",
       "      <td>3971.000000</td>\n",
       "    </tr>\n",
       "    <tr>\n",
       "      <th>75%</th>\n",
       "      <td>6217.000000</td>\n",
       "      <td>8517.000000</td>\n",
       "      <td>11212.000000</td>\n",
       "      <td>9216.000000</td>\n",
       "      <td>10414.000000</td>\n",
       "      <td>9947.000000</td>\n",
       "      <td>11289.000000</td>\n",
       "      <td>10635.000000</td>\n",
       "      <td>9401.000000</td>\n",
       "      <td>10263.000000</td>\n",
       "      <td>11312.000000</td>\n",
       "    </tr>\n",
       "    <tr>\n",
       "      <th>max</th>\n",
       "      <td>41537.000000</td>\n",
       "      <td>49278.000000</td>\n",
       "      <td>53550.000000</td>\n",
       "      <td>58045.000000</td>\n",
       "      <td>61660.000000</td>\n",
       "      <td>63408.000000</td>\n",
       "      <td>65018.000000</td>\n",
       "      <td>65502.000000</td>\n",
       "      <td>60430.000000</td>\n",
       "      <td>63234.000000</td>\n",
       "      <td>65855.000000</td>\n",
       "    </tr>\n",
       "  </tbody>\n",
       "</table>\n",
       "</div>"
      ],
      "text/plain": [
       "       Dec. 31, 2009  Dec. 31, 2010  Dec. 31, 2011  Dec. 31, 2012  \\\n",
       "count      33.000000      33.000000      33.000000      33.000000   \n",
       "mean     5286.393939    7129.363636    7866.575758    8543.212121   \n",
       "std      8904.557144   10595.456001   11431.108422   12164.849664   \n",
       "min         0.000000       0.000000       0.000000       0.000000   \n",
       "25%       468.000000     631.000000     880.000000    1577.000000   \n",
       "50%      2130.000000    3162.000000    3495.000000    4759.000000   \n",
       "75%      6217.000000    8517.000000   11212.000000    9216.000000   \n",
       "max     41537.000000   49278.000000   53550.000000   58045.000000   \n",
       "\n",
       "       Dec. 31, 2013  Dec. 31, 2014  Dec. 31, 2015  Dec. 31, 2016  \\\n",
       "count      33.000000      33.000000      33.000000      33.000000   \n",
       "mean     9040.272727    9405.151515    9582.424242    9575.393939   \n",
       "std     13121.013228   13331.966561   13730.810669   14144.917143   \n",
       "min         0.000000       0.000000       0.000000       0.000000   \n",
       "25%      1119.000000    1760.000000    2677.000000    1760.000000   \n",
       "50%      4661.000000    4466.000000    4301.000000    4051.000000   \n",
       "75%     10414.000000    9947.000000   11289.000000   10635.000000   \n",
       "max     61660.000000   63408.000000   65018.000000   65502.000000   \n",
       "\n",
       "       Dec. 31, 2017  Dec. 31, 2018  Dec. 31, 2019  \n",
       "count      33.000000      33.000000      33.000000  \n",
       "mean     9540.242424    9469.060606    9797.545455  \n",
       "std     13767.015835   13951.894163   14600.368176  \n",
       "min        37.000000       0.000000       0.000000  \n",
       "25%      1760.000000    1933.000000    1467.000000  \n",
       "50%      5317.000000    4997.000000    3971.000000  \n",
       "75%      9401.000000   10263.000000   11312.000000  \n",
       "max     60430.000000   63234.000000   65855.000000  "
      ]
     },
     "execution_count": 52,
     "metadata": {},
     "output_type": "execute_result"
    }
   ],
   "source": [
    "# lets describe the data to get some statistical facts about the dataset\n",
    "data.describe()"
   ]
  },
  {
   "cell_type": "markdown",
   "metadata": {},
   "source": [
    "<a id='eda'></a>\n",
    "## Exploratory Data Analysis\n",
    "\n",
    "### Research Questions\n",
    "\n",
    "\n",
    "### 1. Total Assets and Liabilities\n",
    "\n",
    "#### How much assets and liabilities accrued within the stipulated time frame? What was the distribution per Year for the period in view?|\n"
   ]
  },
  {
   "cell_type": "markdown",
   "metadata": {
    "collapsed": true
   },
   "source": [
    "First, we need to create a dataframe that can answer these questions. This can be done by grouping the dataset above by category as seen below:\n"
   ]
  },
  {
   "cell_type": "code",
   "execution_count": 53,
   "metadata": {
    "scrolled": true
   },
   "outputs": [
    {
     "name": "stderr",
     "output_type": "stream",
     "text": [
      "C:\\Users\\User\\AppData\\Local\\Temp\\ipykernel_5540\\574084291.py:1: FutureWarning:\n",
      "\n",
      "The default value of numeric_only in DataFrameGroupBy.sum is deprecated. In a future version, numeric_only will default to False. Either specify numeric_only or select only columns which should be valid for the function.\n",
      "\n"
     ]
    },
    {
     "data": {
      "text/html": [
       "<div>\n",
       "<style scoped>\n",
       "    .dataframe tbody tr th:only-of-type {\n",
       "        vertical-align: middle;\n",
       "    }\n",
       "\n",
       "    .dataframe tbody tr th {\n",
       "        vertical-align: top;\n",
       "    }\n",
       "\n",
       "    .dataframe thead th {\n",
       "        text-align: right;\n",
       "    }\n",
       "</style>\n",
       "<table border=\"1\" class=\"dataframe\">\n",
       "  <thead>\n",
       "    <tr style=\"text-align: right;\">\n",
       "      <th></th>\n",
       "      <th>Dec. 31, 2009</th>\n",
       "      <th>Dec. 31, 2010</th>\n",
       "      <th>Dec. 31, 2011</th>\n",
       "      <th>Dec. 31, 2012</th>\n",
       "      <th>Dec. 31, 2013</th>\n",
       "      <th>Dec. 31, 2014</th>\n",
       "      <th>Dec. 31, 2015</th>\n",
       "      <th>Dec. 31, 2016</th>\n",
       "      <th>Dec. 31, 2017</th>\n",
       "      <th>Dec. 31, 2018</th>\n",
       "      <th>Dec. 31, 2019</th>\n",
       "    </tr>\n",
       "    <tr>\n",
       "      <th>Category</th>\n",
       "      <th></th>\n",
       "      <th></th>\n",
       "      <th></th>\n",
       "      <th></th>\n",
       "      <th></th>\n",
       "      <th></th>\n",
       "      <th></th>\n",
       "      <th></th>\n",
       "      <th></th>\n",
       "      <th></th>\n",
       "      <th></th>\n",
       "    </tr>\n",
       "  </thead>\n",
       "  <tbody>\n",
       "    <tr>\n",
       "      <th>Assets</th>\n",
       "      <td>48671</td>\n",
       "      <td>72921</td>\n",
       "      <td>79974</td>\n",
       "      <td>86174</td>\n",
       "      <td>90055</td>\n",
       "      <td>92023</td>\n",
       "      <td>90093</td>\n",
       "      <td>87270</td>\n",
       "      <td>87896</td>\n",
       "      <td>83216</td>\n",
       "      <td>86381</td>\n",
       "    </tr>\n",
       "    <tr>\n",
       "      <th>Equity</th>\n",
       "      <td>102455</td>\n",
       "      <td>120744</td>\n",
       "      <td>131570</td>\n",
       "      <td>142746</td>\n",
       "      <td>151659</td>\n",
       "      <td>156885</td>\n",
       "      <td>161798</td>\n",
       "      <td>164668</td>\n",
       "      <td>158013</td>\n",
       "      <td>165105</td>\n",
       "      <td>171655</td>\n",
       "    </tr>\n",
       "    <tr>\n",
       "      <th>Liabilities</th>\n",
       "      <td>23325</td>\n",
       "      <td>41604</td>\n",
       "      <td>48053</td>\n",
       "      <td>53006</td>\n",
       "      <td>56615</td>\n",
       "      <td>61462</td>\n",
       "      <td>64329</td>\n",
       "      <td>64050</td>\n",
       "      <td>68919</td>\n",
       "      <td>64158</td>\n",
       "      <td>65283</td>\n",
       "    </tr>\n",
       "  </tbody>\n",
       "</table>\n",
       "</div>"
      ],
      "text/plain": [
       "             Dec. 31, 2009  Dec. 31, 2010  Dec. 31, 2011  Dec. 31, 2012  \\\n",
       "Category                                                                  \n",
       "Assets               48671          72921          79974          86174   \n",
       "Equity              102455         120744         131570         142746   \n",
       "Liabilities          23325          41604          48053          53006   \n",
       "\n",
       "             Dec. 31, 2013  Dec. 31, 2014  Dec. 31, 2015  Dec. 31, 2016  \\\n",
       "Category                                                                  \n",
       "Assets               90055          92023          90093          87270   \n",
       "Equity              151659         156885         161798         164668   \n",
       "Liabilities          56615          61462          64329          64050   \n",
       "\n",
       "             Dec. 31, 2017  Dec. 31, 2018  Dec. 31, 2019  \n",
       "Category                                                  \n",
       "Assets               87896          83216          86381  \n",
       "Equity              158013         165105         171655  \n",
       "Liabilities          68919          64158          65283  "
      ]
     },
     "execution_count": 53,
     "metadata": {},
     "output_type": "execute_result"
    }
   ],
   "source": [
    "sum_rows = data.groupby('Category').sum()\n",
    "sum_rows"
   ]
  },
  {
   "cell_type": "markdown",
   "metadata": {},
   "source": [
    "For us to be able to easily visualize this data, we need to change the row \"Asset\" to a column so that we can easily plot the total asset and liabilities values as columns for each year. "
   ]
  },
  {
   "cell_type": "code",
   "execution_count": 54,
   "metadata": {},
   "outputs": [
    {
     "data": {
      "text/html": [
       "<div>\n",
       "<style scoped>\n",
       "    .dataframe tbody tr th:only-of-type {\n",
       "        vertical-align: middle;\n",
       "    }\n",
       "\n",
       "    .dataframe tbody tr th {\n",
       "        vertical-align: top;\n",
       "    }\n",
       "\n",
       "    .dataframe thead th {\n",
       "        text-align: right;\n",
       "    }\n",
       "</style>\n",
       "<table border=\"1\" class=\"dataframe\">\n",
       "  <thead>\n",
       "    <tr style=\"text-align: right;\">\n",
       "      <th>Category</th>\n",
       "      <th>Assets</th>\n",
       "      <th>Liabilities</th>\n",
       "    </tr>\n",
       "  </thead>\n",
       "  <tbody>\n",
       "    <tr>\n",
       "      <th>Dec. 31, 2009</th>\n",
       "      <td>48671</td>\n",
       "      <td>23325</td>\n",
       "    </tr>\n",
       "    <tr>\n",
       "      <th>Dec. 31, 2010</th>\n",
       "      <td>72921</td>\n",
       "      <td>41604</td>\n",
       "    </tr>\n",
       "    <tr>\n",
       "      <th>Dec. 31, 2011</th>\n",
       "      <td>79974</td>\n",
       "      <td>48053</td>\n",
       "    </tr>\n",
       "    <tr>\n",
       "      <th>Dec. 31, 2012</th>\n",
       "      <td>86174</td>\n",
       "      <td>53006</td>\n",
       "    </tr>\n",
       "    <tr>\n",
       "      <th>Dec. 31, 2013</th>\n",
       "      <td>90055</td>\n",
       "      <td>56615</td>\n",
       "    </tr>\n",
       "    <tr>\n",
       "      <th>Dec. 31, 2014</th>\n",
       "      <td>92023</td>\n",
       "      <td>61462</td>\n",
       "    </tr>\n",
       "    <tr>\n",
       "      <th>Dec. 31, 2015</th>\n",
       "      <td>90093</td>\n",
       "      <td>64329</td>\n",
       "    </tr>\n",
       "    <tr>\n",
       "      <th>Dec. 31, 2016</th>\n",
       "      <td>87270</td>\n",
       "      <td>64050</td>\n",
       "    </tr>\n",
       "    <tr>\n",
       "      <th>Dec. 31, 2017</th>\n",
       "      <td>87896</td>\n",
       "      <td>68919</td>\n",
       "    </tr>\n",
       "    <tr>\n",
       "      <th>Dec. 31, 2018</th>\n",
       "      <td>83216</td>\n",
       "      <td>64158</td>\n",
       "    </tr>\n",
       "    <tr>\n",
       "      <th>Dec. 31, 2019</th>\n",
       "      <td>86381</td>\n",
       "      <td>65283</td>\n",
       "    </tr>\n",
       "  </tbody>\n",
       "</table>\n",
       "</div>"
      ],
      "text/plain": [
       "Category       Assets  Liabilities\n",
       "Dec. 31, 2009   48671        23325\n",
       "Dec. 31, 2010   72921        41604\n",
       "Dec. 31, 2011   79974        48053\n",
       "Dec. 31, 2012   86174        53006\n",
       "Dec. 31, 2013   90055        56615\n",
       "Dec. 31, 2014   92023        61462\n",
       "Dec. 31, 2015   90093        64329\n",
       "Dec. 31, 2016   87270        64050\n",
       "Dec. 31, 2017   87896        68919\n",
       "Dec. 31, 2018   83216        64158\n",
       "Dec. 31, 2019   86381        65283"
      ]
     },
     "execution_count": 54,
     "metadata": {},
     "output_type": "execute_result"
    }
   ],
   "source": [
    "# Transposing the dataset\n",
    "df = sum_rows.T\n",
    "df = df.drop(columns = ['Equity'], inplace = False)\n",
    "df"
   ]
  },
  {
   "cell_type": "markdown",
   "metadata": {},
   "source": [
    "__NOTE:__ The equity column was dropped because the total sum of the values does not correspond to the total equity as seen from the explanation of the dataset."
   ]
  },
  {
   "cell_type": "code",
   "execution_count": 55,
   "metadata": {
    "scrolled": true
   },
   "outputs": [
    {
     "data": {
      "application/vnd.plotly.v1+json": {
       "config": {
        "plotlyServerURL": "https://plot.ly"
       },
       "data": [
        {
         "hovertemplate": "variable=Assets<br>index=%{x}<br>value=%{y}<extra></extra>",
         "legendgroup": "Assets",
         "line": {
          "color": "#636efa",
          "dash": "solid"
         },
         "marker": {
          "symbol": "circle"
         },
         "mode": "lines",
         "name": "Assets",
         "orientation": "v",
         "showlegend": true,
         "type": "scatter",
         "x": [
          "Dec. 31, 2009",
          "Dec. 31, 2010",
          "Dec. 31, 2011",
          "Dec. 31, 2012",
          "Dec. 31, 2013",
          "Dec. 31, 2014",
          "Dec. 31, 2015",
          "Dec. 31, 2016",
          "Dec. 31, 2017",
          "Dec. 31, 2018",
          "Dec. 31, 2019"
         ],
         "xaxis": "x",
         "y": [
          48671,
          72921,
          79974,
          86174,
          90055,
          92023,
          90093,
          87270,
          87896,
          83216,
          86381
         ],
         "yaxis": "y"
        },
        {
         "hovertemplate": "variable=Liabilities<br>index=%{x}<br>value=%{y}<extra></extra>",
         "legendgroup": "Liabilities",
         "line": {
          "color": "#EF553B",
          "dash": "solid"
         },
         "marker": {
          "symbol": "circle"
         },
         "mode": "lines",
         "name": "Liabilities",
         "orientation": "v",
         "showlegend": true,
         "type": "scatter",
         "x": [
          "Dec. 31, 2009",
          "Dec. 31, 2010",
          "Dec. 31, 2011",
          "Dec. 31, 2012",
          "Dec. 31, 2013",
          "Dec. 31, 2014",
          "Dec. 31, 2015",
          "Dec. 31, 2016",
          "Dec. 31, 2017",
          "Dec. 31, 2018",
          "Dec. 31, 2019"
         ],
         "xaxis": "x",
         "y": [
          23325,
          41604,
          48053,
          53006,
          56615,
          61462,
          64329,
          64050,
          68919,
          64158,
          65283
         ],
         "yaxis": "y"
        }
       ],
       "layout": {
        "legend": {
         "title": {
          "text": "variable"
         },
         "tracegroupgap": 0
        },
        "template": {
         "data": {
          "bar": [
           {
            "error_x": {
             "color": "#f2f5fa"
            },
            "error_y": {
             "color": "#f2f5fa"
            },
            "marker": {
             "line": {
              "color": "rgb(17,17,17)",
              "width": 0.5
             },
             "pattern": {
              "fillmode": "overlay",
              "size": 10,
              "solidity": 0.2
             }
            },
            "type": "bar"
           }
          ],
          "barpolar": [
           {
            "marker": {
             "line": {
              "color": "rgb(17,17,17)",
              "width": 0.5
             },
             "pattern": {
              "fillmode": "overlay",
              "size": 10,
              "solidity": 0.2
             }
            },
            "type": "barpolar"
           }
          ],
          "carpet": [
           {
            "aaxis": {
             "endlinecolor": "#A2B1C6",
             "gridcolor": "#506784",
             "linecolor": "#506784",
             "minorgridcolor": "#506784",
             "startlinecolor": "#A2B1C6"
            },
            "baxis": {
             "endlinecolor": "#A2B1C6",
             "gridcolor": "#506784",
             "linecolor": "#506784",
             "minorgridcolor": "#506784",
             "startlinecolor": "#A2B1C6"
            },
            "type": "carpet"
           }
          ],
          "choropleth": [
           {
            "colorbar": {
             "outlinewidth": 0,
             "ticks": ""
            },
            "type": "choropleth"
           }
          ],
          "contour": [
           {
            "colorbar": {
             "outlinewidth": 0,
             "ticks": ""
            },
            "colorscale": [
             [
              0,
              "#0d0887"
             ],
             [
              0.1111111111111111,
              "#46039f"
             ],
             [
              0.2222222222222222,
              "#7201a8"
             ],
             [
              0.3333333333333333,
              "#9c179e"
             ],
             [
              0.4444444444444444,
              "#bd3786"
             ],
             [
              0.5555555555555556,
              "#d8576b"
             ],
             [
              0.6666666666666666,
              "#ed7953"
             ],
             [
              0.7777777777777778,
              "#fb9f3a"
             ],
             [
              0.8888888888888888,
              "#fdca26"
             ],
             [
              1,
              "#f0f921"
             ]
            ],
            "type": "contour"
           }
          ],
          "contourcarpet": [
           {
            "colorbar": {
             "outlinewidth": 0,
             "ticks": ""
            },
            "type": "contourcarpet"
           }
          ],
          "heatmap": [
           {
            "colorbar": {
             "outlinewidth": 0,
             "ticks": ""
            },
            "colorscale": [
             [
              0,
              "#0d0887"
             ],
             [
              0.1111111111111111,
              "#46039f"
             ],
             [
              0.2222222222222222,
              "#7201a8"
             ],
             [
              0.3333333333333333,
              "#9c179e"
             ],
             [
              0.4444444444444444,
              "#bd3786"
             ],
             [
              0.5555555555555556,
              "#d8576b"
             ],
             [
              0.6666666666666666,
              "#ed7953"
             ],
             [
              0.7777777777777778,
              "#fb9f3a"
             ],
             [
              0.8888888888888888,
              "#fdca26"
             ],
             [
              1,
              "#f0f921"
             ]
            ],
            "type": "heatmap"
           }
          ],
          "heatmapgl": [
           {
            "colorbar": {
             "outlinewidth": 0,
             "ticks": ""
            },
            "colorscale": [
             [
              0,
              "#0d0887"
             ],
             [
              0.1111111111111111,
              "#46039f"
             ],
             [
              0.2222222222222222,
              "#7201a8"
             ],
             [
              0.3333333333333333,
              "#9c179e"
             ],
             [
              0.4444444444444444,
              "#bd3786"
             ],
             [
              0.5555555555555556,
              "#d8576b"
             ],
             [
              0.6666666666666666,
              "#ed7953"
             ],
             [
              0.7777777777777778,
              "#fb9f3a"
             ],
             [
              0.8888888888888888,
              "#fdca26"
             ],
             [
              1,
              "#f0f921"
             ]
            ],
            "type": "heatmapgl"
           }
          ],
          "histogram": [
           {
            "marker": {
             "pattern": {
              "fillmode": "overlay",
              "size": 10,
              "solidity": 0.2
             }
            },
            "type": "histogram"
           }
          ],
          "histogram2d": [
           {
            "colorbar": {
             "outlinewidth": 0,
             "ticks": ""
            },
            "colorscale": [
             [
              0,
              "#0d0887"
             ],
             [
              0.1111111111111111,
              "#46039f"
             ],
             [
              0.2222222222222222,
              "#7201a8"
             ],
             [
              0.3333333333333333,
              "#9c179e"
             ],
             [
              0.4444444444444444,
              "#bd3786"
             ],
             [
              0.5555555555555556,
              "#d8576b"
             ],
             [
              0.6666666666666666,
              "#ed7953"
             ],
             [
              0.7777777777777778,
              "#fb9f3a"
             ],
             [
              0.8888888888888888,
              "#fdca26"
             ],
             [
              1,
              "#f0f921"
             ]
            ],
            "type": "histogram2d"
           }
          ],
          "histogram2dcontour": [
           {
            "colorbar": {
             "outlinewidth": 0,
             "ticks": ""
            },
            "colorscale": [
             [
              0,
              "#0d0887"
             ],
             [
              0.1111111111111111,
              "#46039f"
             ],
             [
              0.2222222222222222,
              "#7201a8"
             ],
             [
              0.3333333333333333,
              "#9c179e"
             ],
             [
              0.4444444444444444,
              "#bd3786"
             ],
             [
              0.5555555555555556,
              "#d8576b"
             ],
             [
              0.6666666666666666,
              "#ed7953"
             ],
             [
              0.7777777777777778,
              "#fb9f3a"
             ],
             [
              0.8888888888888888,
              "#fdca26"
             ],
             [
              1,
              "#f0f921"
             ]
            ],
            "type": "histogram2dcontour"
           }
          ],
          "mesh3d": [
           {
            "colorbar": {
             "outlinewidth": 0,
             "ticks": ""
            },
            "type": "mesh3d"
           }
          ],
          "parcoords": [
           {
            "line": {
             "colorbar": {
              "outlinewidth": 0,
              "ticks": ""
             }
            },
            "type": "parcoords"
           }
          ],
          "pie": [
           {
            "automargin": true,
            "type": "pie"
           }
          ],
          "scatter": [
           {
            "marker": {
             "line": {
              "color": "#283442"
             }
            },
            "type": "scatter"
           }
          ],
          "scatter3d": [
           {
            "line": {
             "colorbar": {
              "outlinewidth": 0,
              "ticks": ""
             }
            },
            "marker": {
             "colorbar": {
              "outlinewidth": 0,
              "ticks": ""
             }
            },
            "type": "scatter3d"
           }
          ],
          "scattercarpet": [
           {
            "marker": {
             "colorbar": {
              "outlinewidth": 0,
              "ticks": ""
             }
            },
            "type": "scattercarpet"
           }
          ],
          "scattergeo": [
           {
            "marker": {
             "colorbar": {
              "outlinewidth": 0,
              "ticks": ""
             }
            },
            "type": "scattergeo"
           }
          ],
          "scattergl": [
           {
            "marker": {
             "line": {
              "color": "#283442"
             }
            },
            "type": "scattergl"
           }
          ],
          "scattermapbox": [
           {
            "marker": {
             "colorbar": {
              "outlinewidth": 0,
              "ticks": ""
             }
            },
            "type": "scattermapbox"
           }
          ],
          "scatterpolar": [
           {
            "marker": {
             "colorbar": {
              "outlinewidth": 0,
              "ticks": ""
             }
            },
            "type": "scatterpolar"
           }
          ],
          "scatterpolargl": [
           {
            "marker": {
             "colorbar": {
              "outlinewidth": 0,
              "ticks": ""
             }
            },
            "type": "scatterpolargl"
           }
          ],
          "scatterternary": [
           {
            "marker": {
             "colorbar": {
              "outlinewidth": 0,
              "ticks": ""
             }
            },
            "type": "scatterternary"
           }
          ],
          "surface": [
           {
            "colorbar": {
             "outlinewidth": 0,
             "ticks": ""
            },
            "colorscale": [
             [
              0,
              "#0d0887"
             ],
             [
              0.1111111111111111,
              "#46039f"
             ],
             [
              0.2222222222222222,
              "#7201a8"
             ],
             [
              0.3333333333333333,
              "#9c179e"
             ],
             [
              0.4444444444444444,
              "#bd3786"
             ],
             [
              0.5555555555555556,
              "#d8576b"
             ],
             [
              0.6666666666666666,
              "#ed7953"
             ],
             [
              0.7777777777777778,
              "#fb9f3a"
             ],
             [
              0.8888888888888888,
              "#fdca26"
             ],
             [
              1,
              "#f0f921"
             ]
            ],
            "type": "surface"
           }
          ],
          "table": [
           {
            "cells": {
             "fill": {
              "color": "#506784"
             },
             "line": {
              "color": "rgb(17,17,17)"
             }
            },
            "header": {
             "fill": {
              "color": "#2a3f5f"
             },
             "line": {
              "color": "rgb(17,17,17)"
             }
            },
            "type": "table"
           }
          ]
         },
         "layout": {
          "annotationdefaults": {
           "arrowcolor": "#f2f5fa",
           "arrowhead": 0,
           "arrowwidth": 1
          },
          "autotypenumbers": "strict",
          "coloraxis": {
           "colorbar": {
            "outlinewidth": 0,
            "ticks": ""
           }
          },
          "colorscale": {
           "diverging": [
            [
             0,
             "#8e0152"
            ],
            [
             0.1,
             "#c51b7d"
            ],
            [
             0.2,
             "#de77ae"
            ],
            [
             0.3,
             "#f1b6da"
            ],
            [
             0.4,
             "#fde0ef"
            ],
            [
             0.5,
             "#f7f7f7"
            ],
            [
             0.6,
             "#e6f5d0"
            ],
            [
             0.7,
             "#b8e186"
            ],
            [
             0.8,
             "#7fbc41"
            ],
            [
             0.9,
             "#4d9221"
            ],
            [
             1,
             "#276419"
            ]
           ],
           "sequential": [
            [
             0,
             "#0d0887"
            ],
            [
             0.1111111111111111,
             "#46039f"
            ],
            [
             0.2222222222222222,
             "#7201a8"
            ],
            [
             0.3333333333333333,
             "#9c179e"
            ],
            [
             0.4444444444444444,
             "#bd3786"
            ],
            [
             0.5555555555555556,
             "#d8576b"
            ],
            [
             0.6666666666666666,
             "#ed7953"
            ],
            [
             0.7777777777777778,
             "#fb9f3a"
            ],
            [
             0.8888888888888888,
             "#fdca26"
            ],
            [
             1,
             "#f0f921"
            ]
           ],
           "sequentialminus": [
            [
             0,
             "#0d0887"
            ],
            [
             0.1111111111111111,
             "#46039f"
            ],
            [
             0.2222222222222222,
             "#7201a8"
            ],
            [
             0.3333333333333333,
             "#9c179e"
            ],
            [
             0.4444444444444444,
             "#bd3786"
            ],
            [
             0.5555555555555556,
             "#d8576b"
            ],
            [
             0.6666666666666666,
             "#ed7953"
            ],
            [
             0.7777777777777778,
             "#fb9f3a"
            ],
            [
             0.8888888888888888,
             "#fdca26"
            ],
            [
             1,
             "#f0f921"
            ]
           ]
          },
          "colorway": [
           "#636efa",
           "#EF553B",
           "#00cc96",
           "#ab63fa",
           "#FFA15A",
           "#19d3f3",
           "#FF6692",
           "#B6E880",
           "#FF97FF",
           "#FECB52"
          ],
          "font": {
           "color": "#f2f5fa"
          },
          "geo": {
           "bgcolor": "rgb(17,17,17)",
           "lakecolor": "rgb(17,17,17)",
           "landcolor": "rgb(17,17,17)",
           "showlakes": true,
           "showland": true,
           "subunitcolor": "#506784"
          },
          "hoverlabel": {
           "align": "left"
          },
          "hovermode": "closest",
          "mapbox": {
           "style": "dark"
          },
          "paper_bgcolor": "rgb(17,17,17)",
          "plot_bgcolor": "rgb(17,17,17)",
          "polar": {
           "angularaxis": {
            "gridcolor": "#506784",
            "linecolor": "#506784",
            "ticks": ""
           },
           "bgcolor": "rgb(17,17,17)",
           "radialaxis": {
            "gridcolor": "#506784",
            "linecolor": "#506784",
            "ticks": ""
           }
          },
          "scene": {
           "xaxis": {
            "backgroundcolor": "rgb(17,17,17)",
            "gridcolor": "#506784",
            "gridwidth": 2,
            "linecolor": "#506784",
            "showbackground": true,
            "ticks": "",
            "zerolinecolor": "#C8D4E3"
           },
           "yaxis": {
            "backgroundcolor": "rgb(17,17,17)",
            "gridcolor": "#506784",
            "gridwidth": 2,
            "linecolor": "#506784",
            "showbackground": true,
            "ticks": "",
            "zerolinecolor": "#C8D4E3"
           },
           "zaxis": {
            "backgroundcolor": "rgb(17,17,17)",
            "gridcolor": "#506784",
            "gridwidth": 2,
            "linecolor": "#506784",
            "showbackground": true,
            "ticks": "",
            "zerolinecolor": "#C8D4E3"
           }
          },
          "shapedefaults": {
           "line": {
            "color": "#f2f5fa"
           }
          },
          "sliderdefaults": {
           "bgcolor": "#C8D4E3",
           "bordercolor": "rgb(17,17,17)",
           "borderwidth": 1,
           "tickwidth": 0
          },
          "ternary": {
           "aaxis": {
            "gridcolor": "#506784",
            "linecolor": "#506784",
            "ticks": ""
           },
           "baxis": {
            "gridcolor": "#506784",
            "linecolor": "#506784",
            "ticks": ""
           },
           "bgcolor": "rgb(17,17,17)",
           "caxis": {
            "gridcolor": "#506784",
            "linecolor": "#506784",
            "ticks": ""
           }
          },
          "title": {
           "x": 0.05
          },
          "updatemenudefaults": {
           "bgcolor": "#506784",
           "borderwidth": 0
          },
          "xaxis": {
           "automargin": true,
           "gridcolor": "#283442",
           "linecolor": "#506784",
           "ticks": "",
           "title": {
            "standoff": 15
           },
           "zerolinecolor": "#283442",
           "zerolinewidth": 2
          },
          "yaxis": {
           "automargin": true,
           "gridcolor": "#283442",
           "linecolor": "#506784",
           "ticks": "",
           "title": {
            "standoff": 15
           },
           "zerolinecolor": "#283442",
           "zerolinewidth": 2
          }
         }
        },
        "title": {
         "text": "LINE PLOT SHOWING TRENDS OF TOTAL ASSETS AND LIABILITIES OVER THE YEARS (2009-2019)"
        },
        "xaxis": {
         "anchor": "y",
         "domain": [
          0,
          1
         ],
         "title": {
          "text": "index"
         }
        },
        "yaxis": {
         "anchor": "x",
         "domain": [
          0,
          1
         ],
         "title": {
          "text": "value"
         }
        }
       }
      },
      "text/html": [
       "<div>                            <div id=\"690c7660-1ecc-43db-b162-c458a360f202\" class=\"plotly-graph-div\" style=\"height:525px; width:100%;\"></div>            <script type=\"text/javascript\">                require([\"plotly\"], function(Plotly) {                    window.PLOTLYENV=window.PLOTLYENV || {};                                    if (document.getElementById(\"690c7660-1ecc-43db-b162-c458a360f202\")) {                    Plotly.newPlot(                        \"690c7660-1ecc-43db-b162-c458a360f202\",                        [{\"hovertemplate\":\"variable=Assets<br>index=%{x}<br>value=%{y}<extra></extra>\",\"legendgroup\":\"Assets\",\"line\":{\"color\":\"#636efa\",\"dash\":\"solid\"},\"marker\":{\"symbol\":\"circle\"},\"mode\":\"lines\",\"name\":\"Assets\",\"orientation\":\"v\",\"showlegend\":true,\"x\":[\"Dec. 31, 2009\",\"Dec. 31, 2010\",\"Dec. 31, 2011\",\"Dec. 31, 2012\",\"Dec. 31, 2013\",\"Dec. 31, 2014\",\"Dec. 31, 2015\",\"Dec. 31, 2016\",\"Dec. 31, 2017\",\"Dec. 31, 2018\",\"Dec. 31, 2019\"],\"xaxis\":\"x\",\"y\":[48671,72921,79974,86174,90055,92023,90093,87270,87896,83216,86381],\"yaxis\":\"y\",\"type\":\"scatter\"},{\"hovertemplate\":\"variable=Liabilities<br>index=%{x}<br>value=%{y}<extra></extra>\",\"legendgroup\":\"Liabilities\",\"line\":{\"color\":\"#EF553B\",\"dash\":\"solid\"},\"marker\":{\"symbol\":\"circle\"},\"mode\":\"lines\",\"name\":\"Liabilities\",\"orientation\":\"v\",\"showlegend\":true,\"x\":[\"Dec. 31, 2009\",\"Dec. 31, 2010\",\"Dec. 31, 2011\",\"Dec. 31, 2012\",\"Dec. 31, 2013\",\"Dec. 31, 2014\",\"Dec. 31, 2015\",\"Dec. 31, 2016\",\"Dec. 31, 2017\",\"Dec. 31, 2018\",\"Dec. 31, 2019\"],\"xaxis\":\"x\",\"y\":[23325,41604,48053,53006,56615,61462,64329,64050,68919,64158,65283],\"yaxis\":\"y\",\"type\":\"scatter\"}],                        {\"template\":{\"data\":{\"barpolar\":[{\"marker\":{\"line\":{\"color\":\"rgb(17,17,17)\",\"width\":0.5},\"pattern\":{\"fillmode\":\"overlay\",\"size\":10,\"solidity\":0.2}},\"type\":\"barpolar\"}],\"bar\":[{\"error_x\":{\"color\":\"#f2f5fa\"},\"error_y\":{\"color\":\"#f2f5fa\"},\"marker\":{\"line\":{\"color\":\"rgb(17,17,17)\",\"width\":0.5},\"pattern\":{\"fillmode\":\"overlay\",\"size\":10,\"solidity\":0.2}},\"type\":\"bar\"}],\"carpet\":[{\"aaxis\":{\"endlinecolor\":\"#A2B1C6\",\"gridcolor\":\"#506784\",\"linecolor\":\"#506784\",\"minorgridcolor\":\"#506784\",\"startlinecolor\":\"#A2B1C6\"},\"baxis\":{\"endlinecolor\":\"#A2B1C6\",\"gridcolor\":\"#506784\",\"linecolor\":\"#506784\",\"minorgridcolor\":\"#506784\",\"startlinecolor\":\"#A2B1C6\"},\"type\":\"carpet\"}],\"choropleth\":[{\"colorbar\":{\"outlinewidth\":0,\"ticks\":\"\"},\"type\":\"choropleth\"}],\"contourcarpet\":[{\"colorbar\":{\"outlinewidth\":0,\"ticks\":\"\"},\"type\":\"contourcarpet\"}],\"contour\":[{\"colorbar\":{\"outlinewidth\":0,\"ticks\":\"\"},\"colorscale\":[[0.0,\"#0d0887\"],[0.1111111111111111,\"#46039f\"],[0.2222222222222222,\"#7201a8\"],[0.3333333333333333,\"#9c179e\"],[0.4444444444444444,\"#bd3786\"],[0.5555555555555556,\"#d8576b\"],[0.6666666666666666,\"#ed7953\"],[0.7777777777777778,\"#fb9f3a\"],[0.8888888888888888,\"#fdca26\"],[1.0,\"#f0f921\"]],\"type\":\"contour\"}],\"heatmapgl\":[{\"colorbar\":{\"outlinewidth\":0,\"ticks\":\"\"},\"colorscale\":[[0.0,\"#0d0887\"],[0.1111111111111111,\"#46039f\"],[0.2222222222222222,\"#7201a8\"],[0.3333333333333333,\"#9c179e\"],[0.4444444444444444,\"#bd3786\"],[0.5555555555555556,\"#d8576b\"],[0.6666666666666666,\"#ed7953\"],[0.7777777777777778,\"#fb9f3a\"],[0.8888888888888888,\"#fdca26\"],[1.0,\"#f0f921\"]],\"type\":\"heatmapgl\"}],\"heatmap\":[{\"colorbar\":{\"outlinewidth\":0,\"ticks\":\"\"},\"colorscale\":[[0.0,\"#0d0887\"],[0.1111111111111111,\"#46039f\"],[0.2222222222222222,\"#7201a8\"],[0.3333333333333333,\"#9c179e\"],[0.4444444444444444,\"#bd3786\"],[0.5555555555555556,\"#d8576b\"],[0.6666666666666666,\"#ed7953\"],[0.7777777777777778,\"#fb9f3a\"],[0.8888888888888888,\"#fdca26\"],[1.0,\"#f0f921\"]],\"type\":\"heatmap\"}],\"histogram2dcontour\":[{\"colorbar\":{\"outlinewidth\":0,\"ticks\":\"\"},\"colorscale\":[[0.0,\"#0d0887\"],[0.1111111111111111,\"#46039f\"],[0.2222222222222222,\"#7201a8\"],[0.3333333333333333,\"#9c179e\"],[0.4444444444444444,\"#bd3786\"],[0.5555555555555556,\"#d8576b\"],[0.6666666666666666,\"#ed7953\"],[0.7777777777777778,\"#fb9f3a\"],[0.8888888888888888,\"#fdca26\"],[1.0,\"#f0f921\"]],\"type\":\"histogram2dcontour\"}],\"histogram2d\":[{\"colorbar\":{\"outlinewidth\":0,\"ticks\":\"\"},\"colorscale\":[[0.0,\"#0d0887\"],[0.1111111111111111,\"#46039f\"],[0.2222222222222222,\"#7201a8\"],[0.3333333333333333,\"#9c179e\"],[0.4444444444444444,\"#bd3786\"],[0.5555555555555556,\"#d8576b\"],[0.6666666666666666,\"#ed7953\"],[0.7777777777777778,\"#fb9f3a\"],[0.8888888888888888,\"#fdca26\"],[1.0,\"#f0f921\"]],\"type\":\"histogram2d\"}],\"histogram\":[{\"marker\":{\"pattern\":{\"fillmode\":\"overlay\",\"size\":10,\"solidity\":0.2}},\"type\":\"histogram\"}],\"mesh3d\":[{\"colorbar\":{\"outlinewidth\":0,\"ticks\":\"\"},\"type\":\"mesh3d\"}],\"parcoords\":[{\"line\":{\"colorbar\":{\"outlinewidth\":0,\"ticks\":\"\"}},\"type\":\"parcoords\"}],\"pie\":[{\"automargin\":true,\"type\":\"pie\"}],\"scatter3d\":[{\"line\":{\"colorbar\":{\"outlinewidth\":0,\"ticks\":\"\"}},\"marker\":{\"colorbar\":{\"outlinewidth\":0,\"ticks\":\"\"}},\"type\":\"scatter3d\"}],\"scattercarpet\":[{\"marker\":{\"colorbar\":{\"outlinewidth\":0,\"ticks\":\"\"}},\"type\":\"scattercarpet\"}],\"scattergeo\":[{\"marker\":{\"colorbar\":{\"outlinewidth\":0,\"ticks\":\"\"}},\"type\":\"scattergeo\"}],\"scattergl\":[{\"marker\":{\"line\":{\"color\":\"#283442\"}},\"type\":\"scattergl\"}],\"scattermapbox\":[{\"marker\":{\"colorbar\":{\"outlinewidth\":0,\"ticks\":\"\"}},\"type\":\"scattermapbox\"}],\"scatterpolargl\":[{\"marker\":{\"colorbar\":{\"outlinewidth\":0,\"ticks\":\"\"}},\"type\":\"scatterpolargl\"}],\"scatterpolar\":[{\"marker\":{\"colorbar\":{\"outlinewidth\":0,\"ticks\":\"\"}},\"type\":\"scatterpolar\"}],\"scatter\":[{\"marker\":{\"line\":{\"color\":\"#283442\"}},\"type\":\"scatter\"}],\"scatterternary\":[{\"marker\":{\"colorbar\":{\"outlinewidth\":0,\"ticks\":\"\"}},\"type\":\"scatterternary\"}],\"surface\":[{\"colorbar\":{\"outlinewidth\":0,\"ticks\":\"\"},\"colorscale\":[[0.0,\"#0d0887\"],[0.1111111111111111,\"#46039f\"],[0.2222222222222222,\"#7201a8\"],[0.3333333333333333,\"#9c179e\"],[0.4444444444444444,\"#bd3786\"],[0.5555555555555556,\"#d8576b\"],[0.6666666666666666,\"#ed7953\"],[0.7777777777777778,\"#fb9f3a\"],[0.8888888888888888,\"#fdca26\"],[1.0,\"#f0f921\"]],\"type\":\"surface\"}],\"table\":[{\"cells\":{\"fill\":{\"color\":\"#506784\"},\"line\":{\"color\":\"rgb(17,17,17)\"}},\"header\":{\"fill\":{\"color\":\"#2a3f5f\"},\"line\":{\"color\":\"rgb(17,17,17)\"}},\"type\":\"table\"}]},\"layout\":{\"annotationdefaults\":{\"arrowcolor\":\"#f2f5fa\",\"arrowhead\":0,\"arrowwidth\":1},\"autotypenumbers\":\"strict\",\"coloraxis\":{\"colorbar\":{\"outlinewidth\":0,\"ticks\":\"\"}},\"colorscale\":{\"diverging\":[[0,\"#8e0152\"],[0.1,\"#c51b7d\"],[0.2,\"#de77ae\"],[0.3,\"#f1b6da\"],[0.4,\"#fde0ef\"],[0.5,\"#f7f7f7\"],[0.6,\"#e6f5d0\"],[0.7,\"#b8e186\"],[0.8,\"#7fbc41\"],[0.9,\"#4d9221\"],[1,\"#276419\"]],\"sequential\":[[0.0,\"#0d0887\"],[0.1111111111111111,\"#46039f\"],[0.2222222222222222,\"#7201a8\"],[0.3333333333333333,\"#9c179e\"],[0.4444444444444444,\"#bd3786\"],[0.5555555555555556,\"#d8576b\"],[0.6666666666666666,\"#ed7953\"],[0.7777777777777778,\"#fb9f3a\"],[0.8888888888888888,\"#fdca26\"],[1.0,\"#f0f921\"]],\"sequentialminus\":[[0.0,\"#0d0887\"],[0.1111111111111111,\"#46039f\"],[0.2222222222222222,\"#7201a8\"],[0.3333333333333333,\"#9c179e\"],[0.4444444444444444,\"#bd3786\"],[0.5555555555555556,\"#d8576b\"],[0.6666666666666666,\"#ed7953\"],[0.7777777777777778,\"#fb9f3a\"],[0.8888888888888888,\"#fdca26\"],[1.0,\"#f0f921\"]]},\"colorway\":[\"#636efa\",\"#EF553B\",\"#00cc96\",\"#ab63fa\",\"#FFA15A\",\"#19d3f3\",\"#FF6692\",\"#B6E880\",\"#FF97FF\",\"#FECB52\"],\"font\":{\"color\":\"#f2f5fa\"},\"geo\":{\"bgcolor\":\"rgb(17,17,17)\",\"lakecolor\":\"rgb(17,17,17)\",\"landcolor\":\"rgb(17,17,17)\",\"showlakes\":true,\"showland\":true,\"subunitcolor\":\"#506784\"},\"hoverlabel\":{\"align\":\"left\"},\"hovermode\":\"closest\",\"mapbox\":{\"style\":\"dark\"},\"paper_bgcolor\":\"rgb(17,17,17)\",\"plot_bgcolor\":\"rgb(17,17,17)\",\"polar\":{\"angularaxis\":{\"gridcolor\":\"#506784\",\"linecolor\":\"#506784\",\"ticks\":\"\"},\"bgcolor\":\"rgb(17,17,17)\",\"radialaxis\":{\"gridcolor\":\"#506784\",\"linecolor\":\"#506784\",\"ticks\":\"\"}},\"scene\":{\"xaxis\":{\"backgroundcolor\":\"rgb(17,17,17)\",\"gridcolor\":\"#506784\",\"gridwidth\":2,\"linecolor\":\"#506784\",\"showbackground\":true,\"ticks\":\"\",\"zerolinecolor\":\"#C8D4E3\"},\"yaxis\":{\"backgroundcolor\":\"rgb(17,17,17)\",\"gridcolor\":\"#506784\",\"gridwidth\":2,\"linecolor\":\"#506784\",\"showbackground\":true,\"ticks\":\"\",\"zerolinecolor\":\"#C8D4E3\"},\"zaxis\":{\"backgroundcolor\":\"rgb(17,17,17)\",\"gridcolor\":\"#506784\",\"gridwidth\":2,\"linecolor\":\"#506784\",\"showbackground\":true,\"ticks\":\"\",\"zerolinecolor\":\"#C8D4E3\"}},\"shapedefaults\":{\"line\":{\"color\":\"#f2f5fa\"}},\"sliderdefaults\":{\"bgcolor\":\"#C8D4E3\",\"bordercolor\":\"rgb(17,17,17)\",\"borderwidth\":1,\"tickwidth\":0},\"ternary\":{\"aaxis\":{\"gridcolor\":\"#506784\",\"linecolor\":\"#506784\",\"ticks\":\"\"},\"baxis\":{\"gridcolor\":\"#506784\",\"linecolor\":\"#506784\",\"ticks\":\"\"},\"bgcolor\":\"rgb(17,17,17)\",\"caxis\":{\"gridcolor\":\"#506784\",\"linecolor\":\"#506784\",\"ticks\":\"\"}},\"title\":{\"x\":0.05},\"updatemenudefaults\":{\"bgcolor\":\"#506784\",\"borderwidth\":0},\"xaxis\":{\"automargin\":true,\"gridcolor\":\"#283442\",\"linecolor\":\"#506784\",\"ticks\":\"\",\"title\":{\"standoff\":15},\"zerolinecolor\":\"#283442\",\"zerolinewidth\":2},\"yaxis\":{\"automargin\":true,\"gridcolor\":\"#283442\",\"linecolor\":\"#506784\",\"ticks\":\"\",\"title\":{\"standoff\":15},\"zerolinecolor\":\"#283442\",\"zerolinewidth\":2}}},\"xaxis\":{\"anchor\":\"y\",\"domain\":[0.0,1.0],\"title\":{\"text\":\"index\"}},\"yaxis\":{\"anchor\":\"x\",\"domain\":[0.0,1.0],\"title\":{\"text\":\"value\"}},\"legend\":{\"title\":{\"text\":\"variable\"},\"tracegroupgap\":0},\"title\":{\"text\":\"LINE PLOT SHOWING TRENDS OF TOTAL ASSETS AND LIABILITIES OVER THE YEARS (2009-2019)\"}},                        {\"responsive\": true}                    ).then(function(){\n",
       "                            \n",
       "var gd = document.getElementById('690c7660-1ecc-43db-b162-c458a360f202');\n",
       "var x = new MutationObserver(function (mutations, observer) {{\n",
       "        var display = window.getComputedStyle(gd).display;\n",
       "        if (!display || display === 'none') {{\n",
       "            console.log([gd, 'removed!']);\n",
       "            Plotly.purge(gd);\n",
       "            observer.disconnect();\n",
       "        }}\n",
       "}});\n",
       "\n",
       "// Listen for the removal of the full notebook cells\n",
       "var notebookContainer = gd.closest('#notebook-container');\n",
       "if (notebookContainer) {{\n",
       "    x.observe(notebookContainer, {childList: true});\n",
       "}}\n",
       "\n",
       "// Listen for the clearing of the current output cell\n",
       "var outputEl = gd.closest('.output');\n",
       "if (outputEl) {{\n",
       "    x.observe(outputEl, {childList: true});\n",
       "}}\n",
       "\n",
       "                        })                };                });            </script>        </div>"
      ]
     },
     "metadata": {},
     "output_type": "display_data"
    }
   ],
   "source": [
    "px.line(data_frame = df, y = ['Assets', 'Liabilities'], template = 'plotly_dark', \n",
    "        title = 'LINE PLOT SHOWING TRENDS OF TOTAL ASSETS AND LIABILITIES OVER THE YEARS (2009-2019)', \n",
    "        labels = {'y':'Values in millions',\n",
    "                  'x':'Year'})\n"
   ]
  },
  {
   "cell_type": "markdown",
   "metadata": {},
   "source": [
    "__OBSERVATION__ \n",
    "The line plot above shows the trends of __Coca-cola's__ assets and liabilities during the years under review. The highest assest was accrued in __2014__ with about __92.02 billion dollars__ while the highest liability was recorded in __2017__ with a value of about __68.92 billion dollars__. Both assets and liabilities have similar waveforms, increasing for a while and then reduced.\n",
    "\n",
    "Further analysis into the cause of why the assets rose in 2014 was as a result of changes in brand strategies causing certain indefinite-lived trademarks to become definite-lived. \n",
    "Also, in 2017, the Coca-Cola Company recorded a 15% net operating revenue decline in 2017 to 35.41 billion as it continues to refranchise its bottling operations. For the year, operating income was down 13% to 7.5 billion"
   ]
  },
  {
   "cell_type": "code",
   "execution_count": 56,
   "metadata": {
    "scrolled": true
   },
   "outputs": [
    {
     "data": {
      "application/vnd.plotly.v1+json": {
       "config": {
        "plotlyServerURL": "https://plot.ly"
       },
       "data": [
        {
         "alignmentgroup": "True",
         "hovertemplate": "variable=Assets<br>index=%{x}<br>value=%{y}<extra></extra>",
         "legendgroup": "Assets",
         "marker": {
          "color": "#636efa",
          "pattern": {
           "shape": ""
          }
         },
         "name": "Assets",
         "offsetgroup": "Assets",
         "orientation": "v",
         "showlegend": true,
         "textposition": "auto",
         "type": "bar",
         "x": [
          "Dec. 31, 2009",
          "Dec. 31, 2010",
          "Dec. 31, 2011",
          "Dec. 31, 2012",
          "Dec. 31, 2013",
          "Dec. 31, 2014",
          "Dec. 31, 2015",
          "Dec. 31, 2016",
          "Dec. 31, 2017",
          "Dec. 31, 2018",
          "Dec. 31, 2019"
         ],
         "xaxis": "x",
         "y": [
          48671,
          72921,
          79974,
          86174,
          90055,
          92023,
          90093,
          87270,
          87896,
          83216,
          86381
         ],
         "yaxis": "y"
        },
        {
         "alignmentgroup": "True",
         "hovertemplate": "variable=Liabilities<br>index=%{x}<br>value=%{y}<extra></extra>",
         "legendgroup": "Liabilities",
         "marker": {
          "color": "#EF553B",
          "pattern": {
           "shape": ""
          }
         },
         "name": "Liabilities",
         "offsetgroup": "Liabilities",
         "orientation": "v",
         "showlegend": true,
         "textposition": "auto",
         "type": "bar",
         "x": [
          "Dec. 31, 2009",
          "Dec. 31, 2010",
          "Dec. 31, 2011",
          "Dec. 31, 2012",
          "Dec. 31, 2013",
          "Dec. 31, 2014",
          "Dec. 31, 2015",
          "Dec. 31, 2016",
          "Dec. 31, 2017",
          "Dec. 31, 2018",
          "Dec. 31, 2019"
         ],
         "xaxis": "x",
         "y": [
          23325,
          41604,
          48053,
          53006,
          56615,
          61462,
          64329,
          64050,
          68919,
          64158,
          65283
         ],
         "yaxis": "y"
        }
       ],
       "layout": {
        "barmode": "relative",
        "legend": {
         "title": {
          "text": "variable"
         },
         "tracegroupgap": 0
        },
        "template": {
         "data": {
          "bar": [
           {
            "error_x": {
             "color": "#f2f5fa"
            },
            "error_y": {
             "color": "#f2f5fa"
            },
            "marker": {
             "line": {
              "color": "rgb(17,17,17)",
              "width": 0.5
             },
             "pattern": {
              "fillmode": "overlay",
              "size": 10,
              "solidity": 0.2
             }
            },
            "type": "bar"
           }
          ],
          "barpolar": [
           {
            "marker": {
             "line": {
              "color": "rgb(17,17,17)",
              "width": 0.5
             },
             "pattern": {
              "fillmode": "overlay",
              "size": 10,
              "solidity": 0.2
             }
            },
            "type": "barpolar"
           }
          ],
          "carpet": [
           {
            "aaxis": {
             "endlinecolor": "#A2B1C6",
             "gridcolor": "#506784",
             "linecolor": "#506784",
             "minorgridcolor": "#506784",
             "startlinecolor": "#A2B1C6"
            },
            "baxis": {
             "endlinecolor": "#A2B1C6",
             "gridcolor": "#506784",
             "linecolor": "#506784",
             "minorgridcolor": "#506784",
             "startlinecolor": "#A2B1C6"
            },
            "type": "carpet"
           }
          ],
          "choropleth": [
           {
            "colorbar": {
             "outlinewidth": 0,
             "ticks": ""
            },
            "type": "choropleth"
           }
          ],
          "contour": [
           {
            "colorbar": {
             "outlinewidth": 0,
             "ticks": ""
            },
            "colorscale": [
             [
              0,
              "#0d0887"
             ],
             [
              0.1111111111111111,
              "#46039f"
             ],
             [
              0.2222222222222222,
              "#7201a8"
             ],
             [
              0.3333333333333333,
              "#9c179e"
             ],
             [
              0.4444444444444444,
              "#bd3786"
             ],
             [
              0.5555555555555556,
              "#d8576b"
             ],
             [
              0.6666666666666666,
              "#ed7953"
             ],
             [
              0.7777777777777778,
              "#fb9f3a"
             ],
             [
              0.8888888888888888,
              "#fdca26"
             ],
             [
              1,
              "#f0f921"
             ]
            ],
            "type": "contour"
           }
          ],
          "contourcarpet": [
           {
            "colorbar": {
             "outlinewidth": 0,
             "ticks": ""
            },
            "type": "contourcarpet"
           }
          ],
          "heatmap": [
           {
            "colorbar": {
             "outlinewidth": 0,
             "ticks": ""
            },
            "colorscale": [
             [
              0,
              "#0d0887"
             ],
             [
              0.1111111111111111,
              "#46039f"
             ],
             [
              0.2222222222222222,
              "#7201a8"
             ],
             [
              0.3333333333333333,
              "#9c179e"
             ],
             [
              0.4444444444444444,
              "#bd3786"
             ],
             [
              0.5555555555555556,
              "#d8576b"
             ],
             [
              0.6666666666666666,
              "#ed7953"
             ],
             [
              0.7777777777777778,
              "#fb9f3a"
             ],
             [
              0.8888888888888888,
              "#fdca26"
             ],
             [
              1,
              "#f0f921"
             ]
            ],
            "type": "heatmap"
           }
          ],
          "heatmapgl": [
           {
            "colorbar": {
             "outlinewidth": 0,
             "ticks": ""
            },
            "colorscale": [
             [
              0,
              "#0d0887"
             ],
             [
              0.1111111111111111,
              "#46039f"
             ],
             [
              0.2222222222222222,
              "#7201a8"
             ],
             [
              0.3333333333333333,
              "#9c179e"
             ],
             [
              0.4444444444444444,
              "#bd3786"
             ],
             [
              0.5555555555555556,
              "#d8576b"
             ],
             [
              0.6666666666666666,
              "#ed7953"
             ],
             [
              0.7777777777777778,
              "#fb9f3a"
             ],
             [
              0.8888888888888888,
              "#fdca26"
             ],
             [
              1,
              "#f0f921"
             ]
            ],
            "type": "heatmapgl"
           }
          ],
          "histogram": [
           {
            "marker": {
             "pattern": {
              "fillmode": "overlay",
              "size": 10,
              "solidity": 0.2
             }
            },
            "type": "histogram"
           }
          ],
          "histogram2d": [
           {
            "colorbar": {
             "outlinewidth": 0,
             "ticks": ""
            },
            "colorscale": [
             [
              0,
              "#0d0887"
             ],
             [
              0.1111111111111111,
              "#46039f"
             ],
             [
              0.2222222222222222,
              "#7201a8"
             ],
             [
              0.3333333333333333,
              "#9c179e"
             ],
             [
              0.4444444444444444,
              "#bd3786"
             ],
             [
              0.5555555555555556,
              "#d8576b"
             ],
             [
              0.6666666666666666,
              "#ed7953"
             ],
             [
              0.7777777777777778,
              "#fb9f3a"
             ],
             [
              0.8888888888888888,
              "#fdca26"
             ],
             [
              1,
              "#f0f921"
             ]
            ],
            "type": "histogram2d"
           }
          ],
          "histogram2dcontour": [
           {
            "colorbar": {
             "outlinewidth": 0,
             "ticks": ""
            },
            "colorscale": [
             [
              0,
              "#0d0887"
             ],
             [
              0.1111111111111111,
              "#46039f"
             ],
             [
              0.2222222222222222,
              "#7201a8"
             ],
             [
              0.3333333333333333,
              "#9c179e"
             ],
             [
              0.4444444444444444,
              "#bd3786"
             ],
             [
              0.5555555555555556,
              "#d8576b"
             ],
             [
              0.6666666666666666,
              "#ed7953"
             ],
             [
              0.7777777777777778,
              "#fb9f3a"
             ],
             [
              0.8888888888888888,
              "#fdca26"
             ],
             [
              1,
              "#f0f921"
             ]
            ],
            "type": "histogram2dcontour"
           }
          ],
          "mesh3d": [
           {
            "colorbar": {
             "outlinewidth": 0,
             "ticks": ""
            },
            "type": "mesh3d"
           }
          ],
          "parcoords": [
           {
            "line": {
             "colorbar": {
              "outlinewidth": 0,
              "ticks": ""
             }
            },
            "type": "parcoords"
           }
          ],
          "pie": [
           {
            "automargin": true,
            "type": "pie"
           }
          ],
          "scatter": [
           {
            "marker": {
             "line": {
              "color": "#283442"
             }
            },
            "type": "scatter"
           }
          ],
          "scatter3d": [
           {
            "line": {
             "colorbar": {
              "outlinewidth": 0,
              "ticks": ""
             }
            },
            "marker": {
             "colorbar": {
              "outlinewidth": 0,
              "ticks": ""
             }
            },
            "type": "scatter3d"
           }
          ],
          "scattercarpet": [
           {
            "marker": {
             "colorbar": {
              "outlinewidth": 0,
              "ticks": ""
             }
            },
            "type": "scattercarpet"
           }
          ],
          "scattergeo": [
           {
            "marker": {
             "colorbar": {
              "outlinewidth": 0,
              "ticks": ""
             }
            },
            "type": "scattergeo"
           }
          ],
          "scattergl": [
           {
            "marker": {
             "line": {
              "color": "#283442"
             }
            },
            "type": "scattergl"
           }
          ],
          "scattermapbox": [
           {
            "marker": {
             "colorbar": {
              "outlinewidth": 0,
              "ticks": ""
             }
            },
            "type": "scattermapbox"
           }
          ],
          "scatterpolar": [
           {
            "marker": {
             "colorbar": {
              "outlinewidth": 0,
              "ticks": ""
             }
            },
            "type": "scatterpolar"
           }
          ],
          "scatterpolargl": [
           {
            "marker": {
             "colorbar": {
              "outlinewidth": 0,
              "ticks": ""
             }
            },
            "type": "scatterpolargl"
           }
          ],
          "scatterternary": [
           {
            "marker": {
             "colorbar": {
              "outlinewidth": 0,
              "ticks": ""
             }
            },
            "type": "scatterternary"
           }
          ],
          "surface": [
           {
            "colorbar": {
             "outlinewidth": 0,
             "ticks": ""
            },
            "colorscale": [
             [
              0,
              "#0d0887"
             ],
             [
              0.1111111111111111,
              "#46039f"
             ],
             [
              0.2222222222222222,
              "#7201a8"
             ],
             [
              0.3333333333333333,
              "#9c179e"
             ],
             [
              0.4444444444444444,
              "#bd3786"
             ],
             [
              0.5555555555555556,
              "#d8576b"
             ],
             [
              0.6666666666666666,
              "#ed7953"
             ],
             [
              0.7777777777777778,
              "#fb9f3a"
             ],
             [
              0.8888888888888888,
              "#fdca26"
             ],
             [
              1,
              "#f0f921"
             ]
            ],
            "type": "surface"
           }
          ],
          "table": [
           {
            "cells": {
             "fill": {
              "color": "#506784"
             },
             "line": {
              "color": "rgb(17,17,17)"
             }
            },
            "header": {
             "fill": {
              "color": "#2a3f5f"
             },
             "line": {
              "color": "rgb(17,17,17)"
             }
            },
            "type": "table"
           }
          ]
         },
         "layout": {
          "annotationdefaults": {
           "arrowcolor": "#f2f5fa",
           "arrowhead": 0,
           "arrowwidth": 1
          },
          "autotypenumbers": "strict",
          "coloraxis": {
           "colorbar": {
            "outlinewidth": 0,
            "ticks": ""
           }
          },
          "colorscale": {
           "diverging": [
            [
             0,
             "#8e0152"
            ],
            [
             0.1,
             "#c51b7d"
            ],
            [
             0.2,
             "#de77ae"
            ],
            [
             0.3,
             "#f1b6da"
            ],
            [
             0.4,
             "#fde0ef"
            ],
            [
             0.5,
             "#f7f7f7"
            ],
            [
             0.6,
             "#e6f5d0"
            ],
            [
             0.7,
             "#b8e186"
            ],
            [
             0.8,
             "#7fbc41"
            ],
            [
             0.9,
             "#4d9221"
            ],
            [
             1,
             "#276419"
            ]
           ],
           "sequential": [
            [
             0,
             "#0d0887"
            ],
            [
             0.1111111111111111,
             "#46039f"
            ],
            [
             0.2222222222222222,
             "#7201a8"
            ],
            [
             0.3333333333333333,
             "#9c179e"
            ],
            [
             0.4444444444444444,
             "#bd3786"
            ],
            [
             0.5555555555555556,
             "#d8576b"
            ],
            [
             0.6666666666666666,
             "#ed7953"
            ],
            [
             0.7777777777777778,
             "#fb9f3a"
            ],
            [
             0.8888888888888888,
             "#fdca26"
            ],
            [
             1,
             "#f0f921"
            ]
           ],
           "sequentialminus": [
            [
             0,
             "#0d0887"
            ],
            [
             0.1111111111111111,
             "#46039f"
            ],
            [
             0.2222222222222222,
             "#7201a8"
            ],
            [
             0.3333333333333333,
             "#9c179e"
            ],
            [
             0.4444444444444444,
             "#bd3786"
            ],
            [
             0.5555555555555556,
             "#d8576b"
            ],
            [
             0.6666666666666666,
             "#ed7953"
            ],
            [
             0.7777777777777778,
             "#fb9f3a"
            ],
            [
             0.8888888888888888,
             "#fdca26"
            ],
            [
             1,
             "#f0f921"
            ]
           ]
          },
          "colorway": [
           "#636efa",
           "#EF553B",
           "#00cc96",
           "#ab63fa",
           "#FFA15A",
           "#19d3f3",
           "#FF6692",
           "#B6E880",
           "#FF97FF",
           "#FECB52"
          ],
          "font": {
           "color": "#f2f5fa"
          },
          "geo": {
           "bgcolor": "rgb(17,17,17)",
           "lakecolor": "rgb(17,17,17)",
           "landcolor": "rgb(17,17,17)",
           "showlakes": true,
           "showland": true,
           "subunitcolor": "#506784"
          },
          "hoverlabel": {
           "align": "left"
          },
          "hovermode": "closest",
          "mapbox": {
           "style": "dark"
          },
          "paper_bgcolor": "rgb(17,17,17)",
          "plot_bgcolor": "rgb(17,17,17)",
          "polar": {
           "angularaxis": {
            "gridcolor": "#506784",
            "linecolor": "#506784",
            "ticks": ""
           },
           "bgcolor": "rgb(17,17,17)",
           "radialaxis": {
            "gridcolor": "#506784",
            "linecolor": "#506784",
            "ticks": ""
           }
          },
          "scene": {
           "xaxis": {
            "backgroundcolor": "rgb(17,17,17)",
            "gridcolor": "#506784",
            "gridwidth": 2,
            "linecolor": "#506784",
            "showbackground": true,
            "ticks": "",
            "zerolinecolor": "#C8D4E3"
           },
           "yaxis": {
            "backgroundcolor": "rgb(17,17,17)",
            "gridcolor": "#506784",
            "gridwidth": 2,
            "linecolor": "#506784",
            "showbackground": true,
            "ticks": "",
            "zerolinecolor": "#C8D4E3"
           },
           "zaxis": {
            "backgroundcolor": "rgb(17,17,17)",
            "gridcolor": "#506784",
            "gridwidth": 2,
            "linecolor": "#506784",
            "showbackground": true,
            "ticks": "",
            "zerolinecolor": "#C8D4E3"
           }
          },
          "shapedefaults": {
           "line": {
            "color": "#f2f5fa"
           }
          },
          "sliderdefaults": {
           "bgcolor": "#C8D4E3",
           "bordercolor": "rgb(17,17,17)",
           "borderwidth": 1,
           "tickwidth": 0
          },
          "ternary": {
           "aaxis": {
            "gridcolor": "#506784",
            "linecolor": "#506784",
            "ticks": ""
           },
           "baxis": {
            "gridcolor": "#506784",
            "linecolor": "#506784",
            "ticks": ""
           },
           "bgcolor": "rgb(17,17,17)",
           "caxis": {
            "gridcolor": "#506784",
            "linecolor": "#506784",
            "ticks": ""
           }
          },
          "title": {
           "x": 0.05
          },
          "updatemenudefaults": {
           "bgcolor": "#506784",
           "borderwidth": 0
          },
          "xaxis": {
           "automargin": true,
           "gridcolor": "#283442",
           "linecolor": "#506784",
           "ticks": "",
           "title": {
            "standoff": 15
           },
           "zerolinecolor": "#283442",
           "zerolinewidth": 2
          },
          "yaxis": {
           "automargin": true,
           "gridcolor": "#283442",
           "linecolor": "#506784",
           "ticks": "",
           "title": {
            "standoff": 15
           },
           "zerolinecolor": "#283442",
           "zerolinewidth": 2
          }
         }
        },
        "title": {
         "text": "STACKED BAR CHART DISTRIBUTION OF TOTAL ASSETS AND LIABILITIES (2009-2019)"
        },
        "xaxis": {
         "anchor": "y",
         "domain": [
          0,
          1
         ],
         "title": {
          "text": "index"
         }
        },
        "yaxis": {
         "anchor": "x",
         "domain": [
          0,
          1
         ],
         "title": {
          "text": "value"
         }
        }
       }
      },
      "text/html": [
       "<div>                            <div id=\"edb17861-4915-4d5e-adc6-bc55906ce463\" class=\"plotly-graph-div\" style=\"height:525px; width:100%;\"></div>            <script type=\"text/javascript\">                require([\"plotly\"], function(Plotly) {                    window.PLOTLYENV=window.PLOTLYENV || {};                                    if (document.getElementById(\"edb17861-4915-4d5e-adc6-bc55906ce463\")) {                    Plotly.newPlot(                        \"edb17861-4915-4d5e-adc6-bc55906ce463\",                        [{\"alignmentgroup\":\"True\",\"hovertemplate\":\"variable=Assets<br>index=%{x}<br>value=%{y}<extra></extra>\",\"legendgroup\":\"Assets\",\"marker\":{\"color\":\"#636efa\",\"pattern\":{\"shape\":\"\"}},\"name\":\"Assets\",\"offsetgroup\":\"Assets\",\"orientation\":\"v\",\"showlegend\":true,\"textposition\":\"auto\",\"x\":[\"Dec. 31, 2009\",\"Dec. 31, 2010\",\"Dec. 31, 2011\",\"Dec. 31, 2012\",\"Dec. 31, 2013\",\"Dec. 31, 2014\",\"Dec. 31, 2015\",\"Dec. 31, 2016\",\"Dec. 31, 2017\",\"Dec. 31, 2018\",\"Dec. 31, 2019\"],\"xaxis\":\"x\",\"y\":[48671,72921,79974,86174,90055,92023,90093,87270,87896,83216,86381],\"yaxis\":\"y\",\"type\":\"bar\"},{\"alignmentgroup\":\"True\",\"hovertemplate\":\"variable=Liabilities<br>index=%{x}<br>value=%{y}<extra></extra>\",\"legendgroup\":\"Liabilities\",\"marker\":{\"color\":\"#EF553B\",\"pattern\":{\"shape\":\"\"}},\"name\":\"Liabilities\",\"offsetgroup\":\"Liabilities\",\"orientation\":\"v\",\"showlegend\":true,\"textposition\":\"auto\",\"x\":[\"Dec. 31, 2009\",\"Dec. 31, 2010\",\"Dec. 31, 2011\",\"Dec. 31, 2012\",\"Dec. 31, 2013\",\"Dec. 31, 2014\",\"Dec. 31, 2015\",\"Dec. 31, 2016\",\"Dec. 31, 2017\",\"Dec. 31, 2018\",\"Dec. 31, 2019\"],\"xaxis\":\"x\",\"y\":[23325,41604,48053,53006,56615,61462,64329,64050,68919,64158,65283],\"yaxis\":\"y\",\"type\":\"bar\"}],                        {\"template\":{\"data\":{\"barpolar\":[{\"marker\":{\"line\":{\"color\":\"rgb(17,17,17)\",\"width\":0.5},\"pattern\":{\"fillmode\":\"overlay\",\"size\":10,\"solidity\":0.2}},\"type\":\"barpolar\"}],\"bar\":[{\"error_x\":{\"color\":\"#f2f5fa\"},\"error_y\":{\"color\":\"#f2f5fa\"},\"marker\":{\"line\":{\"color\":\"rgb(17,17,17)\",\"width\":0.5},\"pattern\":{\"fillmode\":\"overlay\",\"size\":10,\"solidity\":0.2}},\"type\":\"bar\"}],\"carpet\":[{\"aaxis\":{\"endlinecolor\":\"#A2B1C6\",\"gridcolor\":\"#506784\",\"linecolor\":\"#506784\",\"minorgridcolor\":\"#506784\",\"startlinecolor\":\"#A2B1C6\"},\"baxis\":{\"endlinecolor\":\"#A2B1C6\",\"gridcolor\":\"#506784\",\"linecolor\":\"#506784\",\"minorgridcolor\":\"#506784\",\"startlinecolor\":\"#A2B1C6\"},\"type\":\"carpet\"}],\"choropleth\":[{\"colorbar\":{\"outlinewidth\":0,\"ticks\":\"\"},\"type\":\"choropleth\"}],\"contourcarpet\":[{\"colorbar\":{\"outlinewidth\":0,\"ticks\":\"\"},\"type\":\"contourcarpet\"}],\"contour\":[{\"colorbar\":{\"outlinewidth\":0,\"ticks\":\"\"},\"colorscale\":[[0.0,\"#0d0887\"],[0.1111111111111111,\"#46039f\"],[0.2222222222222222,\"#7201a8\"],[0.3333333333333333,\"#9c179e\"],[0.4444444444444444,\"#bd3786\"],[0.5555555555555556,\"#d8576b\"],[0.6666666666666666,\"#ed7953\"],[0.7777777777777778,\"#fb9f3a\"],[0.8888888888888888,\"#fdca26\"],[1.0,\"#f0f921\"]],\"type\":\"contour\"}],\"heatmapgl\":[{\"colorbar\":{\"outlinewidth\":0,\"ticks\":\"\"},\"colorscale\":[[0.0,\"#0d0887\"],[0.1111111111111111,\"#46039f\"],[0.2222222222222222,\"#7201a8\"],[0.3333333333333333,\"#9c179e\"],[0.4444444444444444,\"#bd3786\"],[0.5555555555555556,\"#d8576b\"],[0.6666666666666666,\"#ed7953\"],[0.7777777777777778,\"#fb9f3a\"],[0.8888888888888888,\"#fdca26\"],[1.0,\"#f0f921\"]],\"type\":\"heatmapgl\"}],\"heatmap\":[{\"colorbar\":{\"outlinewidth\":0,\"ticks\":\"\"},\"colorscale\":[[0.0,\"#0d0887\"],[0.1111111111111111,\"#46039f\"],[0.2222222222222222,\"#7201a8\"],[0.3333333333333333,\"#9c179e\"],[0.4444444444444444,\"#bd3786\"],[0.5555555555555556,\"#d8576b\"],[0.6666666666666666,\"#ed7953\"],[0.7777777777777778,\"#fb9f3a\"],[0.8888888888888888,\"#fdca26\"],[1.0,\"#f0f921\"]],\"type\":\"heatmap\"}],\"histogram2dcontour\":[{\"colorbar\":{\"outlinewidth\":0,\"ticks\":\"\"},\"colorscale\":[[0.0,\"#0d0887\"],[0.1111111111111111,\"#46039f\"],[0.2222222222222222,\"#7201a8\"],[0.3333333333333333,\"#9c179e\"],[0.4444444444444444,\"#bd3786\"],[0.5555555555555556,\"#d8576b\"],[0.6666666666666666,\"#ed7953\"],[0.7777777777777778,\"#fb9f3a\"],[0.8888888888888888,\"#fdca26\"],[1.0,\"#f0f921\"]],\"type\":\"histogram2dcontour\"}],\"histogram2d\":[{\"colorbar\":{\"outlinewidth\":0,\"ticks\":\"\"},\"colorscale\":[[0.0,\"#0d0887\"],[0.1111111111111111,\"#46039f\"],[0.2222222222222222,\"#7201a8\"],[0.3333333333333333,\"#9c179e\"],[0.4444444444444444,\"#bd3786\"],[0.5555555555555556,\"#d8576b\"],[0.6666666666666666,\"#ed7953\"],[0.7777777777777778,\"#fb9f3a\"],[0.8888888888888888,\"#fdca26\"],[1.0,\"#f0f921\"]],\"type\":\"histogram2d\"}],\"histogram\":[{\"marker\":{\"pattern\":{\"fillmode\":\"overlay\",\"size\":10,\"solidity\":0.2}},\"type\":\"histogram\"}],\"mesh3d\":[{\"colorbar\":{\"outlinewidth\":0,\"ticks\":\"\"},\"type\":\"mesh3d\"}],\"parcoords\":[{\"line\":{\"colorbar\":{\"outlinewidth\":0,\"ticks\":\"\"}},\"type\":\"parcoords\"}],\"pie\":[{\"automargin\":true,\"type\":\"pie\"}],\"scatter3d\":[{\"line\":{\"colorbar\":{\"outlinewidth\":0,\"ticks\":\"\"}},\"marker\":{\"colorbar\":{\"outlinewidth\":0,\"ticks\":\"\"}},\"type\":\"scatter3d\"}],\"scattercarpet\":[{\"marker\":{\"colorbar\":{\"outlinewidth\":0,\"ticks\":\"\"}},\"type\":\"scattercarpet\"}],\"scattergeo\":[{\"marker\":{\"colorbar\":{\"outlinewidth\":0,\"ticks\":\"\"}},\"type\":\"scattergeo\"}],\"scattergl\":[{\"marker\":{\"line\":{\"color\":\"#283442\"}},\"type\":\"scattergl\"}],\"scattermapbox\":[{\"marker\":{\"colorbar\":{\"outlinewidth\":0,\"ticks\":\"\"}},\"type\":\"scattermapbox\"}],\"scatterpolargl\":[{\"marker\":{\"colorbar\":{\"outlinewidth\":0,\"ticks\":\"\"}},\"type\":\"scatterpolargl\"}],\"scatterpolar\":[{\"marker\":{\"colorbar\":{\"outlinewidth\":0,\"ticks\":\"\"}},\"type\":\"scatterpolar\"}],\"scatter\":[{\"marker\":{\"line\":{\"color\":\"#283442\"}},\"type\":\"scatter\"}],\"scatterternary\":[{\"marker\":{\"colorbar\":{\"outlinewidth\":0,\"ticks\":\"\"}},\"type\":\"scatterternary\"}],\"surface\":[{\"colorbar\":{\"outlinewidth\":0,\"ticks\":\"\"},\"colorscale\":[[0.0,\"#0d0887\"],[0.1111111111111111,\"#46039f\"],[0.2222222222222222,\"#7201a8\"],[0.3333333333333333,\"#9c179e\"],[0.4444444444444444,\"#bd3786\"],[0.5555555555555556,\"#d8576b\"],[0.6666666666666666,\"#ed7953\"],[0.7777777777777778,\"#fb9f3a\"],[0.8888888888888888,\"#fdca26\"],[1.0,\"#f0f921\"]],\"type\":\"surface\"}],\"table\":[{\"cells\":{\"fill\":{\"color\":\"#506784\"},\"line\":{\"color\":\"rgb(17,17,17)\"}},\"header\":{\"fill\":{\"color\":\"#2a3f5f\"},\"line\":{\"color\":\"rgb(17,17,17)\"}},\"type\":\"table\"}]},\"layout\":{\"annotationdefaults\":{\"arrowcolor\":\"#f2f5fa\",\"arrowhead\":0,\"arrowwidth\":1},\"autotypenumbers\":\"strict\",\"coloraxis\":{\"colorbar\":{\"outlinewidth\":0,\"ticks\":\"\"}},\"colorscale\":{\"diverging\":[[0,\"#8e0152\"],[0.1,\"#c51b7d\"],[0.2,\"#de77ae\"],[0.3,\"#f1b6da\"],[0.4,\"#fde0ef\"],[0.5,\"#f7f7f7\"],[0.6,\"#e6f5d0\"],[0.7,\"#b8e186\"],[0.8,\"#7fbc41\"],[0.9,\"#4d9221\"],[1,\"#276419\"]],\"sequential\":[[0.0,\"#0d0887\"],[0.1111111111111111,\"#46039f\"],[0.2222222222222222,\"#7201a8\"],[0.3333333333333333,\"#9c179e\"],[0.4444444444444444,\"#bd3786\"],[0.5555555555555556,\"#d8576b\"],[0.6666666666666666,\"#ed7953\"],[0.7777777777777778,\"#fb9f3a\"],[0.8888888888888888,\"#fdca26\"],[1.0,\"#f0f921\"]],\"sequentialminus\":[[0.0,\"#0d0887\"],[0.1111111111111111,\"#46039f\"],[0.2222222222222222,\"#7201a8\"],[0.3333333333333333,\"#9c179e\"],[0.4444444444444444,\"#bd3786\"],[0.5555555555555556,\"#d8576b\"],[0.6666666666666666,\"#ed7953\"],[0.7777777777777778,\"#fb9f3a\"],[0.8888888888888888,\"#fdca26\"],[1.0,\"#f0f921\"]]},\"colorway\":[\"#636efa\",\"#EF553B\",\"#00cc96\",\"#ab63fa\",\"#FFA15A\",\"#19d3f3\",\"#FF6692\",\"#B6E880\",\"#FF97FF\",\"#FECB52\"],\"font\":{\"color\":\"#f2f5fa\"},\"geo\":{\"bgcolor\":\"rgb(17,17,17)\",\"lakecolor\":\"rgb(17,17,17)\",\"landcolor\":\"rgb(17,17,17)\",\"showlakes\":true,\"showland\":true,\"subunitcolor\":\"#506784\"},\"hoverlabel\":{\"align\":\"left\"},\"hovermode\":\"closest\",\"mapbox\":{\"style\":\"dark\"},\"paper_bgcolor\":\"rgb(17,17,17)\",\"plot_bgcolor\":\"rgb(17,17,17)\",\"polar\":{\"angularaxis\":{\"gridcolor\":\"#506784\",\"linecolor\":\"#506784\",\"ticks\":\"\"},\"bgcolor\":\"rgb(17,17,17)\",\"radialaxis\":{\"gridcolor\":\"#506784\",\"linecolor\":\"#506784\",\"ticks\":\"\"}},\"scene\":{\"xaxis\":{\"backgroundcolor\":\"rgb(17,17,17)\",\"gridcolor\":\"#506784\",\"gridwidth\":2,\"linecolor\":\"#506784\",\"showbackground\":true,\"ticks\":\"\",\"zerolinecolor\":\"#C8D4E3\"},\"yaxis\":{\"backgroundcolor\":\"rgb(17,17,17)\",\"gridcolor\":\"#506784\",\"gridwidth\":2,\"linecolor\":\"#506784\",\"showbackground\":true,\"ticks\":\"\",\"zerolinecolor\":\"#C8D4E3\"},\"zaxis\":{\"backgroundcolor\":\"rgb(17,17,17)\",\"gridcolor\":\"#506784\",\"gridwidth\":2,\"linecolor\":\"#506784\",\"showbackground\":true,\"ticks\":\"\",\"zerolinecolor\":\"#C8D4E3\"}},\"shapedefaults\":{\"line\":{\"color\":\"#f2f5fa\"}},\"sliderdefaults\":{\"bgcolor\":\"#C8D4E3\",\"bordercolor\":\"rgb(17,17,17)\",\"borderwidth\":1,\"tickwidth\":0},\"ternary\":{\"aaxis\":{\"gridcolor\":\"#506784\",\"linecolor\":\"#506784\",\"ticks\":\"\"},\"baxis\":{\"gridcolor\":\"#506784\",\"linecolor\":\"#506784\",\"ticks\":\"\"},\"bgcolor\":\"rgb(17,17,17)\",\"caxis\":{\"gridcolor\":\"#506784\",\"linecolor\":\"#506784\",\"ticks\":\"\"}},\"title\":{\"x\":0.05},\"updatemenudefaults\":{\"bgcolor\":\"#506784\",\"borderwidth\":0},\"xaxis\":{\"automargin\":true,\"gridcolor\":\"#283442\",\"linecolor\":\"#506784\",\"ticks\":\"\",\"title\":{\"standoff\":15},\"zerolinecolor\":\"#283442\",\"zerolinewidth\":2},\"yaxis\":{\"automargin\":true,\"gridcolor\":\"#283442\",\"linecolor\":\"#506784\",\"ticks\":\"\",\"title\":{\"standoff\":15},\"zerolinecolor\":\"#283442\",\"zerolinewidth\":2}}},\"xaxis\":{\"anchor\":\"y\",\"domain\":[0.0,1.0],\"title\":{\"text\":\"index\"}},\"yaxis\":{\"anchor\":\"x\",\"domain\":[0.0,1.0],\"title\":{\"text\":\"value\"}},\"legend\":{\"title\":{\"text\":\"variable\"},\"tracegroupgap\":0},\"title\":{\"text\":\"STACKED BAR CHART DISTRIBUTION OF TOTAL ASSETS AND LIABILITIES (2009-2019)\"},\"barmode\":\"relative\"},                        {\"responsive\": true}                    ).then(function(){\n",
       "                            \n",
       "var gd = document.getElementById('edb17861-4915-4d5e-adc6-bc55906ce463');\n",
       "var x = new MutationObserver(function (mutations, observer) {{\n",
       "        var display = window.getComputedStyle(gd).display;\n",
       "        if (!display || display === 'none') {{\n",
       "            console.log([gd, 'removed!']);\n",
       "            Plotly.purge(gd);\n",
       "            observer.disconnect();\n",
       "        }}\n",
       "}});\n",
       "\n",
       "// Listen for the removal of the full notebook cells\n",
       "var notebookContainer = gd.closest('#notebook-container');\n",
       "if (notebookContainer) {{\n",
       "    x.observe(notebookContainer, {childList: true});\n",
       "}}\n",
       "\n",
       "// Listen for the clearing of the current output cell\n",
       "var outputEl = gd.closest('.output');\n",
       "if (outputEl) {{\n",
       "    x.observe(outputEl, {childList: true});\n",
       "}}\n",
       "\n",
       "                        })                };                });            </script>        </div>"
      ]
     },
     "metadata": {},
     "output_type": "display_data"
    }
   ],
   "source": [
    "px.bar(data_frame = df, y = ['Assets', 'Liabilities'], template = 'plotly_dark', title = 'STACKED BAR CHART DISTRIBUTION OF TOTAL ASSETS AND LIABILITIES (2009-2019)')"
   ]
  },
  {
   "cell_type": "markdown",
   "metadata": {},
   "source": [
    "__OBSERVATION__\n",
    "From the charts above, we see that the Assets are way more than the liabilities. This suggests that the company should be able to cover its short-term obligations."
   ]
  },
  {
   "cell_type": "markdown",
   "metadata": {},
   "source": [
    "\n",
    "\n",
    "\n",
    "### 2. Total Equity Distribution\n",
    "  "
   ]
  },
  {
   "cell_type": "code",
   "execution_count": 57,
   "metadata": {},
   "outputs": [
    {
     "data": {
      "text/plain": [
       "CONSOLIDATED BALANCE SHEETS - USD ($) $ in Millions    EQUITY ATTRIBUTABLE TO SHAREOWNERS OF THE COCA...\n",
       "Category                                                                                    EquityEquity\n",
       "Dec. 31, 2009                                                                                      25346\n",
       "Dec. 31, 2010                                                                                      31317\n",
       "Dec. 31, 2011                                                                                      31921\n",
       "Dec. 31, 2012                                                                                      33168\n",
       "Dec. 31, 2013                                                                                      33440\n",
       "Dec. 31, 2014                                                                                      30561\n",
       "Dec. 31, 2015                                                                                      25764\n",
       "Dec. 31, 2016                                                                                      23220\n",
       "Dec. 31, 2017                                                                                      18977\n",
       "Dec. 31, 2018                                                                                      19058\n",
       "Dec. 31, 2019                                                                                      21098\n",
       "dtype: object"
      ]
     },
     "execution_count": 57,
     "metadata": {},
     "output_type": "execute_result"
    }
   ],
   "source": [
    "# we need to create an equity column\n",
    "sum_eq = data.loc[31:].sum()\n",
    "sum_eq"
   ]
  },
  {
   "cell_type": "code",
   "execution_count": 58,
   "metadata": {},
   "outputs": [
    {
     "data": {
      "text/html": [
       "<div>\n",
       "<style scoped>\n",
       "    .dataframe tbody tr th:only-of-type {\n",
       "        vertical-align: middle;\n",
       "    }\n",
       "\n",
       "    .dataframe tbody tr th {\n",
       "        vertical-align: top;\n",
       "    }\n",
       "\n",
       "    .dataframe thead th {\n",
       "        text-align: right;\n",
       "    }\n",
       "</style>\n",
       "<table border=\"1\" class=\"dataframe\">\n",
       "  <thead>\n",
       "    <tr style=\"text-align: right;\">\n",
       "      <th>Category</th>\n",
       "      <th>Assets</th>\n",
       "      <th>Liabilities</th>\n",
       "      <th>Equity_Total</th>\n",
       "    </tr>\n",
       "  </thead>\n",
       "  <tbody>\n",
       "    <tr>\n",
       "      <th>Dec. 31, 2009</th>\n",
       "      <td>48671</td>\n",
       "      <td>23325</td>\n",
       "      <td>25346</td>\n",
       "    </tr>\n",
       "    <tr>\n",
       "      <th>Dec. 31, 2010</th>\n",
       "      <td>72921</td>\n",
       "      <td>41604</td>\n",
       "      <td>31317</td>\n",
       "    </tr>\n",
       "    <tr>\n",
       "      <th>Dec. 31, 2011</th>\n",
       "      <td>79974</td>\n",
       "      <td>48053</td>\n",
       "      <td>31921</td>\n",
       "    </tr>\n",
       "    <tr>\n",
       "      <th>Dec. 31, 2012</th>\n",
       "      <td>86174</td>\n",
       "      <td>53006</td>\n",
       "      <td>33168</td>\n",
       "    </tr>\n",
       "    <tr>\n",
       "      <th>Dec. 31, 2013</th>\n",
       "      <td>90055</td>\n",
       "      <td>56615</td>\n",
       "      <td>33440</td>\n",
       "    </tr>\n",
       "    <tr>\n",
       "      <th>Dec. 31, 2014</th>\n",
       "      <td>92023</td>\n",
       "      <td>61462</td>\n",
       "      <td>30561</td>\n",
       "    </tr>\n",
       "    <tr>\n",
       "      <th>Dec. 31, 2015</th>\n",
       "      <td>90093</td>\n",
       "      <td>64329</td>\n",
       "      <td>25764</td>\n",
       "    </tr>\n",
       "    <tr>\n",
       "      <th>Dec. 31, 2016</th>\n",
       "      <td>87270</td>\n",
       "      <td>64050</td>\n",
       "      <td>23220</td>\n",
       "    </tr>\n",
       "    <tr>\n",
       "      <th>Dec. 31, 2017</th>\n",
       "      <td>87896</td>\n",
       "      <td>68919</td>\n",
       "      <td>18977</td>\n",
       "    </tr>\n",
       "    <tr>\n",
       "      <th>Dec. 31, 2018</th>\n",
       "      <td>83216</td>\n",
       "      <td>64158</td>\n",
       "      <td>19058</td>\n",
       "    </tr>\n",
       "    <tr>\n",
       "      <th>Dec. 31, 2019</th>\n",
       "      <td>86381</td>\n",
       "      <td>65283</td>\n",
       "      <td>21098</td>\n",
       "    </tr>\n",
       "  </tbody>\n",
       "</table>\n",
       "</div>"
      ],
      "text/plain": [
       "Category       Assets  Liabilities Equity_Total\n",
       "Dec. 31, 2009   48671        23325        25346\n",
       "Dec. 31, 2010   72921        41604        31317\n",
       "Dec. 31, 2011   79974        48053        31921\n",
       "Dec. 31, 2012   86174        53006        33168\n",
       "Dec. 31, 2013   90055        56615        33440\n",
       "Dec. 31, 2014   92023        61462        30561\n",
       "Dec. 31, 2015   90093        64329        25764\n",
       "Dec. 31, 2016   87270        64050        23220\n",
       "Dec. 31, 2017   87896        68919        18977\n",
       "Dec. 31, 2018   83216        64158        19058\n",
       "Dec. 31, 2019   86381        65283        21098"
      ]
     },
     "execution_count": 58,
     "metadata": {},
     "output_type": "execute_result"
    }
   ],
   "source": [
    "df['Equity_Total']= sum_eq.T\n",
    "df"
   ]
  },
  {
   "cell_type": "code",
   "execution_count": 59,
   "metadata": {},
   "outputs": [
    {
     "data": {
      "application/vnd.plotly.v1+json": {
       "config": {
        "plotlyServerURL": "https://plot.ly"
       },
       "data": [
        {
         "hovertemplate": "variable=Equity_Total<br>index=%{x}<br>value=%{y}<extra></extra>",
         "legendgroup": "Equity_Total",
         "line": {
          "color": "#636efa",
          "dash": "solid"
         },
         "marker": {
          "symbol": "circle"
         },
         "mode": "lines",
         "name": "Equity_Total",
         "orientation": "v",
         "showlegend": true,
         "type": "scatter",
         "x": [
          "Dec. 31, 2009",
          "Dec. 31, 2010",
          "Dec. 31, 2011",
          "Dec. 31, 2012",
          "Dec. 31, 2013",
          "Dec. 31, 2014",
          "Dec. 31, 2015",
          "Dec. 31, 2016",
          "Dec. 31, 2017",
          "Dec. 31, 2018",
          "Dec. 31, 2019"
         ],
         "xaxis": "x",
         "y": [
          25346,
          31317,
          31921,
          33168,
          33440,
          30561,
          25764,
          23220,
          18977,
          19058,
          21098
         ],
         "yaxis": "y"
        }
       ],
       "layout": {
        "legend": {
         "title": {
          "text": "variable"
         },
         "tracegroupgap": 0
        },
        "template": {
         "data": {
          "bar": [
           {
            "error_x": {
             "color": "#f2f5fa"
            },
            "error_y": {
             "color": "#f2f5fa"
            },
            "marker": {
             "line": {
              "color": "rgb(17,17,17)",
              "width": 0.5
             },
             "pattern": {
              "fillmode": "overlay",
              "size": 10,
              "solidity": 0.2
             }
            },
            "type": "bar"
           }
          ],
          "barpolar": [
           {
            "marker": {
             "line": {
              "color": "rgb(17,17,17)",
              "width": 0.5
             },
             "pattern": {
              "fillmode": "overlay",
              "size": 10,
              "solidity": 0.2
             }
            },
            "type": "barpolar"
           }
          ],
          "carpet": [
           {
            "aaxis": {
             "endlinecolor": "#A2B1C6",
             "gridcolor": "#506784",
             "linecolor": "#506784",
             "minorgridcolor": "#506784",
             "startlinecolor": "#A2B1C6"
            },
            "baxis": {
             "endlinecolor": "#A2B1C6",
             "gridcolor": "#506784",
             "linecolor": "#506784",
             "minorgridcolor": "#506784",
             "startlinecolor": "#A2B1C6"
            },
            "type": "carpet"
           }
          ],
          "choropleth": [
           {
            "colorbar": {
             "outlinewidth": 0,
             "ticks": ""
            },
            "type": "choropleth"
           }
          ],
          "contour": [
           {
            "colorbar": {
             "outlinewidth": 0,
             "ticks": ""
            },
            "colorscale": [
             [
              0,
              "#0d0887"
             ],
             [
              0.1111111111111111,
              "#46039f"
             ],
             [
              0.2222222222222222,
              "#7201a8"
             ],
             [
              0.3333333333333333,
              "#9c179e"
             ],
             [
              0.4444444444444444,
              "#bd3786"
             ],
             [
              0.5555555555555556,
              "#d8576b"
             ],
             [
              0.6666666666666666,
              "#ed7953"
             ],
             [
              0.7777777777777778,
              "#fb9f3a"
             ],
             [
              0.8888888888888888,
              "#fdca26"
             ],
             [
              1,
              "#f0f921"
             ]
            ],
            "type": "contour"
           }
          ],
          "contourcarpet": [
           {
            "colorbar": {
             "outlinewidth": 0,
             "ticks": ""
            },
            "type": "contourcarpet"
           }
          ],
          "heatmap": [
           {
            "colorbar": {
             "outlinewidth": 0,
             "ticks": ""
            },
            "colorscale": [
             [
              0,
              "#0d0887"
             ],
             [
              0.1111111111111111,
              "#46039f"
             ],
             [
              0.2222222222222222,
              "#7201a8"
             ],
             [
              0.3333333333333333,
              "#9c179e"
             ],
             [
              0.4444444444444444,
              "#bd3786"
             ],
             [
              0.5555555555555556,
              "#d8576b"
             ],
             [
              0.6666666666666666,
              "#ed7953"
             ],
             [
              0.7777777777777778,
              "#fb9f3a"
             ],
             [
              0.8888888888888888,
              "#fdca26"
             ],
             [
              1,
              "#f0f921"
             ]
            ],
            "type": "heatmap"
           }
          ],
          "heatmapgl": [
           {
            "colorbar": {
             "outlinewidth": 0,
             "ticks": ""
            },
            "colorscale": [
             [
              0,
              "#0d0887"
             ],
             [
              0.1111111111111111,
              "#46039f"
             ],
             [
              0.2222222222222222,
              "#7201a8"
             ],
             [
              0.3333333333333333,
              "#9c179e"
             ],
             [
              0.4444444444444444,
              "#bd3786"
             ],
             [
              0.5555555555555556,
              "#d8576b"
             ],
             [
              0.6666666666666666,
              "#ed7953"
             ],
             [
              0.7777777777777778,
              "#fb9f3a"
             ],
             [
              0.8888888888888888,
              "#fdca26"
             ],
             [
              1,
              "#f0f921"
             ]
            ],
            "type": "heatmapgl"
           }
          ],
          "histogram": [
           {
            "marker": {
             "pattern": {
              "fillmode": "overlay",
              "size": 10,
              "solidity": 0.2
             }
            },
            "type": "histogram"
           }
          ],
          "histogram2d": [
           {
            "colorbar": {
             "outlinewidth": 0,
             "ticks": ""
            },
            "colorscale": [
             [
              0,
              "#0d0887"
             ],
             [
              0.1111111111111111,
              "#46039f"
             ],
             [
              0.2222222222222222,
              "#7201a8"
             ],
             [
              0.3333333333333333,
              "#9c179e"
             ],
             [
              0.4444444444444444,
              "#bd3786"
             ],
             [
              0.5555555555555556,
              "#d8576b"
             ],
             [
              0.6666666666666666,
              "#ed7953"
             ],
             [
              0.7777777777777778,
              "#fb9f3a"
             ],
             [
              0.8888888888888888,
              "#fdca26"
             ],
             [
              1,
              "#f0f921"
             ]
            ],
            "type": "histogram2d"
           }
          ],
          "histogram2dcontour": [
           {
            "colorbar": {
             "outlinewidth": 0,
             "ticks": ""
            },
            "colorscale": [
             [
              0,
              "#0d0887"
             ],
             [
              0.1111111111111111,
              "#46039f"
             ],
             [
              0.2222222222222222,
              "#7201a8"
             ],
             [
              0.3333333333333333,
              "#9c179e"
             ],
             [
              0.4444444444444444,
              "#bd3786"
             ],
             [
              0.5555555555555556,
              "#d8576b"
             ],
             [
              0.6666666666666666,
              "#ed7953"
             ],
             [
              0.7777777777777778,
              "#fb9f3a"
             ],
             [
              0.8888888888888888,
              "#fdca26"
             ],
             [
              1,
              "#f0f921"
             ]
            ],
            "type": "histogram2dcontour"
           }
          ],
          "mesh3d": [
           {
            "colorbar": {
             "outlinewidth": 0,
             "ticks": ""
            },
            "type": "mesh3d"
           }
          ],
          "parcoords": [
           {
            "line": {
             "colorbar": {
              "outlinewidth": 0,
              "ticks": ""
             }
            },
            "type": "parcoords"
           }
          ],
          "pie": [
           {
            "automargin": true,
            "type": "pie"
           }
          ],
          "scatter": [
           {
            "marker": {
             "line": {
              "color": "#283442"
             }
            },
            "type": "scatter"
           }
          ],
          "scatter3d": [
           {
            "line": {
             "colorbar": {
              "outlinewidth": 0,
              "ticks": ""
             }
            },
            "marker": {
             "colorbar": {
              "outlinewidth": 0,
              "ticks": ""
             }
            },
            "type": "scatter3d"
           }
          ],
          "scattercarpet": [
           {
            "marker": {
             "colorbar": {
              "outlinewidth": 0,
              "ticks": ""
             }
            },
            "type": "scattercarpet"
           }
          ],
          "scattergeo": [
           {
            "marker": {
             "colorbar": {
              "outlinewidth": 0,
              "ticks": ""
             }
            },
            "type": "scattergeo"
           }
          ],
          "scattergl": [
           {
            "marker": {
             "line": {
              "color": "#283442"
             }
            },
            "type": "scattergl"
           }
          ],
          "scattermapbox": [
           {
            "marker": {
             "colorbar": {
              "outlinewidth": 0,
              "ticks": ""
             }
            },
            "type": "scattermapbox"
           }
          ],
          "scatterpolar": [
           {
            "marker": {
             "colorbar": {
              "outlinewidth": 0,
              "ticks": ""
             }
            },
            "type": "scatterpolar"
           }
          ],
          "scatterpolargl": [
           {
            "marker": {
             "colorbar": {
              "outlinewidth": 0,
              "ticks": ""
             }
            },
            "type": "scatterpolargl"
           }
          ],
          "scatterternary": [
           {
            "marker": {
             "colorbar": {
              "outlinewidth": 0,
              "ticks": ""
             }
            },
            "type": "scatterternary"
           }
          ],
          "surface": [
           {
            "colorbar": {
             "outlinewidth": 0,
             "ticks": ""
            },
            "colorscale": [
             [
              0,
              "#0d0887"
             ],
             [
              0.1111111111111111,
              "#46039f"
             ],
             [
              0.2222222222222222,
              "#7201a8"
             ],
             [
              0.3333333333333333,
              "#9c179e"
             ],
             [
              0.4444444444444444,
              "#bd3786"
             ],
             [
              0.5555555555555556,
              "#d8576b"
             ],
             [
              0.6666666666666666,
              "#ed7953"
             ],
             [
              0.7777777777777778,
              "#fb9f3a"
             ],
             [
              0.8888888888888888,
              "#fdca26"
             ],
             [
              1,
              "#f0f921"
             ]
            ],
            "type": "surface"
           }
          ],
          "table": [
           {
            "cells": {
             "fill": {
              "color": "#506784"
             },
             "line": {
              "color": "rgb(17,17,17)"
             }
            },
            "header": {
             "fill": {
              "color": "#2a3f5f"
             },
             "line": {
              "color": "rgb(17,17,17)"
             }
            },
            "type": "table"
           }
          ]
         },
         "layout": {
          "annotationdefaults": {
           "arrowcolor": "#f2f5fa",
           "arrowhead": 0,
           "arrowwidth": 1
          },
          "autotypenumbers": "strict",
          "coloraxis": {
           "colorbar": {
            "outlinewidth": 0,
            "ticks": ""
           }
          },
          "colorscale": {
           "diverging": [
            [
             0,
             "#8e0152"
            ],
            [
             0.1,
             "#c51b7d"
            ],
            [
             0.2,
             "#de77ae"
            ],
            [
             0.3,
             "#f1b6da"
            ],
            [
             0.4,
             "#fde0ef"
            ],
            [
             0.5,
             "#f7f7f7"
            ],
            [
             0.6,
             "#e6f5d0"
            ],
            [
             0.7,
             "#b8e186"
            ],
            [
             0.8,
             "#7fbc41"
            ],
            [
             0.9,
             "#4d9221"
            ],
            [
             1,
             "#276419"
            ]
           ],
           "sequential": [
            [
             0,
             "#0d0887"
            ],
            [
             0.1111111111111111,
             "#46039f"
            ],
            [
             0.2222222222222222,
             "#7201a8"
            ],
            [
             0.3333333333333333,
             "#9c179e"
            ],
            [
             0.4444444444444444,
             "#bd3786"
            ],
            [
             0.5555555555555556,
             "#d8576b"
            ],
            [
             0.6666666666666666,
             "#ed7953"
            ],
            [
             0.7777777777777778,
             "#fb9f3a"
            ],
            [
             0.8888888888888888,
             "#fdca26"
            ],
            [
             1,
             "#f0f921"
            ]
           ],
           "sequentialminus": [
            [
             0,
             "#0d0887"
            ],
            [
             0.1111111111111111,
             "#46039f"
            ],
            [
             0.2222222222222222,
             "#7201a8"
            ],
            [
             0.3333333333333333,
             "#9c179e"
            ],
            [
             0.4444444444444444,
             "#bd3786"
            ],
            [
             0.5555555555555556,
             "#d8576b"
            ],
            [
             0.6666666666666666,
             "#ed7953"
            ],
            [
             0.7777777777777778,
             "#fb9f3a"
            ],
            [
             0.8888888888888888,
             "#fdca26"
            ],
            [
             1,
             "#f0f921"
            ]
           ]
          },
          "colorway": [
           "#636efa",
           "#EF553B",
           "#00cc96",
           "#ab63fa",
           "#FFA15A",
           "#19d3f3",
           "#FF6692",
           "#B6E880",
           "#FF97FF",
           "#FECB52"
          ],
          "font": {
           "color": "#f2f5fa"
          },
          "geo": {
           "bgcolor": "rgb(17,17,17)",
           "lakecolor": "rgb(17,17,17)",
           "landcolor": "rgb(17,17,17)",
           "showlakes": true,
           "showland": true,
           "subunitcolor": "#506784"
          },
          "hoverlabel": {
           "align": "left"
          },
          "hovermode": "closest",
          "mapbox": {
           "style": "dark"
          },
          "paper_bgcolor": "rgb(17,17,17)",
          "plot_bgcolor": "rgb(17,17,17)",
          "polar": {
           "angularaxis": {
            "gridcolor": "#506784",
            "linecolor": "#506784",
            "ticks": ""
           },
           "bgcolor": "rgb(17,17,17)",
           "radialaxis": {
            "gridcolor": "#506784",
            "linecolor": "#506784",
            "ticks": ""
           }
          },
          "scene": {
           "xaxis": {
            "backgroundcolor": "rgb(17,17,17)",
            "gridcolor": "#506784",
            "gridwidth": 2,
            "linecolor": "#506784",
            "showbackground": true,
            "ticks": "",
            "zerolinecolor": "#C8D4E3"
           },
           "yaxis": {
            "backgroundcolor": "rgb(17,17,17)",
            "gridcolor": "#506784",
            "gridwidth": 2,
            "linecolor": "#506784",
            "showbackground": true,
            "ticks": "",
            "zerolinecolor": "#C8D4E3"
           },
           "zaxis": {
            "backgroundcolor": "rgb(17,17,17)",
            "gridcolor": "#506784",
            "gridwidth": 2,
            "linecolor": "#506784",
            "showbackground": true,
            "ticks": "",
            "zerolinecolor": "#C8D4E3"
           }
          },
          "shapedefaults": {
           "line": {
            "color": "#f2f5fa"
           }
          },
          "sliderdefaults": {
           "bgcolor": "#C8D4E3",
           "bordercolor": "rgb(17,17,17)",
           "borderwidth": 1,
           "tickwidth": 0
          },
          "ternary": {
           "aaxis": {
            "gridcolor": "#506784",
            "linecolor": "#506784",
            "ticks": ""
           },
           "baxis": {
            "gridcolor": "#506784",
            "linecolor": "#506784",
            "ticks": ""
           },
           "bgcolor": "rgb(17,17,17)",
           "caxis": {
            "gridcolor": "#506784",
            "linecolor": "#506784",
            "ticks": ""
           }
          },
          "title": {
           "x": 0.05
          },
          "updatemenudefaults": {
           "bgcolor": "#506784",
           "borderwidth": 0
          },
          "xaxis": {
           "automargin": true,
           "gridcolor": "#283442",
           "linecolor": "#506784",
           "ticks": "",
           "title": {
            "standoff": 15
           },
           "zerolinecolor": "#283442",
           "zerolinewidth": 2
          },
          "yaxis": {
           "automargin": true,
           "gridcolor": "#283442",
           "linecolor": "#506784",
           "ticks": "",
           "title": {
            "standoff": 15
           },
           "zerolinecolor": "#283442",
           "zerolinewidth": 2
          }
         }
        },
        "title": {
         "text": "LINE PLOT SHOWING TOTAL EQUITY OF THE COMPANY OVER THE YEARS (2009-2019)"
        },
        "xaxis": {
         "anchor": "y",
         "domain": [
          0,
          1
         ],
         "title": {
          "text": "index"
         }
        },
        "yaxis": {
         "anchor": "x",
         "domain": [
          0,
          1
         ],
         "title": {
          "text": "value"
         }
        }
       }
      },
      "text/html": [
       "<div>                            <div id=\"0981d871-fe04-43fd-9fa7-1ad3d50705c5\" class=\"plotly-graph-div\" style=\"height:525px; width:100%;\"></div>            <script type=\"text/javascript\">                require([\"plotly\"], function(Plotly) {                    window.PLOTLYENV=window.PLOTLYENV || {};                                    if (document.getElementById(\"0981d871-fe04-43fd-9fa7-1ad3d50705c5\")) {                    Plotly.newPlot(                        \"0981d871-fe04-43fd-9fa7-1ad3d50705c5\",                        [{\"hovertemplate\":\"variable=Equity_Total<br>index=%{x}<br>value=%{y}<extra></extra>\",\"legendgroup\":\"Equity_Total\",\"line\":{\"color\":\"#636efa\",\"dash\":\"solid\"},\"marker\":{\"symbol\":\"circle\"},\"mode\":\"lines\",\"name\":\"Equity_Total\",\"orientation\":\"v\",\"showlegend\":true,\"x\":[\"Dec. 31, 2009\",\"Dec. 31, 2010\",\"Dec. 31, 2011\",\"Dec. 31, 2012\",\"Dec. 31, 2013\",\"Dec. 31, 2014\",\"Dec. 31, 2015\",\"Dec. 31, 2016\",\"Dec. 31, 2017\",\"Dec. 31, 2018\",\"Dec. 31, 2019\"],\"xaxis\":\"x\",\"y\":[25346,31317,31921,33168,33440,30561,25764,23220,18977,19058,21098],\"yaxis\":\"y\",\"type\":\"scatter\"}],                        {\"template\":{\"data\":{\"barpolar\":[{\"marker\":{\"line\":{\"color\":\"rgb(17,17,17)\",\"width\":0.5},\"pattern\":{\"fillmode\":\"overlay\",\"size\":10,\"solidity\":0.2}},\"type\":\"barpolar\"}],\"bar\":[{\"error_x\":{\"color\":\"#f2f5fa\"},\"error_y\":{\"color\":\"#f2f5fa\"},\"marker\":{\"line\":{\"color\":\"rgb(17,17,17)\",\"width\":0.5},\"pattern\":{\"fillmode\":\"overlay\",\"size\":10,\"solidity\":0.2}},\"type\":\"bar\"}],\"carpet\":[{\"aaxis\":{\"endlinecolor\":\"#A2B1C6\",\"gridcolor\":\"#506784\",\"linecolor\":\"#506784\",\"minorgridcolor\":\"#506784\",\"startlinecolor\":\"#A2B1C6\"},\"baxis\":{\"endlinecolor\":\"#A2B1C6\",\"gridcolor\":\"#506784\",\"linecolor\":\"#506784\",\"minorgridcolor\":\"#506784\",\"startlinecolor\":\"#A2B1C6\"},\"type\":\"carpet\"}],\"choropleth\":[{\"colorbar\":{\"outlinewidth\":0,\"ticks\":\"\"},\"type\":\"choropleth\"}],\"contourcarpet\":[{\"colorbar\":{\"outlinewidth\":0,\"ticks\":\"\"},\"type\":\"contourcarpet\"}],\"contour\":[{\"colorbar\":{\"outlinewidth\":0,\"ticks\":\"\"},\"colorscale\":[[0.0,\"#0d0887\"],[0.1111111111111111,\"#46039f\"],[0.2222222222222222,\"#7201a8\"],[0.3333333333333333,\"#9c179e\"],[0.4444444444444444,\"#bd3786\"],[0.5555555555555556,\"#d8576b\"],[0.6666666666666666,\"#ed7953\"],[0.7777777777777778,\"#fb9f3a\"],[0.8888888888888888,\"#fdca26\"],[1.0,\"#f0f921\"]],\"type\":\"contour\"}],\"heatmapgl\":[{\"colorbar\":{\"outlinewidth\":0,\"ticks\":\"\"},\"colorscale\":[[0.0,\"#0d0887\"],[0.1111111111111111,\"#46039f\"],[0.2222222222222222,\"#7201a8\"],[0.3333333333333333,\"#9c179e\"],[0.4444444444444444,\"#bd3786\"],[0.5555555555555556,\"#d8576b\"],[0.6666666666666666,\"#ed7953\"],[0.7777777777777778,\"#fb9f3a\"],[0.8888888888888888,\"#fdca26\"],[1.0,\"#f0f921\"]],\"type\":\"heatmapgl\"}],\"heatmap\":[{\"colorbar\":{\"outlinewidth\":0,\"ticks\":\"\"},\"colorscale\":[[0.0,\"#0d0887\"],[0.1111111111111111,\"#46039f\"],[0.2222222222222222,\"#7201a8\"],[0.3333333333333333,\"#9c179e\"],[0.4444444444444444,\"#bd3786\"],[0.5555555555555556,\"#d8576b\"],[0.6666666666666666,\"#ed7953\"],[0.7777777777777778,\"#fb9f3a\"],[0.8888888888888888,\"#fdca26\"],[1.0,\"#f0f921\"]],\"type\":\"heatmap\"}],\"histogram2dcontour\":[{\"colorbar\":{\"outlinewidth\":0,\"ticks\":\"\"},\"colorscale\":[[0.0,\"#0d0887\"],[0.1111111111111111,\"#46039f\"],[0.2222222222222222,\"#7201a8\"],[0.3333333333333333,\"#9c179e\"],[0.4444444444444444,\"#bd3786\"],[0.5555555555555556,\"#d8576b\"],[0.6666666666666666,\"#ed7953\"],[0.7777777777777778,\"#fb9f3a\"],[0.8888888888888888,\"#fdca26\"],[1.0,\"#f0f921\"]],\"type\":\"histogram2dcontour\"}],\"histogram2d\":[{\"colorbar\":{\"outlinewidth\":0,\"ticks\":\"\"},\"colorscale\":[[0.0,\"#0d0887\"],[0.1111111111111111,\"#46039f\"],[0.2222222222222222,\"#7201a8\"],[0.3333333333333333,\"#9c179e\"],[0.4444444444444444,\"#bd3786\"],[0.5555555555555556,\"#d8576b\"],[0.6666666666666666,\"#ed7953\"],[0.7777777777777778,\"#fb9f3a\"],[0.8888888888888888,\"#fdca26\"],[1.0,\"#f0f921\"]],\"type\":\"histogram2d\"}],\"histogram\":[{\"marker\":{\"pattern\":{\"fillmode\":\"overlay\",\"size\":10,\"solidity\":0.2}},\"type\":\"histogram\"}],\"mesh3d\":[{\"colorbar\":{\"outlinewidth\":0,\"ticks\":\"\"},\"type\":\"mesh3d\"}],\"parcoords\":[{\"line\":{\"colorbar\":{\"outlinewidth\":0,\"ticks\":\"\"}},\"type\":\"parcoords\"}],\"pie\":[{\"automargin\":true,\"type\":\"pie\"}],\"scatter3d\":[{\"line\":{\"colorbar\":{\"outlinewidth\":0,\"ticks\":\"\"}},\"marker\":{\"colorbar\":{\"outlinewidth\":0,\"ticks\":\"\"}},\"type\":\"scatter3d\"}],\"scattercarpet\":[{\"marker\":{\"colorbar\":{\"outlinewidth\":0,\"ticks\":\"\"}},\"type\":\"scattercarpet\"}],\"scattergeo\":[{\"marker\":{\"colorbar\":{\"outlinewidth\":0,\"ticks\":\"\"}},\"type\":\"scattergeo\"}],\"scattergl\":[{\"marker\":{\"line\":{\"color\":\"#283442\"}},\"type\":\"scattergl\"}],\"scattermapbox\":[{\"marker\":{\"colorbar\":{\"outlinewidth\":0,\"ticks\":\"\"}},\"type\":\"scattermapbox\"}],\"scatterpolargl\":[{\"marker\":{\"colorbar\":{\"outlinewidth\":0,\"ticks\":\"\"}},\"type\":\"scatterpolargl\"}],\"scatterpolar\":[{\"marker\":{\"colorbar\":{\"outlinewidth\":0,\"ticks\":\"\"}},\"type\":\"scatterpolar\"}],\"scatter\":[{\"marker\":{\"line\":{\"color\":\"#283442\"}},\"type\":\"scatter\"}],\"scatterternary\":[{\"marker\":{\"colorbar\":{\"outlinewidth\":0,\"ticks\":\"\"}},\"type\":\"scatterternary\"}],\"surface\":[{\"colorbar\":{\"outlinewidth\":0,\"ticks\":\"\"},\"colorscale\":[[0.0,\"#0d0887\"],[0.1111111111111111,\"#46039f\"],[0.2222222222222222,\"#7201a8\"],[0.3333333333333333,\"#9c179e\"],[0.4444444444444444,\"#bd3786\"],[0.5555555555555556,\"#d8576b\"],[0.6666666666666666,\"#ed7953\"],[0.7777777777777778,\"#fb9f3a\"],[0.8888888888888888,\"#fdca26\"],[1.0,\"#f0f921\"]],\"type\":\"surface\"}],\"table\":[{\"cells\":{\"fill\":{\"color\":\"#506784\"},\"line\":{\"color\":\"rgb(17,17,17)\"}},\"header\":{\"fill\":{\"color\":\"#2a3f5f\"},\"line\":{\"color\":\"rgb(17,17,17)\"}},\"type\":\"table\"}]},\"layout\":{\"annotationdefaults\":{\"arrowcolor\":\"#f2f5fa\",\"arrowhead\":0,\"arrowwidth\":1},\"autotypenumbers\":\"strict\",\"coloraxis\":{\"colorbar\":{\"outlinewidth\":0,\"ticks\":\"\"}},\"colorscale\":{\"diverging\":[[0,\"#8e0152\"],[0.1,\"#c51b7d\"],[0.2,\"#de77ae\"],[0.3,\"#f1b6da\"],[0.4,\"#fde0ef\"],[0.5,\"#f7f7f7\"],[0.6,\"#e6f5d0\"],[0.7,\"#b8e186\"],[0.8,\"#7fbc41\"],[0.9,\"#4d9221\"],[1,\"#276419\"]],\"sequential\":[[0.0,\"#0d0887\"],[0.1111111111111111,\"#46039f\"],[0.2222222222222222,\"#7201a8\"],[0.3333333333333333,\"#9c179e\"],[0.4444444444444444,\"#bd3786\"],[0.5555555555555556,\"#d8576b\"],[0.6666666666666666,\"#ed7953\"],[0.7777777777777778,\"#fb9f3a\"],[0.8888888888888888,\"#fdca26\"],[1.0,\"#f0f921\"]],\"sequentialminus\":[[0.0,\"#0d0887\"],[0.1111111111111111,\"#46039f\"],[0.2222222222222222,\"#7201a8\"],[0.3333333333333333,\"#9c179e\"],[0.4444444444444444,\"#bd3786\"],[0.5555555555555556,\"#d8576b\"],[0.6666666666666666,\"#ed7953\"],[0.7777777777777778,\"#fb9f3a\"],[0.8888888888888888,\"#fdca26\"],[1.0,\"#f0f921\"]]},\"colorway\":[\"#636efa\",\"#EF553B\",\"#00cc96\",\"#ab63fa\",\"#FFA15A\",\"#19d3f3\",\"#FF6692\",\"#B6E880\",\"#FF97FF\",\"#FECB52\"],\"font\":{\"color\":\"#f2f5fa\"},\"geo\":{\"bgcolor\":\"rgb(17,17,17)\",\"lakecolor\":\"rgb(17,17,17)\",\"landcolor\":\"rgb(17,17,17)\",\"showlakes\":true,\"showland\":true,\"subunitcolor\":\"#506784\"},\"hoverlabel\":{\"align\":\"left\"},\"hovermode\":\"closest\",\"mapbox\":{\"style\":\"dark\"},\"paper_bgcolor\":\"rgb(17,17,17)\",\"plot_bgcolor\":\"rgb(17,17,17)\",\"polar\":{\"angularaxis\":{\"gridcolor\":\"#506784\",\"linecolor\":\"#506784\",\"ticks\":\"\"},\"bgcolor\":\"rgb(17,17,17)\",\"radialaxis\":{\"gridcolor\":\"#506784\",\"linecolor\":\"#506784\",\"ticks\":\"\"}},\"scene\":{\"xaxis\":{\"backgroundcolor\":\"rgb(17,17,17)\",\"gridcolor\":\"#506784\",\"gridwidth\":2,\"linecolor\":\"#506784\",\"showbackground\":true,\"ticks\":\"\",\"zerolinecolor\":\"#C8D4E3\"},\"yaxis\":{\"backgroundcolor\":\"rgb(17,17,17)\",\"gridcolor\":\"#506784\",\"gridwidth\":2,\"linecolor\":\"#506784\",\"showbackground\":true,\"ticks\":\"\",\"zerolinecolor\":\"#C8D4E3\"},\"zaxis\":{\"backgroundcolor\":\"rgb(17,17,17)\",\"gridcolor\":\"#506784\",\"gridwidth\":2,\"linecolor\":\"#506784\",\"showbackground\":true,\"ticks\":\"\",\"zerolinecolor\":\"#C8D4E3\"}},\"shapedefaults\":{\"line\":{\"color\":\"#f2f5fa\"}},\"sliderdefaults\":{\"bgcolor\":\"#C8D4E3\",\"bordercolor\":\"rgb(17,17,17)\",\"borderwidth\":1,\"tickwidth\":0},\"ternary\":{\"aaxis\":{\"gridcolor\":\"#506784\",\"linecolor\":\"#506784\",\"ticks\":\"\"},\"baxis\":{\"gridcolor\":\"#506784\",\"linecolor\":\"#506784\",\"ticks\":\"\"},\"bgcolor\":\"rgb(17,17,17)\",\"caxis\":{\"gridcolor\":\"#506784\",\"linecolor\":\"#506784\",\"ticks\":\"\"}},\"title\":{\"x\":0.05},\"updatemenudefaults\":{\"bgcolor\":\"#506784\",\"borderwidth\":0},\"xaxis\":{\"automargin\":true,\"gridcolor\":\"#283442\",\"linecolor\":\"#506784\",\"ticks\":\"\",\"title\":{\"standoff\":15},\"zerolinecolor\":\"#283442\",\"zerolinewidth\":2},\"yaxis\":{\"automargin\":true,\"gridcolor\":\"#283442\",\"linecolor\":\"#506784\",\"ticks\":\"\",\"title\":{\"standoff\":15},\"zerolinecolor\":\"#283442\",\"zerolinewidth\":2}}},\"xaxis\":{\"anchor\":\"y\",\"domain\":[0.0,1.0],\"title\":{\"text\":\"index\"}},\"yaxis\":{\"anchor\":\"x\",\"domain\":[0.0,1.0],\"title\":{\"text\":\"value\"}},\"legend\":{\"title\":{\"text\":\"variable\"},\"tracegroupgap\":0},\"title\":{\"text\":\"LINE PLOT SHOWING TOTAL EQUITY OF THE COMPANY OVER THE YEARS (2009-2019)\"}},                        {\"responsive\": true}                    ).then(function(){\n",
       "                            \n",
       "var gd = document.getElementById('0981d871-fe04-43fd-9fa7-1ad3d50705c5');\n",
       "var x = new MutationObserver(function (mutations, observer) {{\n",
       "        var display = window.getComputedStyle(gd).display;\n",
       "        if (!display || display === 'none') {{\n",
       "            console.log([gd, 'removed!']);\n",
       "            Plotly.purge(gd);\n",
       "            observer.disconnect();\n",
       "        }}\n",
       "}});\n",
       "\n",
       "// Listen for the removal of the full notebook cells\n",
       "var notebookContainer = gd.closest('#notebook-container');\n",
       "if (notebookContainer) {{\n",
       "    x.observe(notebookContainer, {childList: true});\n",
       "}}\n",
       "\n",
       "// Listen for the clearing of the current output cell\n",
       "var outputEl = gd.closest('.output');\n",
       "if (outputEl) {{\n",
       "    x.observe(outputEl, {childList: true});\n",
       "}}\n",
       "\n",
       "                        })                };                });            </script>        </div>"
      ]
     },
     "metadata": {},
     "output_type": "display_data"
    }
   ],
   "source": [
    "px.line(data_frame = df, y = ['Equity_Total'], template = 'plotly_dark', title = 'LINE PLOT SHOWING TOTAL EQUITY OF THE COMPANY OVER THE YEARS (2009-2019)')"
   ]
  },
  {
   "cell_type": "markdown",
   "metadata": {},
   "source": [
    "__OBSERVATION__\n",
    "From the plot, we see that equity values rose from the year 2009 and had its peak value at 2013 and then began to fall till 2017. This was due to investor concerns over the consumer staple sector."
   ]
  },
  {
   "cell_type": "markdown",
   "metadata": {},
   "source": [
    "\n",
    "\n",
    "### 3. Current Assets, Current Liabilities and current Ratio Distributions"
   ]
  },
  {
   "cell_type": "markdown",
   "metadata": {},
   "source": [
    "#### Current Assets and Current Liabilities"
   ]
  },
  {
   "cell_type": "code",
   "execution_count": 60,
   "metadata": {},
   "outputs": [
    {
     "data": {
      "text/plain": [
       "CONSOLIDATED BALANCE SHEETS - USD ($) $ in Millions    Cash and cash equivalentsShort-term investment...\n",
       "Category                                                AssetsAssetsAssetsAssetsAssetsAssetsAssetsAssets\n",
       "Dec. 31, 2009                                                                                      17551\n",
       "Dec. 31, 2010                                                                                      21579\n",
       "Dec. 31, 2011                                                                                      25497\n",
       "Dec. 31, 2012                                                                                      30328\n",
       "Dec. 31, 2013                                                                                      31304\n",
       "Dec. 31, 2014                                                                                      32986\n",
       "Dec. 31, 2015                                                                                      33395\n",
       "Dec. 31, 2016                                                                                      34010\n",
       "Dec. 31, 2017                                                                                      36545\n",
       "Dec. 31, 2018                                                                                      30634\n",
       "Dec. 31, 2019                                                                                      20411\n",
       "dtype: object"
      ]
     },
     "execution_count": 60,
     "metadata": {},
     "output_type": "execute_result"
    }
   ],
   "source": [
    "# create a current asset dataframe\n",
    "current_asset = data.loc[0:7].sum()\n",
    "current_asset"
   ]
  },
  {
   "cell_type": "code",
   "execution_count": 61,
   "metadata": {},
   "outputs": [
    {
     "data": {
      "text/html": [
       "<div>\n",
       "<style scoped>\n",
       "    .dataframe tbody tr th:only-of-type {\n",
       "        vertical-align: middle;\n",
       "    }\n",
       "\n",
       "    .dataframe tbody tr th {\n",
       "        vertical-align: top;\n",
       "    }\n",
       "\n",
       "    .dataframe thead th {\n",
       "        text-align: right;\n",
       "    }\n",
       "</style>\n",
       "<table border=\"1\" class=\"dataframe\">\n",
       "  <thead>\n",
       "    <tr style=\"text-align: right;\">\n",
       "      <th>Category</th>\n",
       "      <th>Assets</th>\n",
       "      <th>Liabilities</th>\n",
       "      <th>Equity_Total</th>\n",
       "      <th>Current_Assets</th>\n",
       "    </tr>\n",
       "  </thead>\n",
       "  <tbody>\n",
       "    <tr>\n",
       "      <th>Dec. 31, 2009</th>\n",
       "      <td>48671</td>\n",
       "      <td>23325</td>\n",
       "      <td>25346</td>\n",
       "      <td>17551</td>\n",
       "    </tr>\n",
       "    <tr>\n",
       "      <th>Dec. 31, 2010</th>\n",
       "      <td>72921</td>\n",
       "      <td>41604</td>\n",
       "      <td>31317</td>\n",
       "      <td>21579</td>\n",
       "    </tr>\n",
       "    <tr>\n",
       "      <th>Dec. 31, 2011</th>\n",
       "      <td>79974</td>\n",
       "      <td>48053</td>\n",
       "      <td>31921</td>\n",
       "      <td>25497</td>\n",
       "    </tr>\n",
       "    <tr>\n",
       "      <th>Dec. 31, 2012</th>\n",
       "      <td>86174</td>\n",
       "      <td>53006</td>\n",
       "      <td>33168</td>\n",
       "      <td>30328</td>\n",
       "    </tr>\n",
       "    <tr>\n",
       "      <th>Dec. 31, 2013</th>\n",
       "      <td>90055</td>\n",
       "      <td>56615</td>\n",
       "      <td>33440</td>\n",
       "      <td>31304</td>\n",
       "    </tr>\n",
       "    <tr>\n",
       "      <th>Dec. 31, 2014</th>\n",
       "      <td>92023</td>\n",
       "      <td>61462</td>\n",
       "      <td>30561</td>\n",
       "      <td>32986</td>\n",
       "    </tr>\n",
       "    <tr>\n",
       "      <th>Dec. 31, 2015</th>\n",
       "      <td>90093</td>\n",
       "      <td>64329</td>\n",
       "      <td>25764</td>\n",
       "      <td>33395</td>\n",
       "    </tr>\n",
       "    <tr>\n",
       "      <th>Dec. 31, 2016</th>\n",
       "      <td>87270</td>\n",
       "      <td>64050</td>\n",
       "      <td>23220</td>\n",
       "      <td>34010</td>\n",
       "    </tr>\n",
       "    <tr>\n",
       "      <th>Dec. 31, 2017</th>\n",
       "      <td>87896</td>\n",
       "      <td>68919</td>\n",
       "      <td>18977</td>\n",
       "      <td>36545</td>\n",
       "    </tr>\n",
       "    <tr>\n",
       "      <th>Dec. 31, 2018</th>\n",
       "      <td>83216</td>\n",
       "      <td>64158</td>\n",
       "      <td>19058</td>\n",
       "      <td>30634</td>\n",
       "    </tr>\n",
       "    <tr>\n",
       "      <th>Dec. 31, 2019</th>\n",
       "      <td>86381</td>\n",
       "      <td>65283</td>\n",
       "      <td>21098</td>\n",
       "      <td>20411</td>\n",
       "    </tr>\n",
       "  </tbody>\n",
       "</table>\n",
       "</div>"
      ],
      "text/plain": [
       "Category       Assets  Liabilities Equity_Total Current_Assets\n",
       "Dec. 31, 2009   48671        23325        25346          17551\n",
       "Dec. 31, 2010   72921        41604        31317          21579\n",
       "Dec. 31, 2011   79974        48053        31921          25497\n",
       "Dec. 31, 2012   86174        53006        33168          30328\n",
       "Dec. 31, 2013   90055        56615        33440          31304\n",
       "Dec. 31, 2014   92023        61462        30561          32986\n",
       "Dec. 31, 2015   90093        64329        25764          33395\n",
       "Dec. 31, 2016   87270        64050        23220          34010\n",
       "Dec. 31, 2017   87896        68919        18977          36545\n",
       "Dec. 31, 2018   83216        64158        19058          30634\n",
       "Dec. 31, 2019   86381        65283        21098          20411"
      ]
     },
     "execution_count": 61,
     "metadata": {},
     "output_type": "execute_result"
    }
   ],
   "source": [
    "# transpose this row to become a column in our df dataframe\n",
    "df['Current_Assets'] = current_asset.T\n",
    "\n",
    "df"
   ]
  },
  {
   "cell_type": "code",
   "execution_count": 62,
   "metadata": {},
   "outputs": [
    {
     "data": {
      "text/plain": [
       "CONSOLIDATED BALANCE SHEETS - USD ($) $ in Millions    Accounts payable and accrued expensesNotes and...\n",
       "Category                                               LiabilitiesLiabilitiesLiabilitiesLiabilitiesLi...\n",
       "Dec. 31, 2009                                                                                      13721\n",
       "Dec. 31, 2010                                                                                      18508\n",
       "Dec. 31, 2011                                                                                      24283\n",
       "Dec. 31, 2012                                                                                      27821\n",
       "Dec. 31, 2013                                                                                      27811\n",
       "Dec. 31, 2014                                                                                      32374\n",
       "Dec. 31, 2015                                                                                      26930\n",
       "Dec. 31, 2016                                                                                      26532\n",
       "Dec. 31, 2017                                                                                      27194\n",
       "Dec. 31, 2018                                                                                      29223\n",
       "Dec. 31, 2019                                                                                      26973\n",
       "dtype: object"
      ]
     },
     "execution_count": 62,
     "metadata": {},
     "output_type": "execute_result"
    }
   ],
   "source": [
    "# create dataframe for current liabilities\n",
    "current_liability = data.loc[17:22].sum()\n",
    "current_liability"
   ]
  },
  {
   "cell_type": "code",
   "execution_count": 63,
   "metadata": {},
   "outputs": [
    {
     "data": {
      "text/html": [
       "<div>\n",
       "<style scoped>\n",
       "    .dataframe tbody tr th:only-of-type {\n",
       "        vertical-align: middle;\n",
       "    }\n",
       "\n",
       "    .dataframe tbody tr th {\n",
       "        vertical-align: top;\n",
       "    }\n",
       "\n",
       "    .dataframe thead th {\n",
       "        text-align: right;\n",
       "    }\n",
       "</style>\n",
       "<table border=\"1\" class=\"dataframe\">\n",
       "  <thead>\n",
       "    <tr style=\"text-align: right;\">\n",
       "      <th>Category</th>\n",
       "      <th>Assets</th>\n",
       "      <th>Liabilities</th>\n",
       "      <th>Equity_Total</th>\n",
       "      <th>Current_Assets</th>\n",
       "      <th>current_liability</th>\n",
       "    </tr>\n",
       "  </thead>\n",
       "  <tbody>\n",
       "    <tr>\n",
       "      <th>Dec. 31, 2009</th>\n",
       "      <td>48671</td>\n",
       "      <td>23325</td>\n",
       "      <td>25346</td>\n",
       "      <td>17551</td>\n",
       "      <td>13721</td>\n",
       "    </tr>\n",
       "    <tr>\n",
       "      <th>Dec. 31, 2010</th>\n",
       "      <td>72921</td>\n",
       "      <td>41604</td>\n",
       "      <td>31317</td>\n",
       "      <td>21579</td>\n",
       "      <td>18508</td>\n",
       "    </tr>\n",
       "    <tr>\n",
       "      <th>Dec. 31, 2011</th>\n",
       "      <td>79974</td>\n",
       "      <td>48053</td>\n",
       "      <td>31921</td>\n",
       "      <td>25497</td>\n",
       "      <td>24283</td>\n",
       "    </tr>\n",
       "    <tr>\n",
       "      <th>Dec. 31, 2012</th>\n",
       "      <td>86174</td>\n",
       "      <td>53006</td>\n",
       "      <td>33168</td>\n",
       "      <td>30328</td>\n",
       "      <td>27821</td>\n",
       "    </tr>\n",
       "    <tr>\n",
       "      <th>Dec. 31, 2013</th>\n",
       "      <td>90055</td>\n",
       "      <td>56615</td>\n",
       "      <td>33440</td>\n",
       "      <td>31304</td>\n",
       "      <td>27811</td>\n",
       "    </tr>\n",
       "    <tr>\n",
       "      <th>Dec. 31, 2014</th>\n",
       "      <td>92023</td>\n",
       "      <td>61462</td>\n",
       "      <td>30561</td>\n",
       "      <td>32986</td>\n",
       "      <td>32374</td>\n",
       "    </tr>\n",
       "    <tr>\n",
       "      <th>Dec. 31, 2015</th>\n",
       "      <td>90093</td>\n",
       "      <td>64329</td>\n",
       "      <td>25764</td>\n",
       "      <td>33395</td>\n",
       "      <td>26930</td>\n",
       "    </tr>\n",
       "    <tr>\n",
       "      <th>Dec. 31, 2016</th>\n",
       "      <td>87270</td>\n",
       "      <td>64050</td>\n",
       "      <td>23220</td>\n",
       "      <td>34010</td>\n",
       "      <td>26532</td>\n",
       "    </tr>\n",
       "    <tr>\n",
       "      <th>Dec. 31, 2017</th>\n",
       "      <td>87896</td>\n",
       "      <td>68919</td>\n",
       "      <td>18977</td>\n",
       "      <td>36545</td>\n",
       "      <td>27194</td>\n",
       "    </tr>\n",
       "    <tr>\n",
       "      <th>Dec. 31, 2018</th>\n",
       "      <td>83216</td>\n",
       "      <td>64158</td>\n",
       "      <td>19058</td>\n",
       "      <td>30634</td>\n",
       "      <td>29223</td>\n",
       "    </tr>\n",
       "    <tr>\n",
       "      <th>Dec. 31, 2019</th>\n",
       "      <td>86381</td>\n",
       "      <td>65283</td>\n",
       "      <td>21098</td>\n",
       "      <td>20411</td>\n",
       "      <td>26973</td>\n",
       "    </tr>\n",
       "  </tbody>\n",
       "</table>\n",
       "</div>"
      ],
      "text/plain": [
       "Category       Assets  Liabilities Equity_Total Current_Assets  \\\n",
       "Dec. 31, 2009   48671        23325        25346          17551   \n",
       "Dec. 31, 2010   72921        41604        31317          21579   \n",
       "Dec. 31, 2011   79974        48053        31921          25497   \n",
       "Dec. 31, 2012   86174        53006        33168          30328   \n",
       "Dec. 31, 2013   90055        56615        33440          31304   \n",
       "Dec. 31, 2014   92023        61462        30561          32986   \n",
       "Dec. 31, 2015   90093        64329        25764          33395   \n",
       "Dec. 31, 2016   87270        64050        23220          34010   \n",
       "Dec. 31, 2017   87896        68919        18977          36545   \n",
       "Dec. 31, 2018   83216        64158        19058          30634   \n",
       "Dec. 31, 2019   86381        65283        21098          20411   \n",
       "\n",
       "Category      current_liability  \n",
       "Dec. 31, 2009             13721  \n",
       "Dec. 31, 2010             18508  \n",
       "Dec. 31, 2011             24283  \n",
       "Dec. 31, 2012             27821  \n",
       "Dec. 31, 2013             27811  \n",
       "Dec. 31, 2014             32374  \n",
       "Dec. 31, 2015             26930  \n",
       "Dec. 31, 2016             26532  \n",
       "Dec. 31, 2017             27194  \n",
       "Dec. 31, 2018             29223  \n",
       "Dec. 31, 2019             26973  "
      ]
     },
     "execution_count": 63,
     "metadata": {},
     "output_type": "execute_result"
    }
   ],
   "source": [
    "# transpose this row to become a column in our df dataframe\n",
    "df['current_liability'] = current_liability.T\n",
    "df"
   ]
  },
  {
   "cell_type": "code",
   "execution_count": 64,
   "metadata": {},
   "outputs": [
    {
     "data": {
      "application/vnd.plotly.v1+json": {
       "config": {
        "plotlyServerURL": "https://plot.ly"
       },
       "data": [
        {
         "hovertemplate": "variable=current_liability<br>index=%{x}<br>value=%{y}<extra></extra>",
         "legendgroup": "current_liability",
         "line": {
          "color": "#1F77B4",
          "dash": "solid"
         },
         "marker": {
          "symbol": "circle"
         },
         "mode": "lines",
         "name": "current_liability",
         "orientation": "v",
         "showlegend": true,
         "type": "scatter",
         "x": [
          "Dec. 31, 2009",
          "Dec. 31, 2010",
          "Dec. 31, 2011",
          "Dec. 31, 2012",
          "Dec. 31, 2013",
          "Dec. 31, 2014",
          "Dec. 31, 2015",
          "Dec. 31, 2016",
          "Dec. 31, 2017",
          "Dec. 31, 2018",
          "Dec. 31, 2019"
         ],
         "xaxis": "x",
         "y": [
          13721,
          18508,
          24283,
          27821,
          27811,
          32374,
          26930,
          26532,
          27194,
          29223,
          26973
         ],
         "yaxis": "y"
        },
        {
         "hovertemplate": "variable=Current_Assets<br>index=%{x}<br>value=%{y}<extra></extra>",
         "legendgroup": "Current_Assets",
         "line": {
          "color": "#FF7F0E",
          "dash": "solid"
         },
         "marker": {
          "symbol": "circle"
         },
         "mode": "lines",
         "name": "Current_Assets",
         "orientation": "v",
         "showlegend": true,
         "type": "scatter",
         "x": [
          "Dec. 31, 2009",
          "Dec. 31, 2010",
          "Dec. 31, 2011",
          "Dec. 31, 2012",
          "Dec. 31, 2013",
          "Dec. 31, 2014",
          "Dec. 31, 2015",
          "Dec. 31, 2016",
          "Dec. 31, 2017",
          "Dec. 31, 2018",
          "Dec. 31, 2019"
         ],
         "xaxis": "x",
         "y": [
          17551,
          21579,
          25497,
          30328,
          31304,
          32986,
          33395,
          34010,
          36545,
          30634,
          20411
         ],
         "yaxis": "y"
        }
       ],
       "layout": {
        "legend": {
         "title": {
          "text": "variable"
         },
         "tracegroupgap": 0
        },
        "template": {
         "data": {
          "pie": [
           {
            "automargin": true,
            "type": "pie"
           }
          ]
         },
         "layout": {
          "xaxis": {
           "showgrid": true,
           "title": {
            "standoff": 15
           }
          },
          "yaxis": {
           "showgrid": true,
           "title": {
            "standoff": 15
           }
          }
         }
        },
        "title": {
         "text": "LINE PLOT SHOWING TRENDS OF CURRENT ASSETS AND LIABILITIES OVER THE YEARS (2009-2019)"
        },
        "xaxis": {
         "anchor": "y",
         "domain": [
          0,
          1
         ],
         "title": {
          "text": "index"
         }
        },
        "yaxis": {
         "anchor": "x",
         "domain": [
          0,
          1
         ],
         "title": {
          "text": "value"
         }
        }
       }
      },
      "text/html": [
       "<div>                            <div id=\"b7ffc9c1-1a33-4a2c-acc8-43f47b6cc4bf\" class=\"plotly-graph-div\" style=\"height:525px; width:100%;\"></div>            <script type=\"text/javascript\">                require([\"plotly\"], function(Plotly) {                    window.PLOTLYENV=window.PLOTLYENV || {};                                    if (document.getElementById(\"b7ffc9c1-1a33-4a2c-acc8-43f47b6cc4bf\")) {                    Plotly.newPlot(                        \"b7ffc9c1-1a33-4a2c-acc8-43f47b6cc4bf\",                        [{\"hovertemplate\":\"variable=current_liability<br>index=%{x}<br>value=%{y}<extra></extra>\",\"legendgroup\":\"current_liability\",\"line\":{\"color\":\"#1F77B4\",\"dash\":\"solid\"},\"marker\":{\"symbol\":\"circle\"},\"mode\":\"lines\",\"name\":\"current_liability\",\"orientation\":\"v\",\"showlegend\":true,\"x\":[\"Dec. 31, 2009\",\"Dec. 31, 2010\",\"Dec. 31, 2011\",\"Dec. 31, 2012\",\"Dec. 31, 2013\",\"Dec. 31, 2014\",\"Dec. 31, 2015\",\"Dec. 31, 2016\",\"Dec. 31, 2017\",\"Dec. 31, 2018\",\"Dec. 31, 2019\"],\"xaxis\":\"x\",\"y\":[13721,18508,24283,27821,27811,32374,26930,26532,27194,29223,26973],\"yaxis\":\"y\",\"type\":\"scatter\"},{\"hovertemplate\":\"variable=Current_Assets<br>index=%{x}<br>value=%{y}<extra></extra>\",\"legendgroup\":\"Current_Assets\",\"line\":{\"color\":\"#FF7F0E\",\"dash\":\"solid\"},\"marker\":{\"symbol\":\"circle\"},\"mode\":\"lines\",\"name\":\"Current_Assets\",\"orientation\":\"v\",\"showlegend\":true,\"x\":[\"Dec. 31, 2009\",\"Dec. 31, 2010\",\"Dec. 31, 2011\",\"Dec. 31, 2012\",\"Dec. 31, 2013\",\"Dec. 31, 2014\",\"Dec. 31, 2015\",\"Dec. 31, 2016\",\"Dec. 31, 2017\",\"Dec. 31, 2018\",\"Dec. 31, 2019\"],\"xaxis\":\"x\",\"y\":[17551,21579,25497,30328,31304,32986,33395,34010,36545,30634,20411],\"yaxis\":\"y\",\"type\":\"scatter\"}],                        {\"template\":{\"data\":{\"pie\":[{\"automargin\":true,\"type\":\"pie\"}]},\"layout\":{\"xaxis\":{\"showgrid\":true,\"title\":{\"standoff\":15}},\"yaxis\":{\"showgrid\":true,\"title\":{\"standoff\":15}}}},\"xaxis\":{\"anchor\":\"y\",\"domain\":[0.0,1.0],\"title\":{\"text\":\"index\"}},\"yaxis\":{\"anchor\":\"x\",\"domain\":[0.0,1.0],\"title\":{\"text\":\"value\"}},\"legend\":{\"title\":{\"text\":\"variable\"},\"tracegroupgap\":0},\"title\":{\"text\":\"LINE PLOT SHOWING TRENDS OF CURRENT ASSETS AND LIABILITIES OVER THE YEARS (2009-2019)\"}},                        {\"responsive\": true}                    ).then(function(){\n",
       "                            \n",
       "var gd = document.getElementById('b7ffc9c1-1a33-4a2c-acc8-43f47b6cc4bf');\n",
       "var x = new MutationObserver(function (mutations, observer) {{\n",
       "        var display = window.getComputedStyle(gd).display;\n",
       "        if (!display || display === 'none') {{\n",
       "            console.log([gd, 'removed!']);\n",
       "            Plotly.purge(gd);\n",
       "            observer.disconnect();\n",
       "        }}\n",
       "}});\n",
       "\n",
       "// Listen for the removal of the full notebook cells\n",
       "var notebookContainer = gd.closest('#notebook-container');\n",
       "if (notebookContainer) {{\n",
       "    x.observe(notebookContainer, {childList: true});\n",
       "}}\n",
       "\n",
       "// Listen for the clearing of the current output cell\n",
       "var outputEl = gd.closest('.output');\n",
       "if (outputEl) {{\n",
       "    x.observe(outputEl, {childList: true});\n",
       "}}\n",
       "\n",
       "                        })                };                });            </script>        </div>"
      ]
     },
     "metadata": {},
     "output_type": "display_data"
    }
   ],
   "source": [
    "# visualization of current liablity and assets over time and comment on percentage of current liability to total liability\n",
    "px.line(data_frame = df, y = ['current_liability', 'Current_Assets'], template = 'gridon', title = 'LINE PLOT SHOWING TRENDS OF CURRENT ASSETS AND LIABILITIES OVER THE YEARS (2009-2019)')"
   ]
  },
  {
   "cell_type": "markdown",
   "metadata": {},
   "source": [
    "From this line plot, it is seen that the current assets were higher than than that of the current liabilities. Although, we see the assets reducing in 2018 and liabilities increasing and in the year 2019, liabilities were greater than the assets. More data would be needed to further analyze this trend.\n",
    "\n",
    "Also, we see from the table that the current assets make up about 38% of the total assets value."
   ]
  },
  {
   "cell_type": "markdown",
   "metadata": {},
   "source": [
    "#### Current Ratio"
   ]
  },
  {
   "cell_type": "code",
   "execution_count": 65,
   "metadata": {},
   "outputs": [
    {
     "data": {
      "text/plain": [
       "Dec. 31, 2009    1.279134\n",
       "Dec. 31, 2010    1.165928\n",
       "Dec. 31, 2011    1.049994\n",
       "Dec. 31, 2012    1.090112\n",
       "Dec. 31, 2013    1.125598\n",
       "Dec. 31, 2014    1.018904\n",
       "Dec. 31, 2015    1.240067\n",
       "Dec. 31, 2016    1.281848\n",
       "Dec. 31, 2017    1.343863\n",
       "Dec. 31, 2018    1.048284\n",
       "Dec. 31, 2019     0.75672\n",
       "dtype: object"
      ]
     },
     "execution_count": 65,
     "metadata": {},
     "output_type": "execute_result"
    }
   ],
   "source": [
    "current_ratio = df['Current_Assets'] / df['current_liability']\n",
    "current_ratio"
   ]
  },
  {
   "cell_type": "code",
   "execution_count": 66,
   "metadata": {},
   "outputs": [
    {
     "data": {
      "text/html": [
       "<div>\n",
       "<style scoped>\n",
       "    .dataframe tbody tr th:only-of-type {\n",
       "        vertical-align: middle;\n",
       "    }\n",
       "\n",
       "    .dataframe tbody tr th {\n",
       "        vertical-align: top;\n",
       "    }\n",
       "\n",
       "    .dataframe thead th {\n",
       "        text-align: right;\n",
       "    }\n",
       "</style>\n",
       "<table border=\"1\" class=\"dataframe\">\n",
       "  <thead>\n",
       "    <tr style=\"text-align: right;\">\n",
       "      <th>Category</th>\n",
       "      <th>Assets</th>\n",
       "      <th>Liabilities</th>\n",
       "      <th>Equity_Total</th>\n",
       "      <th>Current_Assets</th>\n",
       "      <th>current_liability</th>\n",
       "      <th>current_ratio</th>\n",
       "    </tr>\n",
       "  </thead>\n",
       "  <tbody>\n",
       "    <tr>\n",
       "      <th>Dec. 31, 2009</th>\n",
       "      <td>48671</td>\n",
       "      <td>23325</td>\n",
       "      <td>25346</td>\n",
       "      <td>17551</td>\n",
       "      <td>13721</td>\n",
       "      <td>1.279134</td>\n",
       "    </tr>\n",
       "    <tr>\n",
       "      <th>Dec. 31, 2010</th>\n",
       "      <td>72921</td>\n",
       "      <td>41604</td>\n",
       "      <td>31317</td>\n",
       "      <td>21579</td>\n",
       "      <td>18508</td>\n",
       "      <td>1.165928</td>\n",
       "    </tr>\n",
       "    <tr>\n",
       "      <th>Dec. 31, 2011</th>\n",
       "      <td>79974</td>\n",
       "      <td>48053</td>\n",
       "      <td>31921</td>\n",
       "      <td>25497</td>\n",
       "      <td>24283</td>\n",
       "      <td>1.049994</td>\n",
       "    </tr>\n",
       "    <tr>\n",
       "      <th>Dec. 31, 2012</th>\n",
       "      <td>86174</td>\n",
       "      <td>53006</td>\n",
       "      <td>33168</td>\n",
       "      <td>30328</td>\n",
       "      <td>27821</td>\n",
       "      <td>1.090112</td>\n",
       "    </tr>\n",
       "    <tr>\n",
       "      <th>Dec. 31, 2013</th>\n",
       "      <td>90055</td>\n",
       "      <td>56615</td>\n",
       "      <td>33440</td>\n",
       "      <td>31304</td>\n",
       "      <td>27811</td>\n",
       "      <td>1.125598</td>\n",
       "    </tr>\n",
       "    <tr>\n",
       "      <th>Dec. 31, 2014</th>\n",
       "      <td>92023</td>\n",
       "      <td>61462</td>\n",
       "      <td>30561</td>\n",
       "      <td>32986</td>\n",
       "      <td>32374</td>\n",
       "      <td>1.018904</td>\n",
       "    </tr>\n",
       "    <tr>\n",
       "      <th>Dec. 31, 2015</th>\n",
       "      <td>90093</td>\n",
       "      <td>64329</td>\n",
       "      <td>25764</td>\n",
       "      <td>33395</td>\n",
       "      <td>26930</td>\n",
       "      <td>1.240067</td>\n",
       "    </tr>\n",
       "    <tr>\n",
       "      <th>Dec. 31, 2016</th>\n",
       "      <td>87270</td>\n",
       "      <td>64050</td>\n",
       "      <td>23220</td>\n",
       "      <td>34010</td>\n",
       "      <td>26532</td>\n",
       "      <td>1.281848</td>\n",
       "    </tr>\n",
       "    <tr>\n",
       "      <th>Dec. 31, 2017</th>\n",
       "      <td>87896</td>\n",
       "      <td>68919</td>\n",
       "      <td>18977</td>\n",
       "      <td>36545</td>\n",
       "      <td>27194</td>\n",
       "      <td>1.343863</td>\n",
       "    </tr>\n",
       "    <tr>\n",
       "      <th>Dec. 31, 2018</th>\n",
       "      <td>83216</td>\n",
       "      <td>64158</td>\n",
       "      <td>19058</td>\n",
       "      <td>30634</td>\n",
       "      <td>29223</td>\n",
       "      <td>1.048284</td>\n",
       "    </tr>\n",
       "    <tr>\n",
       "      <th>Dec. 31, 2019</th>\n",
       "      <td>86381</td>\n",
       "      <td>65283</td>\n",
       "      <td>21098</td>\n",
       "      <td>20411</td>\n",
       "      <td>26973</td>\n",
       "      <td>0.75672</td>\n",
       "    </tr>\n",
       "  </tbody>\n",
       "</table>\n",
       "</div>"
      ],
      "text/plain": [
       "Category       Assets  Liabilities Equity_Total Current_Assets  \\\n",
       "Dec. 31, 2009   48671        23325        25346          17551   \n",
       "Dec. 31, 2010   72921        41604        31317          21579   \n",
       "Dec. 31, 2011   79974        48053        31921          25497   \n",
       "Dec. 31, 2012   86174        53006        33168          30328   \n",
       "Dec. 31, 2013   90055        56615        33440          31304   \n",
       "Dec. 31, 2014   92023        61462        30561          32986   \n",
       "Dec. 31, 2015   90093        64329        25764          33395   \n",
       "Dec. 31, 2016   87270        64050        23220          34010   \n",
       "Dec. 31, 2017   87896        68919        18977          36545   \n",
       "Dec. 31, 2018   83216        64158        19058          30634   \n",
       "Dec. 31, 2019   86381        65283        21098          20411   \n",
       "\n",
       "Category      current_liability current_ratio  \n",
       "Dec. 31, 2009             13721      1.279134  \n",
       "Dec. 31, 2010             18508      1.165928  \n",
       "Dec. 31, 2011             24283      1.049994  \n",
       "Dec. 31, 2012             27821      1.090112  \n",
       "Dec. 31, 2013             27811      1.125598  \n",
       "Dec. 31, 2014             32374      1.018904  \n",
       "Dec. 31, 2015             26930      1.240067  \n",
       "Dec. 31, 2016             26532      1.281848  \n",
       "Dec. 31, 2017             27194      1.343863  \n",
       "Dec. 31, 2018             29223      1.048284  \n",
       "Dec. 31, 2019             26973       0.75672  "
      ]
     },
     "execution_count": 66,
     "metadata": {},
     "output_type": "execute_result"
    }
   ],
   "source": [
    "# transpose it to a datframe\n",
    "df['current_ratio'] = current_ratio.T\n",
    "df"
   ]
  },
  {
   "cell_type": "code",
   "execution_count": 67,
   "metadata": {},
   "outputs": [
    {
     "data": {
      "application/vnd.plotly.v1+json": {
       "config": {
        "plotlyServerURL": "https://plot.ly"
       },
       "data": [
        {
         "hovertemplate": "variable=current_ratio<br>index=%{x}<br>value=%{y}<extra></extra>",
         "legendgroup": "current_ratio",
         "line": {
          "color": "#1F77B4",
          "dash": "solid"
         },
         "marker": {
          "symbol": "circle"
         },
         "mode": "lines",
         "name": "current_ratio",
         "orientation": "v",
         "showlegend": true,
         "type": "scatter",
         "x": [
          "Dec. 31, 2009",
          "Dec. 31, 2010",
          "Dec. 31, 2011",
          "Dec. 31, 2012",
          "Dec. 31, 2013",
          "Dec. 31, 2014",
          "Dec. 31, 2015",
          "Dec. 31, 2016",
          "Dec. 31, 2017",
          "Dec. 31, 2018",
          "Dec. 31, 2019"
         ],
         "xaxis": "x",
         "y": [
          1.279134173894031,
          1.1659282472444348,
          1.049993822839023,
          1.0901117860608893,
          1.1255977850490813,
          1.0189040588126275,
          1.24006683995544,
          1.28184833408714,
          1.3438626167536956,
          1.048283885980221,
          0.7567196826456086
         ],
         "yaxis": "y"
        }
       ],
       "layout": {
        "legend": {
         "title": {
          "text": "variable"
         },
         "tracegroupgap": 0
        },
        "template": {
         "data": {
          "pie": [
           {
            "automargin": true,
            "type": "pie"
           }
          ]
         },
         "layout": {
          "xaxis": {
           "showgrid": true,
           "title": {
            "standoff": 15
           }
          },
          "yaxis": {
           "showgrid": true,
           "title": {
            "standoff": 15
           }
          }
         }
        },
        "title": {
         "text": "LINE PLOT SHOWING CURRENT RATIO TRENDS FROM 2009-2019"
        },
        "xaxis": {
         "anchor": "y",
         "domain": [
          0,
          1
         ],
         "title": {
          "text": "index"
         }
        },
        "yaxis": {
         "anchor": "x",
         "domain": [
          0,
          1
         ],
         "title": {
          "text": "value"
         }
        }
       }
      },
      "text/html": [
       "<div>                            <div id=\"667ccb80-0daa-4f53-9043-bf02296deb45\" class=\"plotly-graph-div\" style=\"height:525px; width:100%;\"></div>            <script type=\"text/javascript\">                require([\"plotly\"], function(Plotly) {                    window.PLOTLYENV=window.PLOTLYENV || {};                                    if (document.getElementById(\"667ccb80-0daa-4f53-9043-bf02296deb45\")) {                    Plotly.newPlot(                        \"667ccb80-0daa-4f53-9043-bf02296deb45\",                        [{\"hovertemplate\":\"variable=current_ratio<br>index=%{x}<br>value=%{y}<extra></extra>\",\"legendgroup\":\"current_ratio\",\"line\":{\"color\":\"#1F77B4\",\"dash\":\"solid\"},\"marker\":{\"symbol\":\"circle\"},\"mode\":\"lines\",\"name\":\"current_ratio\",\"orientation\":\"v\",\"showlegend\":true,\"x\":[\"Dec. 31, 2009\",\"Dec. 31, 2010\",\"Dec. 31, 2011\",\"Dec. 31, 2012\",\"Dec. 31, 2013\",\"Dec. 31, 2014\",\"Dec. 31, 2015\",\"Dec. 31, 2016\",\"Dec. 31, 2017\",\"Dec. 31, 2018\",\"Dec. 31, 2019\"],\"xaxis\":\"x\",\"y\":[1.279134173894031,1.1659282472444348,1.049993822839023,1.0901117860608893,1.1255977850490813,1.0189040588126275,1.24006683995544,1.28184833408714,1.3438626167536956,1.048283885980221,0.7567196826456086],\"yaxis\":\"y\",\"type\":\"scatter\"}],                        {\"template\":{\"data\":{\"pie\":[{\"automargin\":true,\"type\":\"pie\"}]},\"layout\":{\"xaxis\":{\"showgrid\":true,\"title\":{\"standoff\":15}},\"yaxis\":{\"showgrid\":true,\"title\":{\"standoff\":15}}}},\"xaxis\":{\"anchor\":\"y\",\"domain\":[0.0,1.0],\"title\":{\"text\":\"index\"}},\"yaxis\":{\"anchor\":\"x\",\"domain\":[0.0,1.0],\"title\":{\"text\":\"value\"}},\"legend\":{\"title\":{\"text\":\"variable\"},\"tracegroupgap\":0},\"title\":{\"text\":\"LINE PLOT SHOWING CURRENT RATIO TRENDS FROM 2009-2019\"}},                        {\"responsive\": true}                    ).then(function(){\n",
       "                            \n",
       "var gd = document.getElementById('667ccb80-0daa-4f53-9043-bf02296deb45');\n",
       "var x = new MutationObserver(function (mutations, observer) {{\n",
       "        var display = window.getComputedStyle(gd).display;\n",
       "        if (!display || display === 'none') {{\n",
       "            console.log([gd, 'removed!']);\n",
       "            Plotly.purge(gd);\n",
       "            observer.disconnect();\n",
       "        }}\n",
       "}});\n",
       "\n",
       "// Listen for the removal of the full notebook cells\n",
       "var notebookContainer = gd.closest('#notebook-container');\n",
       "if (notebookContainer) {{\n",
       "    x.observe(notebookContainer, {childList: true});\n",
       "}}\n",
       "\n",
       "// Listen for the clearing of the current output cell\n",
       "var outputEl = gd.closest('.output');\n",
       "if (outputEl) {{\n",
       "    x.observe(outputEl, {childList: true});\n",
       "}}\n",
       "\n",
       "                        })                };                });            </script>        </div>"
      ]
     },
     "metadata": {},
     "output_type": "display_data"
    }
   ],
   "source": [
    "# current ratio distribution over the years (bar chart)\n",
    "px.line(data_frame = df, y = ['current_ratio'], template = 'gridon', title = 'LINE PLOT SHOWING CURRENT RATIO TRENDS FROM 2009-2019')"
   ]
  },
  {
   "cell_type": "markdown",
   "metadata": {},
   "source": [
    "From the plot shown above, we see that for most years, the current ratio has a value higher than 1 and if the current ratio is greater than 1, it indicates that the company has more current assets than current liabilities. This suggests that the company should, in theory, be able to cover its short-term obligations.\n",
    "Now, we see that the year 2019, the current ratio is less than 1, meaning that the company may have had difficulty meeting its short-term obligations with the current assets it had then."
   ]
  },
  {
   "cell_type": "markdown",
   "metadata": {},
   "source": [
    "\n",
    "\n",
    "### Total Debt and Debt-to-Equity-Ratio"
   ]
  },
  {
   "cell_type": "code",
   "execution_count": 68,
   "metadata": {},
   "outputs": [
    {
     "data": {
      "text/plain": [
       "CONSOLIDATED BALANCE SHEETS - USD ($) $ in Millions    Accounts payable and accrued expensesNotes and...\n",
       "Category                                               LiabilitiesLiabilitiesLiabilitiesLiabilitiesLi...\n",
       "Dec. 31, 2009                                                                                      23325\n",
       "Dec. 31, 2010                                                                                      41604\n",
       "Dec. 31, 2011                                                                                      48053\n",
       "Dec. 31, 2012                                                                                      53006\n",
       "Dec. 31, 2013                                                                                      56615\n",
       "Dec. 31, 2014                                                                                      61462\n",
       "Dec. 31, 2015                                                                                      64329\n",
       "Dec. 31, 2016                                                                                      64050\n",
       "Dec. 31, 2017                                                                                      68919\n",
       "Dec. 31, 2018                                                                                      64158\n",
       "Dec. 31, 2019                                                                                      65283\n",
       "dtype: object"
      ]
     },
     "execution_count": 68,
     "metadata": {},
     "output_type": "execute_result"
    }
   ],
   "source": [
    "total_debt = data.loc[17:25].sum()\n",
    "total_debt"
   ]
  },
  {
   "cell_type": "code",
   "execution_count": 69,
   "metadata": {},
   "outputs": [
    {
     "data": {
      "text/html": [
       "<div>\n",
       "<style scoped>\n",
       "    .dataframe tbody tr th:only-of-type {\n",
       "        vertical-align: middle;\n",
       "    }\n",
       "\n",
       "    .dataframe tbody tr th {\n",
       "        vertical-align: top;\n",
       "    }\n",
       "\n",
       "    .dataframe thead th {\n",
       "        text-align: right;\n",
       "    }\n",
       "</style>\n",
       "<table border=\"1\" class=\"dataframe\">\n",
       "  <thead>\n",
       "    <tr style=\"text-align: right;\">\n",
       "      <th>Category</th>\n",
       "      <th>Assets</th>\n",
       "      <th>Liabilities</th>\n",
       "      <th>Equity_Total</th>\n",
       "      <th>Current_Assets</th>\n",
       "      <th>current_liability</th>\n",
       "      <th>current_ratio</th>\n",
       "      <th>total_debt</th>\n",
       "    </tr>\n",
       "  </thead>\n",
       "  <tbody>\n",
       "    <tr>\n",
       "      <th>Dec. 31, 2009</th>\n",
       "      <td>48671</td>\n",
       "      <td>23325</td>\n",
       "      <td>25346</td>\n",
       "      <td>17551</td>\n",
       "      <td>13721</td>\n",
       "      <td>1.279134</td>\n",
       "      <td>23325</td>\n",
       "    </tr>\n",
       "    <tr>\n",
       "      <th>Dec. 31, 2010</th>\n",
       "      <td>72921</td>\n",
       "      <td>41604</td>\n",
       "      <td>31317</td>\n",
       "      <td>21579</td>\n",
       "      <td>18508</td>\n",
       "      <td>1.165928</td>\n",
       "      <td>41604</td>\n",
       "    </tr>\n",
       "    <tr>\n",
       "      <th>Dec. 31, 2011</th>\n",
       "      <td>79974</td>\n",
       "      <td>48053</td>\n",
       "      <td>31921</td>\n",
       "      <td>25497</td>\n",
       "      <td>24283</td>\n",
       "      <td>1.049994</td>\n",
       "      <td>48053</td>\n",
       "    </tr>\n",
       "    <tr>\n",
       "      <th>Dec. 31, 2012</th>\n",
       "      <td>86174</td>\n",
       "      <td>53006</td>\n",
       "      <td>33168</td>\n",
       "      <td>30328</td>\n",
       "      <td>27821</td>\n",
       "      <td>1.090112</td>\n",
       "      <td>53006</td>\n",
       "    </tr>\n",
       "    <tr>\n",
       "      <th>Dec. 31, 2013</th>\n",
       "      <td>90055</td>\n",
       "      <td>56615</td>\n",
       "      <td>33440</td>\n",
       "      <td>31304</td>\n",
       "      <td>27811</td>\n",
       "      <td>1.125598</td>\n",
       "      <td>56615</td>\n",
       "    </tr>\n",
       "    <tr>\n",
       "      <th>Dec. 31, 2014</th>\n",
       "      <td>92023</td>\n",
       "      <td>61462</td>\n",
       "      <td>30561</td>\n",
       "      <td>32986</td>\n",
       "      <td>32374</td>\n",
       "      <td>1.018904</td>\n",
       "      <td>61462</td>\n",
       "    </tr>\n",
       "    <tr>\n",
       "      <th>Dec. 31, 2015</th>\n",
       "      <td>90093</td>\n",
       "      <td>64329</td>\n",
       "      <td>25764</td>\n",
       "      <td>33395</td>\n",
       "      <td>26930</td>\n",
       "      <td>1.240067</td>\n",
       "      <td>64329</td>\n",
       "    </tr>\n",
       "    <tr>\n",
       "      <th>Dec. 31, 2016</th>\n",
       "      <td>87270</td>\n",
       "      <td>64050</td>\n",
       "      <td>23220</td>\n",
       "      <td>34010</td>\n",
       "      <td>26532</td>\n",
       "      <td>1.281848</td>\n",
       "      <td>64050</td>\n",
       "    </tr>\n",
       "    <tr>\n",
       "      <th>Dec. 31, 2017</th>\n",
       "      <td>87896</td>\n",
       "      <td>68919</td>\n",
       "      <td>18977</td>\n",
       "      <td>36545</td>\n",
       "      <td>27194</td>\n",
       "      <td>1.343863</td>\n",
       "      <td>68919</td>\n",
       "    </tr>\n",
       "    <tr>\n",
       "      <th>Dec. 31, 2018</th>\n",
       "      <td>83216</td>\n",
       "      <td>64158</td>\n",
       "      <td>19058</td>\n",
       "      <td>30634</td>\n",
       "      <td>29223</td>\n",
       "      <td>1.048284</td>\n",
       "      <td>64158</td>\n",
       "    </tr>\n",
       "    <tr>\n",
       "      <th>Dec. 31, 2019</th>\n",
       "      <td>86381</td>\n",
       "      <td>65283</td>\n",
       "      <td>21098</td>\n",
       "      <td>20411</td>\n",
       "      <td>26973</td>\n",
       "      <td>0.75672</td>\n",
       "      <td>65283</td>\n",
       "    </tr>\n",
       "  </tbody>\n",
       "</table>\n",
       "</div>"
      ],
      "text/plain": [
       "Category       Assets  Liabilities Equity_Total Current_Assets  \\\n",
       "Dec. 31, 2009   48671        23325        25346          17551   \n",
       "Dec. 31, 2010   72921        41604        31317          21579   \n",
       "Dec. 31, 2011   79974        48053        31921          25497   \n",
       "Dec. 31, 2012   86174        53006        33168          30328   \n",
       "Dec. 31, 2013   90055        56615        33440          31304   \n",
       "Dec. 31, 2014   92023        61462        30561          32986   \n",
       "Dec. 31, 2015   90093        64329        25764          33395   \n",
       "Dec. 31, 2016   87270        64050        23220          34010   \n",
       "Dec. 31, 2017   87896        68919        18977          36545   \n",
       "Dec. 31, 2018   83216        64158        19058          30634   \n",
       "Dec. 31, 2019   86381        65283        21098          20411   \n",
       "\n",
       "Category      current_liability current_ratio total_debt  \n",
       "Dec. 31, 2009             13721      1.279134      23325  \n",
       "Dec. 31, 2010             18508      1.165928      41604  \n",
       "Dec. 31, 2011             24283      1.049994      48053  \n",
       "Dec. 31, 2012             27821      1.090112      53006  \n",
       "Dec. 31, 2013             27811      1.125598      56615  \n",
       "Dec. 31, 2014             32374      1.018904      61462  \n",
       "Dec. 31, 2015             26930      1.240067      64329  \n",
       "Dec. 31, 2016             26532      1.281848      64050  \n",
       "Dec. 31, 2017             27194      1.343863      68919  \n",
       "Dec. 31, 2018             29223      1.048284      64158  \n",
       "Dec. 31, 2019             26973       0.75672      65283  "
      ]
     },
     "execution_count": 69,
     "metadata": {},
     "output_type": "execute_result"
    }
   ],
   "source": [
    "df['total_debt'] = total_debt.T\n",
    "df"
   ]
  },
  {
   "cell_type": "code",
   "execution_count": 70,
   "metadata": {},
   "outputs": [
    {
     "data": {
      "application/vnd.plotly.v1+json": {
       "config": {
        "plotlyServerURL": "https://plot.ly"
       },
       "data": [
        {
         "hovertemplate": "variable=total_debt<br>index=%{x}<br>value=%{y}<extra></extra>",
         "legendgroup": "total_debt",
         "line": {
          "color": "#1F77B4",
          "dash": "solid"
         },
         "marker": {
          "symbol": "circle"
         },
         "mode": "lines",
         "name": "total_debt",
         "orientation": "v",
         "showlegend": true,
         "type": "scatter",
         "x": [
          "Dec. 31, 2009",
          "Dec. 31, 2010",
          "Dec. 31, 2011",
          "Dec. 31, 2012",
          "Dec. 31, 2013",
          "Dec. 31, 2014",
          "Dec. 31, 2015",
          "Dec. 31, 2016",
          "Dec. 31, 2017",
          "Dec. 31, 2018",
          "Dec. 31, 2019"
         ],
         "xaxis": "x",
         "y": [
          23325,
          41604,
          48053,
          53006,
          56615,
          61462,
          64329,
          64050,
          68919,
          64158,
          65283
         ],
         "yaxis": "y"
        }
       ],
       "layout": {
        "legend": {
         "title": {
          "text": "variable"
         },
         "tracegroupgap": 0
        },
        "template": {
         "data": {
          "pie": [
           {
            "automargin": true,
            "type": "pie"
           }
          ],
          "scatter": [
           {
            "line": {
             "width": 3
            },
            "marker": {
             "size": 9
            },
            "type": "scatter"
           }
          ],
          "scatter3d": [
           {
            "line": {
             "width": 3
            },
            "marker": {
             "size": 9
            },
            "type": "scatter3d"
           }
          ],
          "scattergeo": [
           {
            "line": {
             "width": 3
            },
            "marker": {
             "size": 9
            },
            "type": "scattergeo"
           }
          ],
          "scattergl": [
           {
            "line": {
             "width": 3
            },
            "marker": {
             "size": 9
            },
            "type": "scattergl"
           }
          ],
          "scatterpolar": [
           {
            "line": {
             "width": 3
            },
            "marker": {
             "size": 9
            },
            "type": "scatterpolar"
           }
          ],
          "scatterpolargl": [
           {
            "line": {
             "width": 3
            },
            "marker": {
             "size": 9
            },
            "type": "scatterpolargl"
           }
          ],
          "scatterternary": [
           {
            "line": {
             "width": 3
            },
            "marker": {
             "size": 9
            },
            "type": "scatterternary"
           }
          ],
          "table": [
           {
            "cells": {
             "height": 30
            },
            "header": {
             "height": 36
            },
            "type": "table"
           }
          ]
         },
         "layout": {
          "font": {
           "size": 18
          },
          "xaxis": {
           "title": {
            "standoff": 15
           }
          },
          "yaxis": {
           "title": {
            "standoff": 15
           }
          }
         }
        },
        "title": {
         "text": "TOTAL DEBT OWED BY THE FIRM (2009 - 2019)"
        },
        "xaxis": {
         "anchor": "y",
         "domain": [
          0,
          1
         ],
         "title": {
          "text": "index"
         }
        },
        "yaxis": {
         "anchor": "x",
         "domain": [
          0,
          1
         ],
         "title": {
          "text": "value"
         }
        }
       }
      },
      "text/html": [
       "<div>                            <div id=\"3a632a46-e50f-4c4b-ad1e-65926a0e0a9f\" class=\"plotly-graph-div\" style=\"height:525px; width:100%;\"></div>            <script type=\"text/javascript\">                require([\"plotly\"], function(Plotly) {                    window.PLOTLYENV=window.PLOTLYENV || {};                                    if (document.getElementById(\"3a632a46-e50f-4c4b-ad1e-65926a0e0a9f\")) {                    Plotly.newPlot(                        \"3a632a46-e50f-4c4b-ad1e-65926a0e0a9f\",                        [{\"hovertemplate\":\"variable=total_debt<br>index=%{x}<br>value=%{y}<extra></extra>\",\"legendgroup\":\"total_debt\",\"line\":{\"color\":\"#1F77B4\",\"dash\":\"solid\"},\"marker\":{\"symbol\":\"circle\"},\"mode\":\"lines\",\"name\":\"total_debt\",\"orientation\":\"v\",\"showlegend\":true,\"x\":[\"Dec. 31, 2009\",\"Dec. 31, 2010\",\"Dec. 31, 2011\",\"Dec. 31, 2012\",\"Dec. 31, 2013\",\"Dec. 31, 2014\",\"Dec. 31, 2015\",\"Dec. 31, 2016\",\"Dec. 31, 2017\",\"Dec. 31, 2018\",\"Dec. 31, 2019\"],\"xaxis\":\"x\",\"y\":[23325,41604,48053,53006,56615,61462,64329,64050,68919,64158,65283],\"yaxis\":\"y\",\"type\":\"scatter\"}],                        {\"template\":{\"data\":{\"pie\":[{\"automargin\":true,\"type\":\"pie\"}],\"scatter3d\":[{\"line\":{\"width\":3},\"marker\":{\"size\":9},\"type\":\"scatter3d\"}],\"scattergeo\":[{\"line\":{\"width\":3},\"marker\":{\"size\":9},\"type\":\"scattergeo\"}],\"scattergl\":[{\"line\":{\"width\":3},\"marker\":{\"size\":9},\"type\":\"scattergl\"}],\"scatterpolargl\":[{\"line\":{\"width\":3},\"marker\":{\"size\":9},\"type\":\"scatterpolargl\"}],\"scatterpolar\":[{\"line\":{\"width\":3},\"marker\":{\"size\":9},\"type\":\"scatterpolar\"}],\"scatter\":[{\"line\":{\"width\":3},\"marker\":{\"size\":9},\"type\":\"scatter\"}],\"scatterternary\":[{\"line\":{\"width\":3},\"marker\":{\"size\":9},\"type\":\"scatterternary\"}],\"table\":[{\"cells\":{\"height\":30},\"header\":{\"height\":36},\"type\":\"table\"}]},\"layout\":{\"font\":{\"size\":18},\"xaxis\":{\"title\":{\"standoff\":15}},\"yaxis\":{\"title\":{\"standoff\":15}}}},\"xaxis\":{\"anchor\":\"y\",\"domain\":[0.0,1.0],\"title\":{\"text\":\"index\"}},\"yaxis\":{\"anchor\":\"x\",\"domain\":[0.0,1.0],\"title\":{\"text\":\"value\"}},\"legend\":{\"title\":{\"text\":\"variable\"},\"tracegroupgap\":0},\"title\":{\"text\":\"TOTAL DEBT OWED BY THE FIRM (2009 - 2019)\"}},                        {\"responsive\": true}                    ).then(function(){\n",
       "                            \n",
       "var gd = document.getElementById('3a632a46-e50f-4c4b-ad1e-65926a0e0a9f');\n",
       "var x = new MutationObserver(function (mutations, observer) {{\n",
       "        var display = window.getComputedStyle(gd).display;\n",
       "        if (!display || display === 'none') {{\n",
       "            console.log([gd, 'removed!']);\n",
       "            Plotly.purge(gd);\n",
       "            observer.disconnect();\n",
       "        }}\n",
       "}});\n",
       "\n",
       "// Listen for the removal of the full notebook cells\n",
       "var notebookContainer = gd.closest('#notebook-container');\n",
       "if (notebookContainer) {{\n",
       "    x.observe(notebookContainer, {childList: true});\n",
       "}}\n",
       "\n",
       "// Listen for the clearing of the current output cell\n",
       "var outputEl = gd.closest('.output');\n",
       "if (outputEl) {{\n",
       "    x.observe(outputEl, {childList: true});\n",
       "}}\n",
       "\n",
       "                        })                };                });            </script>        </div>"
      ]
     },
     "metadata": {},
     "output_type": "display_data"
    }
   ],
   "source": [
    "# debt trend over the years (visual)\n",
    "px.line(data_frame = df, y = ['total_debt'], template = 'presentation', title = 'TOTAL DEBT OWED BY THE FIRM (2009 - 2019)')"
   ]
  },
  {
   "cell_type": "markdown",
   "metadata": {},
   "source": [
    "We see the debt values increased continuously from 2009 upwards and this is not good for business. "
   ]
  },
  {
   "cell_type": "code",
   "execution_count": 71,
   "metadata": {},
   "outputs": [
    {
     "data": {
      "text/html": [
       "<div>\n",
       "<style scoped>\n",
       "    .dataframe tbody tr th:only-of-type {\n",
       "        vertical-align: middle;\n",
       "    }\n",
       "\n",
       "    .dataframe tbody tr th {\n",
       "        vertical-align: top;\n",
       "    }\n",
       "\n",
       "    .dataframe thead th {\n",
       "        text-align: right;\n",
       "    }\n",
       "</style>\n",
       "<table border=\"1\" class=\"dataframe\">\n",
       "  <thead>\n",
       "    <tr style=\"text-align: right;\">\n",
       "      <th>Category</th>\n",
       "      <th>Assets</th>\n",
       "      <th>Liabilities</th>\n",
       "      <th>Equity_Total</th>\n",
       "      <th>Current_Assets</th>\n",
       "      <th>current_liability</th>\n",
       "      <th>current_ratio</th>\n",
       "      <th>total_debt</th>\n",
       "      <th>debt_to_equity_ratio</th>\n",
       "    </tr>\n",
       "  </thead>\n",
       "  <tbody>\n",
       "    <tr>\n",
       "      <th>Dec. 31, 2009</th>\n",
       "      <td>48671</td>\n",
       "      <td>23325</td>\n",
       "      <td>25346</td>\n",
       "      <td>17551</td>\n",
       "      <td>13721</td>\n",
       "      <td>1.279134</td>\n",
       "      <td>23325</td>\n",
       "      <td>0.920264</td>\n",
       "    </tr>\n",
       "    <tr>\n",
       "      <th>Dec. 31, 2010</th>\n",
       "      <td>72921</td>\n",
       "      <td>41604</td>\n",
       "      <td>31317</td>\n",
       "      <td>21579</td>\n",
       "      <td>18508</td>\n",
       "      <td>1.165928</td>\n",
       "      <td>41604</td>\n",
       "      <td>1.32848</td>\n",
       "    </tr>\n",
       "    <tr>\n",
       "      <th>Dec. 31, 2011</th>\n",
       "      <td>79974</td>\n",
       "      <td>48053</td>\n",
       "      <td>31921</td>\n",
       "      <td>25497</td>\n",
       "      <td>24283</td>\n",
       "      <td>1.049994</td>\n",
       "      <td>48053</td>\n",
       "      <td>1.505373</td>\n",
       "    </tr>\n",
       "    <tr>\n",
       "      <th>Dec. 31, 2012</th>\n",
       "      <td>86174</td>\n",
       "      <td>53006</td>\n",
       "      <td>33168</td>\n",
       "      <td>30328</td>\n",
       "      <td>27821</td>\n",
       "      <td>1.090112</td>\n",
       "      <td>53006</td>\n",
       "      <td>1.598107</td>\n",
       "    </tr>\n",
       "    <tr>\n",
       "      <th>Dec. 31, 2013</th>\n",
       "      <td>90055</td>\n",
       "      <td>56615</td>\n",
       "      <td>33440</td>\n",
       "      <td>31304</td>\n",
       "      <td>27811</td>\n",
       "      <td>1.125598</td>\n",
       "      <td>56615</td>\n",
       "      <td>1.693032</td>\n",
       "    </tr>\n",
       "    <tr>\n",
       "      <th>Dec. 31, 2014</th>\n",
       "      <td>92023</td>\n",
       "      <td>61462</td>\n",
       "      <td>30561</td>\n",
       "      <td>32986</td>\n",
       "      <td>32374</td>\n",
       "      <td>1.018904</td>\n",
       "      <td>61462</td>\n",
       "      <td>2.011125</td>\n",
       "    </tr>\n",
       "    <tr>\n",
       "      <th>Dec. 31, 2015</th>\n",
       "      <td>90093</td>\n",
       "      <td>64329</td>\n",
       "      <td>25764</td>\n",
       "      <td>33395</td>\n",
       "      <td>26930</td>\n",
       "      <td>1.240067</td>\n",
       "      <td>64329</td>\n",
       "      <td>2.496856</td>\n",
       "    </tr>\n",
       "    <tr>\n",
       "      <th>Dec. 31, 2016</th>\n",
       "      <td>87270</td>\n",
       "      <td>64050</td>\n",
       "      <td>23220</td>\n",
       "      <td>34010</td>\n",
       "      <td>26532</td>\n",
       "      <td>1.281848</td>\n",
       "      <td>64050</td>\n",
       "      <td>2.758398</td>\n",
       "    </tr>\n",
       "    <tr>\n",
       "      <th>Dec. 31, 2017</th>\n",
       "      <td>87896</td>\n",
       "      <td>68919</td>\n",
       "      <td>18977</td>\n",
       "      <td>36545</td>\n",
       "      <td>27194</td>\n",
       "      <td>1.343863</td>\n",
       "      <td>68919</td>\n",
       "      <td>3.631712</td>\n",
       "    </tr>\n",
       "    <tr>\n",
       "      <th>Dec. 31, 2018</th>\n",
       "      <td>83216</td>\n",
       "      <td>64158</td>\n",
       "      <td>19058</td>\n",
       "      <td>30634</td>\n",
       "      <td>29223</td>\n",
       "      <td>1.048284</td>\n",
       "      <td>64158</td>\n",
       "      <td>3.36646</td>\n",
       "    </tr>\n",
       "    <tr>\n",
       "      <th>Dec. 31, 2019</th>\n",
       "      <td>86381</td>\n",
       "      <td>65283</td>\n",
       "      <td>21098</td>\n",
       "      <td>20411</td>\n",
       "      <td>26973</td>\n",
       "      <td>0.75672</td>\n",
       "      <td>65283</td>\n",
       "      <td>3.094274</td>\n",
       "    </tr>\n",
       "  </tbody>\n",
       "</table>\n",
       "</div>"
      ],
      "text/plain": [
       "Category       Assets  Liabilities Equity_Total Current_Assets  \\\n",
       "Dec. 31, 2009   48671        23325        25346          17551   \n",
       "Dec. 31, 2010   72921        41604        31317          21579   \n",
       "Dec. 31, 2011   79974        48053        31921          25497   \n",
       "Dec. 31, 2012   86174        53006        33168          30328   \n",
       "Dec. 31, 2013   90055        56615        33440          31304   \n",
       "Dec. 31, 2014   92023        61462        30561          32986   \n",
       "Dec. 31, 2015   90093        64329        25764          33395   \n",
       "Dec. 31, 2016   87270        64050        23220          34010   \n",
       "Dec. 31, 2017   87896        68919        18977          36545   \n",
       "Dec. 31, 2018   83216        64158        19058          30634   \n",
       "Dec. 31, 2019   86381        65283        21098          20411   \n",
       "\n",
       "Category      current_liability current_ratio total_debt debt_to_equity_ratio  \n",
       "Dec. 31, 2009             13721      1.279134      23325             0.920264  \n",
       "Dec. 31, 2010             18508      1.165928      41604              1.32848  \n",
       "Dec. 31, 2011             24283      1.049994      48053             1.505373  \n",
       "Dec. 31, 2012             27821      1.090112      53006             1.598107  \n",
       "Dec. 31, 2013             27811      1.125598      56615             1.693032  \n",
       "Dec. 31, 2014             32374      1.018904      61462             2.011125  \n",
       "Dec. 31, 2015             26930      1.240067      64329             2.496856  \n",
       "Dec. 31, 2016             26532      1.281848      64050             2.758398  \n",
       "Dec. 31, 2017             27194      1.343863      68919             3.631712  \n",
       "Dec. 31, 2018             29223      1.048284      64158              3.36646  \n",
       "Dec. 31, 2019             26973       0.75672      65283             3.094274  "
      ]
     },
     "execution_count": 71,
     "metadata": {},
     "output_type": "execute_result"
    }
   ],
   "source": [
    "df['debt_to_equity_ratio'] = df['total_debt']/df['Equity_Total']\n",
    "df"
   ]
  },
  {
   "cell_type": "code",
   "execution_count": 72,
   "metadata": {},
   "outputs": [
    {
     "data": {
      "application/vnd.plotly.v1+json": {
       "config": {
        "plotlyServerURL": "https://plot.ly"
       },
       "data": [
        {
         "hovertemplate": "variable=debt_to_equity_ratio<br>index=%{x}<br>value=%{y}<extra></extra>",
         "legendgroup": "debt_to_equity_ratio",
         "line": {
          "color": "#1F77B4",
          "dash": "solid"
         },
         "marker": {
          "symbol": "circle"
         },
         "mode": "lines",
         "name": "debt_to_equity_ratio",
         "orientation": "v",
         "showlegend": true,
         "type": "scatter",
         "x": [
          "Dec. 31, 2009",
          "Dec. 31, 2010",
          "Dec. 31, 2011",
          "Dec. 31, 2012",
          "Dec. 31, 2013",
          "Dec. 31, 2014",
          "Dec. 31, 2015",
          "Dec. 31, 2016",
          "Dec. 31, 2017",
          "Dec. 31, 2018",
          "Dec. 31, 2019"
         ],
         "xaxis": "x",
         "y": [
          0.9202635524343091,
          1.3284797394386436,
          1.5053726387017952,
          1.5981066087795466,
          1.6930322966507176,
          2.0111252904028007,
          2.4968560782487192,
          2.7583979328165373,
          3.6317120725088263,
          3.3664602791478644,
          3.0942743387998863
         ],
         "yaxis": "y"
        }
       ],
       "layout": {
        "legend": {
         "title": {
          "text": "variable"
         },
         "tracegroupgap": 0
        },
        "template": {
         "data": {
          "pie": [
           {
            "automargin": true,
            "type": "pie"
           }
          ],
          "scatter": [
           {
            "line": {
             "width": 3
            },
            "marker": {
             "size": 9
            },
            "type": "scatter"
           }
          ],
          "scatter3d": [
           {
            "line": {
             "width": 3
            },
            "marker": {
             "size": 9
            },
            "type": "scatter3d"
           }
          ],
          "scattergeo": [
           {
            "line": {
             "width": 3
            },
            "marker": {
             "size": 9
            },
            "type": "scattergeo"
           }
          ],
          "scattergl": [
           {
            "line": {
             "width": 3
            },
            "marker": {
             "size": 9
            },
            "type": "scattergl"
           }
          ],
          "scatterpolar": [
           {
            "line": {
             "width": 3
            },
            "marker": {
             "size": 9
            },
            "type": "scatterpolar"
           }
          ],
          "scatterpolargl": [
           {
            "line": {
             "width": 3
            },
            "marker": {
             "size": 9
            },
            "type": "scatterpolargl"
           }
          ],
          "scatterternary": [
           {
            "line": {
             "width": 3
            },
            "marker": {
             "size": 9
            },
            "type": "scatterternary"
           }
          ],
          "table": [
           {
            "cells": {
             "height": 30
            },
            "header": {
             "height": 36
            },
            "type": "table"
           }
          ]
         },
         "layout": {
          "font": {
           "size": 18
          },
          "xaxis": {
           "title": {
            "standoff": 15
           }
          },
          "yaxis": {
           "title": {
            "standoff": 15
           }
          }
         }
        },
        "title": {
         "text": "DEBT-TO-EQUITY RATIO OF THE FIRM (2009 - 2019)"
        },
        "xaxis": {
         "anchor": "y",
         "domain": [
          0,
          1
         ],
         "title": {
          "text": "index"
         }
        },
        "yaxis": {
         "anchor": "x",
         "domain": [
          0,
          1
         ],
         "title": {
          "text": "value"
         }
        }
       }
      },
      "text/html": [
       "<div>                            <div id=\"43a9c929-d0a5-43f6-87ab-68a54e2784b3\" class=\"plotly-graph-div\" style=\"height:525px; width:100%;\"></div>            <script type=\"text/javascript\">                require([\"plotly\"], function(Plotly) {                    window.PLOTLYENV=window.PLOTLYENV || {};                                    if (document.getElementById(\"43a9c929-d0a5-43f6-87ab-68a54e2784b3\")) {                    Plotly.newPlot(                        \"43a9c929-d0a5-43f6-87ab-68a54e2784b3\",                        [{\"hovertemplate\":\"variable=debt_to_equity_ratio<br>index=%{x}<br>value=%{y}<extra></extra>\",\"legendgroup\":\"debt_to_equity_ratio\",\"line\":{\"color\":\"#1F77B4\",\"dash\":\"solid\"},\"marker\":{\"symbol\":\"circle\"},\"mode\":\"lines\",\"name\":\"debt_to_equity_ratio\",\"orientation\":\"v\",\"showlegend\":true,\"x\":[\"Dec. 31, 2009\",\"Dec. 31, 2010\",\"Dec. 31, 2011\",\"Dec. 31, 2012\",\"Dec. 31, 2013\",\"Dec. 31, 2014\",\"Dec. 31, 2015\",\"Dec. 31, 2016\",\"Dec. 31, 2017\",\"Dec. 31, 2018\",\"Dec. 31, 2019\"],\"xaxis\":\"x\",\"y\":[0.9202635524343091,1.3284797394386436,1.5053726387017952,1.5981066087795466,1.6930322966507176,2.0111252904028007,2.4968560782487192,2.7583979328165373,3.6317120725088263,3.3664602791478644,3.0942743387998863],\"yaxis\":\"y\",\"type\":\"scatter\"}],                        {\"template\":{\"data\":{\"pie\":[{\"automargin\":true,\"type\":\"pie\"}],\"scatter3d\":[{\"line\":{\"width\":3},\"marker\":{\"size\":9},\"type\":\"scatter3d\"}],\"scattergeo\":[{\"line\":{\"width\":3},\"marker\":{\"size\":9},\"type\":\"scattergeo\"}],\"scattergl\":[{\"line\":{\"width\":3},\"marker\":{\"size\":9},\"type\":\"scattergl\"}],\"scatterpolargl\":[{\"line\":{\"width\":3},\"marker\":{\"size\":9},\"type\":\"scatterpolargl\"}],\"scatterpolar\":[{\"line\":{\"width\":3},\"marker\":{\"size\":9},\"type\":\"scatterpolar\"}],\"scatter\":[{\"line\":{\"width\":3},\"marker\":{\"size\":9},\"type\":\"scatter\"}],\"scatterternary\":[{\"line\":{\"width\":3},\"marker\":{\"size\":9},\"type\":\"scatterternary\"}],\"table\":[{\"cells\":{\"height\":30},\"header\":{\"height\":36},\"type\":\"table\"}]},\"layout\":{\"font\":{\"size\":18},\"xaxis\":{\"title\":{\"standoff\":15}},\"yaxis\":{\"title\":{\"standoff\":15}}}},\"xaxis\":{\"anchor\":\"y\",\"domain\":[0.0,1.0],\"title\":{\"text\":\"index\"}},\"yaxis\":{\"anchor\":\"x\",\"domain\":[0.0,1.0],\"title\":{\"text\":\"value\"}},\"legend\":{\"title\":{\"text\":\"variable\"},\"tracegroupgap\":0},\"title\":{\"text\":\"DEBT-TO-EQUITY RATIO OF THE FIRM (2009 - 2019)\"}},                        {\"responsive\": true}                    ).then(function(){\n",
       "                            \n",
       "var gd = document.getElementById('43a9c929-d0a5-43f6-87ab-68a54e2784b3');\n",
       "var x = new MutationObserver(function (mutations, observer) {{\n",
       "        var display = window.getComputedStyle(gd).display;\n",
       "        if (!display || display === 'none') {{\n",
       "            console.log([gd, 'removed!']);\n",
       "            Plotly.purge(gd);\n",
       "            observer.disconnect();\n",
       "        }}\n",
       "}});\n",
       "\n",
       "// Listen for the removal of the full notebook cells\n",
       "var notebookContainer = gd.closest('#notebook-container');\n",
       "if (notebookContainer) {{\n",
       "    x.observe(notebookContainer, {childList: true});\n",
       "}}\n",
       "\n",
       "// Listen for the clearing of the current output cell\n",
       "var outputEl = gd.closest('.output');\n",
       "if (outputEl) {{\n",
       "    x.observe(outputEl, {childList: true});\n",
       "}}\n",
       "\n",
       "                        })                };                });            </script>        </div>"
      ]
     },
     "metadata": {},
     "output_type": "display_data"
    }
   ],
   "source": [
    "#visualization for debt to equity ratio\n",
    "px.line(data_frame = df, y = ['debt_to_equity_ratio'], template = 'presentation', title = 'DEBT-TO-EQUITY RATIO OF THE FIRM (2009 - 2019)')"
   ]
  },
  {
   "cell_type": "markdown",
   "metadata": {},
   "source": [
    "A ratio greater than 1 indicates that the company has more debt than equity. This implies a higher level of financial leverage, which can increase the risk for investors and creditors."
   ]
  },
  {
   "cell_type": "markdown",
   "metadata": {},
   "source": [
    "<a id='conclusions'></a>\n",
    "\n",
    "## Conclusions\n",
    "\n",
    "From the analysis and visualizations shown, we can deduce that\n",
    "- The total assets to liabilities ratio showed the financial strength of the firm during those periods.\n",
    "- The current ratio, having an average value greater than 1 which shows healthy liquidity, operational flexibility and also predicts that the firm is in good position to make short-term obligations\n",
    "- The debt chart shows that a lot of work has to be done, despite the financial strength of the firm to avoid interest expense\n",
    "- A very high debt-to-equity-ratio means suggests higher financial leverage, increased financial risk and "
   ]
  },
  {
   "cell_type": "code",
   "execution_count": null,
   "metadata": {
    "collapsed": true
   },
   "outputs": [],
   "source": []
  }
 ],
 "metadata": {
  "kernelspec": {
   "display_name": "Python 3 (ipykernel)",
   "language": "python",
   "name": "python3"
  },
  "language_info": {
   "codemirror_mode": {
    "name": "ipython",
    "version": 3
   },
   "file_extension": ".py",
   "mimetype": "text/x-python",
   "name": "python",
   "nbconvert_exporter": "python",
   "pygments_lexer": "ipython3",
   "version": "3.11.3"
  }
 },
 "nbformat": 4,
 "nbformat_minor": 2
}
